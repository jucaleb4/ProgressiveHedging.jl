{
 "cells": [
  {
   "cell_type": "markdown",
   "id": "f32f3996-77ca-4ddd-98c9-89134fcf9142",
   "metadata": {},
   "source": [
    "## Viewing PowerSimulations as Optimization Model\n",
    "\n",
    "This is a jupyter notebook for loading 5 bus simulation. The goal is to visualize it as a JuMP so we can later manipulate constraints.\n",
    "\n",
    "First we'll load packages and load files."
   ]
  },
  {
   "cell_type": "code",
   "execution_count": 1,
   "id": "edd5e18d-8c1a-418f-a7e5-afe61022e616",
   "metadata": {},
   "outputs": [
    {
     "name": "stderr",
     "output_type": "stream",
     "text": [
      "\u001b[32m\u001b[1m  Activating\u001b[22m\u001b[39m project at `/lustre/eaglefs/projects/pvb/cju/ProgressiveHedging.jl`\n"
     ]
    }
   ],
   "source": [
    "using Pkg\n",
    "Pkg.activate(\"..\")"
   ]
  },
  {
   "cell_type": "code",
   "execution_count": 2,
   "id": "86b6e8a7-e4b7-47f3-ab4d-d025e7ed9b31",
   "metadata": {},
   "outputs": [],
   "source": [
    "using PowerSystems\n",
    "using PowerSimulations\n",
    "using Dates\n",
    "using Logging\n",
    "using DataFrames\n",
    "logger = configure_logging(console_level = Logging.Info)\n",
    "const PSI = PowerSimulations\n",
    "const PSY = PowerSystems\n",
    "using DrWatson"
   ]
  },
  {
   "cell_type": "code",
   "execution_count": 3,
   "id": "79dd6736-36f3-41aa-9b5a-e9299de81afa",
   "metadata": {},
   "outputs": [
    {
     "name": "stderr",
     "output_type": "stream",
     "text": [
      "\u001b[36m\u001b[1m[ \u001b[22m\u001b[39m\u001b[36m\u001b[1mInfo: \u001b[22m\u001b[39mXpress: Found license file /nopt/nrel/apps/xpressmp/8.13.0/bin/xpauth.xpr\n",
      "\u001b[36m\u001b[1m[ \u001b[22m\u001b[39m\u001b[36m\u001b[1mInfo: \u001b[22m\u001b[39mXpress: Development license detected.\n"
     ]
    },
    {
     "data": {
      "text/plain": [
       "MathOptInterface.OptimizerWithAttributes(Xpress.Optimizer, Pair{MathOptInterface.AbstractOptimizerAttribute, Any}[MathOptInterface.RawOptimizerAttribute(\"MIPRELSTOP\") => 1.0e-5, MathOptInterface.RawOptimizerAttribute(\"OUTPUTLOG\") => 1, MathOptInterface.RawOptimizerAttribute(\"PRESOLVE\") => 0, MathOptInterface.RawOptimizerAttribute(\"MAXTIME\") => 300])"
      ]
     },
     "execution_count": 3,
     "metadata": {},
     "output_type": "execute_result"
    }
   ],
   "source": [
    "using JuMP\n",
    "using Xpress\n",
    "solver = optimizer_with_attributes(Xpress.Optimizer, \"MIPRELSTOP\" => 1e-5, \"OUTPUTLOG\" => 1, \"PRESOLVE\" => 0,  \"MAXTIME\" => 300)\n",
    "#using Cbc\n",
    "#solver = optimizer_with_attributes(Cbc.Optimizer, \"MIPRELSTOP\" => 1e-5, \"OUTPUTLOG\" => 1, \"PRESOLVE\" => 0, \"MAXTIME\" => 300)"
   ]
  },
  {
   "cell_type": "code",
   "execution_count": 4,
   "id": "45749d1d-80dd-4956-8caf-4edc9de3e1b8",
   "metadata": {},
   "outputs": [
    {
     "name": "stdout",
     "output_type": "stream",
     "text": [
      "(originalsim = \"/lustre/eaglefs/projects/pvb/5_bus_battery_testing/data/new_systems/pv=30_storagehours=10_wind=30/sys.json\", interval = 24, horizon = 168, steps = 3, battery = true)\n"
     ]
    },
    {
     "data": {
      "text/plain": [
       "\"battery=true_horizon=168_interval=24_originalsim=/lustre/eaglefs/projects/pvb/5_bus_battery_testing/data/new_systems/pv=30_storagehours=10_wind=30/sys.json_steps=3\""
      ]
     },
     "execution_count": 4,
     "metadata": {},
     "output_type": "execute_result"
    }
   ],
   "source": [
    "### Parsing Args\n",
    "sys_name = \"/lustre/eaglefs/projects/pvb/5_bus_battery_testing/data/new_systems/pv=30_storagehours=10_wind=30/sys.json\"\n",
    "interval = 24\n",
    "horizon = 168\n",
    "steps = 3\n",
    "battery = true\n",
    "\n",
    "params = (\n",
    "    originalsim = sys_name, # replace(split(sys_name, \"/\")[end-1], \"=\" => \"-\"),\n",
    "    interval = interval,\n",
    "    horizon = horizon,\n",
    "    steps = steps,\n",
    "    battery = battery\n",
    ")\n",
    "println(params)\n",
    "name = savename(params)"
   ]
  },
  {
   "cell_type": "markdown",
   "id": "3e0b9562-8a2a-4f7d-bcb2-8a30a4a2698b",
   "metadata": {},
   "source": [
    "First, we will create the PowerSystem."
   ]
  },
  {
   "cell_type": "code",
   "execution_count": 5,
   "id": "978ddb68-f8db-4037-9eff-6ac1807e8afb",
   "metadata": {
    "scrolled": true,
    "tags": []
   },
   "outputs": [
    {
     "name": "stderr",
     "output_type": "stream",
     "text": [
      "\u001b[33m\u001b[1m┌ \u001b[22m\u001b[39m\u001b[33m\u001b[1mWarning: \u001b[22m\u001b[39mOverwriting ThermalStandard existing model\n",
      "\u001b[33m\u001b[1m└ \u001b[22m\u001b[39m\u001b[90m@ PowerSimulations ~/.julia/packages/PowerSimulations/HKwUO/src/core/device_model.jl:84\u001b[39m\n",
      "\u001b[33m\u001b[1m┌ \u001b[22m\u001b[39m\u001b[33m\u001b[1mWarning: \u001b[22m\u001b[39mOverwriting Line existing model\n",
      "\u001b[33m\u001b[1m└ \u001b[22m\u001b[39m\u001b[90m@ PowerSimulations ~/.julia/packages/PowerSimulations/HKwUO/src/core/device_model.jl:84\u001b[39m\n",
      "\u001b[33m\u001b[1m┌ \u001b[22m\u001b[39m\u001b[33m\u001b[1mWarning: \u001b[22m\u001b[39mOverwriting Transformer2W existing model\n",
      "\u001b[33m\u001b[1m└ \u001b[22m\u001b[39m\u001b[90m@ PowerSimulations ~/.julia/packages/PowerSimulations/HKwUO/src/core/device_model.jl:84\u001b[39m\n",
      "\u001b[33m\u001b[1m┌ \u001b[22m\u001b[39m\u001b[33m\u001b[1mWarning: \u001b[22m\u001b[39mOverwriting TapTransformer existing model\n",
      "\u001b[33m\u001b[1m└ \u001b[22m\u001b[39m\u001b[90m@ PowerSimulations ~/.julia/packages/PowerSimulations/HKwUO/src/core/device_model.jl:84\u001b[39m\n",
      "\u001b[33m\u001b[1m┌ \u001b[22m\u001b[39m\u001b[33m\u001b[1mWarning: \u001b[22m\u001b[39mOverwriting HVDCLine existing model\n",
      "\u001b[33m\u001b[1m└ \u001b[22m\u001b[39m\u001b[90m@ PowerSimulations ~/.julia/packages/PowerSimulations/HKwUO/src/core/device_model.jl:84\u001b[39m\n",
      "\u001b[36m\u001b[1m[ \u001b[22m\u001b[39m\u001b[36m\u001b[1mInfo: \u001b[22m\u001b[39mLoaded time series from storage file existing=sys_time_series_storage.h5 new=/tmp/scratch/jl_CiF15z compression=CompressionSettings(false, CompressionTypes.DEFLATE = 1, 3, true)\n",
      "\u001b[33m\u001b[1m┌ \u001b[22m\u001b[39m\u001b[33m\u001b[1mWarning: \u001b[22m\u001b[39mInvalid range\n",
      "\u001b[33m\u001b[1m│ \u001b[22m\u001b[39m  valid_info.struct_name = \"Bus\"\n",
      "\u001b[33m\u001b[1m│ \u001b[22m\u001b[39m  field_name = \"magnitude\"\n",
      "\u001b[33m\u001b[1m│ \u001b[22m\u001b[39m  valid_range = \"voltage_limits\"\n",
      "\u001b[33m\u001b[1m│ \u001b[22m\u001b[39m  valid_info.ist_struct =\n",
      "\u001b[33m\u001b[1m│ \u001b[22m\u001b[39m   node_a (Bus):\n",
      "\u001b[33m\u001b[1m│ \u001b[22m\u001b[39m      number: 1\n",
      "\u001b[33m\u001b[1m│ \u001b[22m\u001b[39m      name: node_a\n",
      "\u001b[33m\u001b[1m│ \u001b[22m\u001b[39m      bustype: BusTypes.PV = 3\n",
      "\u001b[33m\u001b[1m│ \u001b[22m\u001b[39m      angle: 0.0\n",
      "\u001b[33m\u001b[1m│ \u001b[22m\u001b[39m      magnitude: 0.01\n",
      "\u001b[33m\u001b[1m│ \u001b[22m\u001b[39m      voltage_limits: (min = 0.95, max = 1.05)\n",
      "\u001b[33m\u001b[1m│ \u001b[22m\u001b[39m      base_voltage: 100.0\n",
      "\u001b[33m\u001b[1m│ \u001b[22m\u001b[39m      area: nothing (Area)\n",
      "\u001b[33m\u001b[1m│ \u001b[22m\u001b[39m      load_zone: zone1 (LoadZone)\n",
      "\u001b[33m\u001b[1m│ \u001b[22m\u001b[39m      ext: Dict{String, Any}()\n",
      "\u001b[33m\u001b[1m│ \u001b[22m\u001b[39m      InfrastructureSystems.SystemUnitsSettings:\n",
      "\u001b[33m\u001b[1m│ \u001b[22m\u001b[39m         base_value: 100.0\n",
      "\u001b[33m\u001b[1m│ \u001b[22m\u001b[39m         unit_system: UnitSystem.DEVICE_BASE = 1\n",
      "\u001b[33m\u001b[1m└ \u001b[22m\u001b[39m\u001b[90m@ InfrastructureSystems ~/.julia/packages/InfrastructureSystems/Oc56m/src/validation.jl:222\u001b[39m\n",
      "\u001b[33m\u001b[1m┌ \u001b[22m\u001b[39m\u001b[33m\u001b[1mWarning: \u001b[22m\u001b[39mInvalid range\n",
      "\u001b[33m\u001b[1m│ \u001b[22m\u001b[39m  valid_info.struct_name = \"Bus\"\n",
      "\u001b[33m\u001b[1m│ \u001b[22m\u001b[39m  field_name = \"magnitude\"\n",
      "\u001b[33m\u001b[1m│ \u001b[22m\u001b[39m  valid_range = \"voltage_limits\"\n",
      "\u001b[33m\u001b[1m│ \u001b[22m\u001b[39m  valid_info.ist_struct =\n",
      "\u001b[33m\u001b[1m│ \u001b[22m\u001b[39m   node_d (Bus):\n",
      "\u001b[33m\u001b[1m│ \u001b[22m\u001b[39m      number: 4\n",
      "\u001b[33m\u001b[1m│ \u001b[22m\u001b[39m      name: node_d\n",
      "\u001b[33m\u001b[1m│ \u001b[22m\u001b[39m      bustype: BusTypes.REF = 4\n",
      "\u001b[33m\u001b[1m│ \u001b[22m\u001b[39m      angle: 0.0\n",
      "\u001b[33m\u001b[1m│ \u001b[22m\u001b[39m      magnitude: 0.01\n",
      "\u001b[33m\u001b[1m│ \u001b[22m\u001b[39m      voltage_limits: (min = 0.95, max = 1.05)\n",
      "\u001b[33m\u001b[1m│ \u001b[22m\u001b[39m      base_voltage: 100.0\n",
      "\u001b[33m\u001b[1m│ \u001b[22m\u001b[39m      area: nothing (Area)\n",
      "\u001b[33m\u001b[1m│ \u001b[22m\u001b[39m      load_zone: zone1 (LoadZone)\n",
      "\u001b[33m\u001b[1m│ \u001b[22m\u001b[39m      ext: Dict{String, Any}()\n",
      "\u001b[33m\u001b[1m│ \u001b[22m\u001b[39m      InfrastructureSystems.SystemUnitsSettings:\n",
      "\u001b[33m\u001b[1m│ \u001b[22m\u001b[39m         base_value: 100.0\n",
      "\u001b[33m\u001b[1m│ \u001b[22m\u001b[39m         unit_system: UnitSystem.DEVICE_BASE = 1\n",
      "\u001b[33m\u001b[1m└ \u001b[22m\u001b[39m\u001b[90m@ InfrastructureSystems ~/.julia/packages/InfrastructureSystems/Oc56m/src/validation.jl:222\u001b[39m\n",
      "\u001b[33m\u001b[1m┌ \u001b[22m\u001b[39m\u001b[33m\u001b[1mWarning: \u001b[22m\u001b[39mInvalid range\n",
      "\u001b[33m\u001b[1m│ \u001b[22m\u001b[39m  valid_info.struct_name = \"Bus\"\n",
      "\u001b[33m\u001b[1m│ \u001b[22m\u001b[39m  field_name = \"magnitude\"\n",
      "\u001b[33m\u001b[1m│ \u001b[22m\u001b[39m  valid_range = \"voltage_limits\"\n",
      "\u001b[33m\u001b[1m│ \u001b[22m\u001b[39m  valid_info.ist_struct =\n",
      "\u001b[33m\u001b[1m│ \u001b[22m\u001b[39m   node_e (Bus):\n",
      "\u001b[33m\u001b[1m│ \u001b[22m\u001b[39m      number: 5\n",
      "\u001b[33m\u001b[1m│ \u001b[22m\u001b[39m      name: node_e\n",
      "\u001b[33m\u001b[1m│ \u001b[22m\u001b[39m      bustype: BusTypes.PV = 3\n",
      "\u001b[33m\u001b[1m│ \u001b[22m\u001b[39m      angle: 0.0\n",
      "\u001b[33m\u001b[1m│ \u001b[22m\u001b[39m      magnitude: 0.01\n",
      "\u001b[33m\u001b[1m│ \u001b[22m\u001b[39m      voltage_limits: (min = 0.95, max = 1.05)\n",
      "\u001b[33m\u001b[1m│ \u001b[22m\u001b[39m      base_voltage: 100.0\n",
      "\u001b[33m\u001b[1m│ \u001b[22m\u001b[39m      area: nothing (Area)\n",
      "\u001b[33m\u001b[1m│ \u001b[22m\u001b[39m      load_zone: zone1 (LoadZone)\n",
      "\u001b[33m\u001b[1m│ \u001b[22m\u001b[39m      ext: Dict{String, Any}()\n",
      "\u001b[33m\u001b[1m│ \u001b[22m\u001b[39m      InfrastructureSystems.SystemUnitsSettings:\n",
      "\u001b[33m\u001b[1m│ \u001b[22m\u001b[39m         base_value: 100.0\n",
      "\u001b[33m\u001b[1m│ \u001b[22m\u001b[39m         unit_system: UnitSystem.DEVICE_BASE = 1\n",
      "\u001b[33m\u001b[1m└ \u001b[22m\u001b[39m\u001b[90m@ InfrastructureSystems ~/.julia/packages/InfrastructureSystems/Oc56m/src/validation.jl:222\u001b[39m\n",
      "\u001b[33m\u001b[1m┌ \u001b[22m\u001b[39m\u001b[33m\u001b[1mWarning: \u001b[22m\u001b[39mInvalid range\n",
      "\u001b[33m\u001b[1m│ \u001b[22m\u001b[39m  valid_info.struct_name = \"Bus\"\n",
      "\u001b[33m\u001b[1m│ \u001b[22m\u001b[39m  field_name = \"magnitude\"\n",
      "\u001b[33m\u001b[1m│ \u001b[22m\u001b[39m  valid_range = \"voltage_limits\"\n",
      "\u001b[33m\u001b[1m│ \u001b[22m\u001b[39m  valid_info.ist_struct =\n",
      "\u001b[33m\u001b[1m│ \u001b[22m\u001b[39m   node_c (Bus):\n",
      "\u001b[33m\u001b[1m│ \u001b[22m\u001b[39m      number: 3\n",
      "\u001b[33m\u001b[1m│ \u001b[22m\u001b[39m      name: node_c\n",
      "\u001b[33m\u001b[1m│ \u001b[22m\u001b[39m      bustype: BusTypes.PV = 3\n",
      "\u001b[33m\u001b[1m│ \u001b[22m\u001b[39m      angle: 0.0\n",
      "\u001b[33m\u001b[1m│ \u001b[22m\u001b[39m      magnitude: 0.01\n",
      "\u001b[33m\u001b[1m│ \u001b[22m\u001b[39m      voltage_limits: (min = 0.95, max = 1.05)\n",
      "\u001b[33m\u001b[1m│ \u001b[22m\u001b[39m      base_voltage: 100.0\n",
      "\u001b[33m\u001b[1m│ \u001b[22m\u001b[39m      area: nothing (Area)\n",
      "\u001b[33m\u001b[1m│ \u001b[22m\u001b[39m      load_zone: zone1 (LoadZone)\n",
      "\u001b[33m\u001b[1m│ \u001b[22m\u001b[39m      ext: Dict{String, Any}()\n",
      "\u001b[33m\u001b[1m│ \u001b[22m\u001b[39m      InfrastructureSystems.SystemUnitsSettings:\n",
      "\u001b[33m\u001b[1m│ \u001b[22m\u001b[39m         base_value: 100.0\n",
      "\u001b[33m\u001b[1m│ \u001b[22m\u001b[39m         unit_system: UnitSystem.DEVICE_BASE = 1\n",
      "\u001b[33m\u001b[1m└ \u001b[22m\u001b[39m\u001b[90m@ InfrastructureSystems ~/.julia/packages/InfrastructureSystems/Oc56m/src/validation.jl:222\u001b[39m\n",
      "\u001b[33m\u001b[1m┌ \u001b[22m\u001b[39m\u001b[33m\u001b[1mWarning: \u001b[22m\u001b[39mInvalid range\n",
      "\u001b[33m\u001b[1m│ \u001b[22m\u001b[39m  valid_info.struct_name = \"Bus\"\n",
      "\u001b[33m\u001b[1m│ \u001b[22m\u001b[39m  field_name = \"magnitude\"\n",
      "\u001b[33m\u001b[1m│ \u001b[22m\u001b[39m  valid_range = \"voltage_limits\"\n",
      "\u001b[33m\u001b[1m│ \u001b[22m\u001b[39m  valid_info.ist_struct =\n",
      "\u001b[33m\u001b[1m│ \u001b[22m\u001b[39m   node_b (Bus):\n",
      "\u001b[33m\u001b[1m│ \u001b[22m\u001b[39m      number: 2\n",
      "\u001b[33m\u001b[1m│ \u001b[22m\u001b[39m      name: node_b\n",
      "\u001b[33m\u001b[1m│ \u001b[22m\u001b[39m      bustype: BusTypes.PQ = 2\n",
      "\u001b[33m\u001b[1m│ \u001b[22m\u001b[39m      angle: 0.0\n",
      "\u001b[33m\u001b[1m│ \u001b[22m\u001b[39m      magnitude: 0.01\n",
      "\u001b[33m\u001b[1m│ \u001b[22m\u001b[39m      voltage_limits: (min = 0.95, max = 1.05)\n",
      "\u001b[33m\u001b[1m│ \u001b[22m\u001b[39m      base_voltage: 100.0\n",
      "\u001b[33m\u001b[1m│ \u001b[22m\u001b[39m      area: nothing (Area)\n",
      "\u001b[33m\u001b[1m│ \u001b[22m\u001b[39m      load_zone: zone1 (LoadZone)\n",
      "\u001b[33m\u001b[1m│ \u001b[22m\u001b[39m      ext: Dict{String, Any}()\n",
      "\u001b[33m\u001b[1m│ \u001b[22m\u001b[39m      InfrastructureSystems.SystemUnitsSettings:\n",
      "\u001b[33m\u001b[1m│ \u001b[22m\u001b[39m         base_value: 100.0\n",
      "\u001b[33m\u001b[1m│ \u001b[22m\u001b[39m         unit_system: UnitSystem.DEVICE_BASE = 1\n",
      "\u001b[33m\u001b[1m└ \u001b[22m\u001b[39m\u001b[90m@ InfrastructureSystems ~/.julia/packages/InfrastructureSystems/Oc56m/src/validation.jl:222\u001b[39m\n"
     ]
    }
   ],
   "source": [
    "template_uc = template_unit_commitment(network = NetworkModel(DCPPowerModel, duals = [NodalBalanceActiveConstraint], use_slacks = true))\n",
    "set_device_model!(template_uc, ThermalStandard, ThermalStandardUnitCommitment)\n",
    "\n",
    "set_device_model!(template_uc, DeviceModel(GenericBattery, BookKeeping; duals=[EnergyBalanceConstraint]))\n",
    "\n",
    "set_device_model!(template_uc, MonitoredLine, StaticBranchBounds)\n",
    "set_device_model!(template_uc, Line, StaticBranch)\n",
    "set_device_model!(template_uc, Transformer2W, StaticBranch)\n",
    "set_device_model!(template_uc, TapTransformer, StaticBranch)\n",
    "set_device_model!(template_uc, HVDCLine, HVDCLossless)\n",
    "\n",
    "sys = System(datadir(sys_name); time_series_directory = \"/tmp/scratch\")\n",
    "PSY.transform_single_time_series!(sys, horizon, Hour(interval))"
   ]
  },
  {
   "cell_type": "markdown",
   "id": "f1f5568a-506e-4cdb-8516-52bc5887da0a",
   "metadata": {},
   "source": [
    "Next, we will create the PowerSimulation, i.e., the optimization model."
   ]
  },
  {
   "cell_type": "code",
   "execution_count": 6,
   "id": "c6421dd4-2aa8-489b-ba8c-8595cc47c945",
   "metadata": {},
   "outputs": [
    {
     "data": {
      "text/html": [
       "\n",
       "<table>\n",
       "  <caption style = \"text-align: left;\">Decision Models</caption>\n",
       "  <thead>\n",
       "    <tr class = \"header headerLastRow\">\n",
       "      <th style = \"text-align: left;\">Model Name</th>\n",
       "      <th style = \"text-align: left;\">Model Type</th>\n",
       "      <th style = \"text-align: left;\">Status</th>\n",
       "      <th style = \"text-align: left;\">Output Directory</th>\n",
       "    </tr>\n",
       "  </thead>\n",
       "  <tbody>\n",
       "    <tr>\n",
       "      <td style = \"text-align: left;\">UC</td>\n",
       "      <td style = \"text-align: left;\">GenericOpProblem</td>\n",
       "      <td style = \"text-align: left;\">EMPTY</td>\n",
       "      <td style = \"text-align: left;\">nothing</td>\n",
       "    </tr>\n",
       "  </tbody>\n",
       "</table>\n",
       "\n",
       "No Emulator Model Specified\n"
      ],
      "text/plain": [
       "\n",
       "\u001b[1mDecision Models\u001b[0m\n",
       "┌────────────┬──────────────────┬────────┬──────────────────┐\n",
       "│\u001b[1m Model Name \u001b[0m│\u001b[1m Model Type       \u001b[0m│\u001b[1m Status \u001b[0m│\u001b[1m Output Directory \u001b[0m│\n",
       "├────────────┼──────────────────┼────────┼──────────────────┤\n",
       "│ UC         │ GenericOpProblem │ EMPTY  │ nothing          │\n",
       "└────────────┴──────────────────┴────────┴──────────────────┘\n",
       "\n",
       "No Emulator Model Specified\n"
      ]
     },
     "execution_count": 6,
     "metadata": {},
     "output_type": "execute_result"
    }
   ],
   "source": [
    "models = SimulationModels(\n",
    "    decision_models = [\n",
    "        DecisionModel(\n",
    "            template_uc,\n",
    "            sys,\n",
    "            name = \"UC\",\n",
    "            optimizer = solver,\n",
    "            optimizer_solve_log_print = true,\n",
    "        ),\n",
    "    ],\n",
    ")"
   ]
  },
  {
   "cell_type": "markdown",
   "id": "4d0e4722-f7d7-4eb2-8765-0794a8ec7829",
   "metadata": {},
   "source": [
    "### Explore the SimulationModels"
   ]
  },
  {
   "cell_type": "code",
   "execution_count": 7,
   "id": "62d81175-5f01-4511-913c-a1ac5171d4dd",
   "metadata": {},
   "outputs": [
    {
     "data": {
      "text/html": [
       "<table>\n",
       "  <caption style = \"text-align: left;\">Network Model</caption>\n",
       "  <tbody>\n",
       "    <tr>\n",
       "      <td style = \"text-align: left;\">Network Model</td>\n",
       "      <td style = \"text-align: left;\">DCPPowerModel</td>\n",
       "    </tr>\n",
       "    <tr>\n",
       "      <td style = \"text-align: left;\">Slacks</td>\n",
       "      <td style = \"text-align: left;\">true</td>\n",
       "    </tr>\n",
       "    <tr>\n",
       "      <td style = \"text-align: left;\">PTDF</td>\n",
       "      <td style = \"text-align: left;\">false</td>\n",
       "    </tr>\n",
       "    <tr>\n",
       "      <td style = \"text-align: left;\">Duals</td>\n",
       "      <td style = \"text-align: left;\">NodalBalanceActiveConstraint</td>\n",
       "    </tr>\n",
       "  </tbody>\n",
       "</table>\n",
       "\n",
       "\u001b[1mDevice Models\u001b[0m\n",
       "┌──────────────────────┬───────────────────────────────┬────────┐\n",
       "│\u001b[1m Device Type          \u001b[0m│\u001b[1m Formulation                   \u001b[0m│\u001b[1m Slacks \u001b[0m│\n",
       "├──────────────────────┼───────────────────────────────┼────────┤\n",
       "│ ThermalStandard      │ ThermalStandardUnitCommitment │ false  │\n",
       "│ HydroDispatch        │ HydroDispatchRunOfRiver       │ false  │\n",
       "│ PowerLoad            │ StaticPowerLoad               │ false  │\n",
       "│ RenewableFix         │ FixedOutput                   │ false  │\n",
       "│ RenewableDispatch    │ RenewableFullDispatch         │ false  │\n",
       "│ GenericBattery       │ BookKeeping                   │ false  │\n",
       "│ HydroEnergyReservoir │ HydroDispatchRunOfRiver       │ false  │\n",
       "│ InterruptibleLoad    │ InterruptiblePowerLoad        │ false  │\n",
       "└──────────────────────┴───────────────────────────────┴────────┘\n",
       "\n",
       "<table>\n",
       "  <caption style = \"text-align: left;\">Branch Models</caption>\n",
       "  <thead>\n",
       "    <tr class = \"header headerLastRow\">\n",
       "      <th style = \"text-align: left;\">Branch Type</th>\n",
       "      <th style = \"text-align: left;\">Formulation</th>\n",
       "      <th style = \"text-align: left;\">Slacks</th>\n",
       "    </tr>\n",
       "  </thead>\n",
       "  <tbody>\n",
       "    <tr>\n",
       "      <td style = \"text-align: left;\">MonitoredLine</td>\n",
       "      <td style = \"text-align: left;\">StaticBranchBounds</td>\n",
       "      <td style = \"text-align: left;\">false</td>\n",
       "    </tr>\n",
       "    <tr>\n",
       "      <td style = \"text-align: left;\">Line</td>\n",
       "      <td style = \"text-align: left;\">StaticBranch</td>\n",
       "      <td style = \"text-align: left;\">false</td>\n",
       "    </tr>\n",
       "    <tr>\n",
       "      <td style = \"text-align: left;\">TapTransformer</td>\n",
       "      <td style = \"text-align: left;\">StaticBranch</td>\n",
       "      <td style = \"text-align: left;\">false</td>\n",
       "    </tr>\n",
       "    <tr>\n",
       "      <td style = \"text-align: left;\">Transformer2W</td>\n",
       "      <td style = \"text-align: left;\">StaticBranch</td>\n",
       "      <td style = \"text-align: left;\">false</td>\n",
       "    </tr>\n",
       "    <tr>\n",
       "      <td style = \"text-align: left;\">HVDCLine</td>\n",
       "      <td style = \"text-align: left;\">HVDCLossless</td>\n",
       "      <td style = \"text-align: left;\">false</td>\n",
       "    </tr>\n",
       "  </tbody>\n",
       "</table>\n",
       "\n",
       "<table>\n",
       "  <caption style = \"text-align: left;\">Service Models</caption>\n",
       "  <thead>\n",
       "    <tr class = \"header headerLastRow\">\n",
       "      <th style = \"text-align: left;\">Service Type</th>\n",
       "      <th style = \"text-align: left;\">Formulation</th>\n",
       "      <th style = \"text-align: left;\">Slacks</th>\n",
       "      <th style = \"text-align: left;\">Aggregated Model</th>\n",
       "    </tr>\n",
       "  </thead>\n",
       "  <tbody>\n",
       "    <tr>\n",
       "      <td style = \"text-align: left;\">VariableReserve{ReserveUp}</td>\n",
       "      <td style = \"text-align: left;\">RangeReserve</td>\n",
       "      <td style = \"text-align: left;\">false</td>\n",
       "      <td style = \"text-align: left;\">true</td>\n",
       "    </tr>\n",
       "    <tr>\n",
       "      <td style = \"text-align: left;\">VariableReserve{ReserveDown}</td>\n",
       "      <td style = \"text-align: left;\">RangeReserve</td>\n",
       "      <td style = \"text-align: left;\">false</td>\n",
       "      <td style = \"text-align: left;\">true</td>\n",
       "    </tr>\n",
       "  </tbody>\n",
       "</table>\n"
      ],
      "text/plain": [
       "\u001b[1mNetwork Model\u001b[0m\n",
       "┌───────────────┬──────────────────────────────┐\n",
       "│ Network Model │ DCPPowerModel                │\n",
       "│ Slacks        │ true                         │\n",
       "│ PTDF          │ false                        │\n",
       "│ Duals         │ NodalBalanceActiveConstraint │\n",
       "└───────────────┴──────────────────────────────┘\n",
       "\n",
       "\u001b[1mDevice Models\u001b[0m\n",
       "┌──────────────────────┬───────────────────────────────┬────────┐\n",
       "│\u001b[1m Device Type          \u001b[0m│\u001b[1m Formulation                   \u001b[0m│\u001b[1m Slacks \u001b[0m│\n",
       "├──────────────────────┼───────────────────────────────┼────────┤\n",
       "│ ThermalStandard      │ ThermalStandardUnitCommitment │ false  │\n",
       "│ HydroDispatch        │ HydroDispatchRunOfRiver       │ false  │\n",
       "│ PowerLoad            │ StaticPowerLoad               │ false  │\n",
       "│ RenewableFix         │ FixedOutput                   │ false  │\n",
       "│ RenewableDispatch    │ RenewableFullDispatch         │ false  │\n",
       "│ GenericBattery       │ BookKeeping                   │ false  │\n",
       "│ HydroEnergyReservoir │ HydroDispatchRunOfRiver       │ false  │\n",
       "│ InterruptibleLoad    │ InterruptiblePowerLoad        │ false  │\n",
       "└──────────────────────┴───────────────────────────────┴────────┘\n",
       "\n",
       "\u001b[1mBranch Models\u001b[0m\n",
       "┌────────────────┬────────────────────┬────────┐\n",
       "│\u001b[1m Branch Type    \u001b[0m│\u001b[1m Formulation        \u001b[0m│\u001b[1m Slacks \u001b[0m│\n",
       "├────────────────┼────────────────────┼────────┤\n",
       "│ MonitoredLine  │ StaticBranchBounds │ false  │\n",
       "│ Line           │ StaticBranch       │ false  │\n",
       "│ TapTransformer │ StaticBranch       │ false  │\n",
       "│ Transformer2W  │ StaticBranch       │ false  │\n",
       "│ HVDCLine       │ HVDCLossless       │ false  │\n",
       "└────────────────┴────────────────────┴────────┘\n",
       "\n",
       "\u001b[1mService Models\u001b[0m\n",
       "┌──────────────────────────────┬──────────────┬────────┬──────────────────┐\n",
       "│\u001b[1m Service Type                 \u001b[0m│\u001b[1m Formulation  \u001b[0m│\u001b[1m Slacks \u001b[0m│\u001b[1m Aggregated Model \u001b[0m│\n",
       "├──────────────────────────────┼──────────────┼────────┼──────────────────┤\n",
       "│ VariableReserve{ReserveUp}   │ RangeReserve │ false  │ true             │\n",
       "│ VariableReserve{ReserveDown} │ RangeReserve │ false  │ true             │\n",
       "└──────────────────────────────┴──────────────┴────────┴──────────────────┘\n"
      ]
     },
     "execution_count": 7,
     "metadata": {},
     "output_type": "execute_result"
    }
   ],
   "source": [
    "md_dec = PowerSimulations.get_decision_models(models)[1]"
   ]
  },
  {
   "cell_type": "markdown",
   "id": "18b112e4-8568-4c39-b38f-0cc1ca95c758",
   "metadata": {},
   "source": [
    "We can now link the PowerSystem with the PowerSimulation model."
   ]
  },
  {
   "cell_type": "code",
   "execution_count": 8,
   "id": "d6e17e4b-4765-4f4f-8f3c-d673f4aa601c",
   "metadata": {},
   "outputs": [
    {
     "data": {
      "text/html": [
       "<table>\n",
       "  <caption style = \"text-align: left;\">Simulation</caption>\n",
       "  <tbody>\n",
       "    <tr>\n",
       "      <td style = \"text-align: left;\">Simulation Name</td>\n",
       "      <td style = \"text-align: left;\">battery=true_horizon=168_interval=24_originalsim=/lustre/eaglefs/projects/pvb/5_bus_battery_testing/data/new_systems/pv=30_storagehours=10_wind=30/sys.json_steps=3</td>\n",
       "    </tr>\n",
       "    <tr>\n",
       "      <td style = \"text-align: left;\">Build Status</td>\n",
       "      <td style = \"text-align: left;\">EMPTY</td>\n",
       "    </tr>\n",
       "    <tr>\n",
       "      <td style = \"text-align: left;\">Run Status</td>\n",
       "      <td style = \"text-align: left;\">NOT_READY</td>\n",
       "    </tr>\n",
       "    <tr>\n",
       "      <td style = \"text-align: left;\">Initial Time</td>\n",
       "      <td style = \"text-align: left;\">Unset Initial Time</td>\n",
       "    </tr>\n",
       "    <tr>\n",
       "      <td style = \"text-align: left;\">Steps</td>\n",
       "      <td style = \"text-align: left;\">3</td>\n",
       "    </tr>\n",
       "  </tbody>\n",
       "</table>\n",
       "\n",
       "<table>\n",
       "  <caption style = \"text-align: left;\">Decision Models</caption>\n",
       "  <thead>\n",
       "    <tr class = \"header headerLastRow\">\n",
       "      <th style = \"text-align: left;\">Model Name</th>\n",
       "      <th style = \"text-align: left;\">Model Type</th>\n",
       "      <th style = \"text-align: left;\">Status</th>\n",
       "      <th style = \"text-align: left;\">Output Directory</th>\n",
       "    </tr>\n",
       "  </thead>\n",
       "  <tbody>\n",
       "    <tr>\n",
       "      <td style = \"text-align: left;\">UC</td>\n",
       "      <td style = \"text-align: left;\">GenericOpProblem</td>\n",
       "      <td style = \"text-align: left;\">EMPTY</td>\n",
       "      <td style = \"text-align: left;\">nothing</td>\n",
       "    </tr>\n",
       "  </tbody>\n",
       "</table>\n",
       "\n",
       "No Emulator Model Specified\n",
       "\n",
       "<table>\n",
       "  <caption style = \"text-align: left;\">Simulation Sequence</caption>\n",
       "  <tbody>\n",
       "    <tr>\n",
       "      <td style = \"text-align: left;\">Simulation Step Interval</td>\n",
       "      <td style = \"text-align: left;\">24 hours</td>\n",
       "    </tr>\n",
       "    <tr>\n",
       "      <td style = \"text-align: left;\">Number of Problems</td>\n",
       "      <td style = \"text-align: left;\">1</td>\n",
       "    </tr>\n",
       "  </tbody>\n",
       "</table>\n",
       "\n",
       "<!DOCTYPE html>\n",
       "<html>\n",
       "<meta charset=\"UTF-8\">\n",
       "<style>\n",
       "  table, td, th {\n",
       "      border-collapse: collapse;\n",
       "      font-family: sans-serif;\n",
       "  }\n",
       "\n",
       "  td, th {\n",
       "      border-bottom: 0;\n",
       "      padding: 4px\n",
       "  }\n",
       "\n",
       "  tr:nth-child(odd) {\n",
       "      background: #eee;\n",
       "  }\n",
       "\n",
       "  tr:nth-child(even) {\n",
       "      background: #fff;\n",
       "  }\n",
       "\n",
       "  tr.header {\n",
       "      background: navy !important;\n",
       "      color: white;\n",
       "      font-weight: bold;\n",
       "  }\n",
       "\n",
       "  tr.subheader {\n",
       "      background: lightgray !important;\n",
       "      color: black;\n",
       "  }\n",
       "\n",
       "  tr.headerLastRow {\n",
       "      border-bottom: 2px solid black;\n",
       "  }\n",
       "\n",
       "  th.rowNumber, td.rowNumber {\n",
       "      text-align: right;\n",
       "  }\n",
       "\n",
       "</style>\n",
       "<body>\n",
       "<table>\n",
       "  <caption style = \"text-align: left;\">Simulation Problems</caption>\n",
       "  <thead>\n",
       "    <tr class = \"header headerLastRow\">\n",
       "      <th style = \"text-align: left;\">Model Name</th>\n",
       "      <th style = \"text-align: left;\">Horizon</th>\n",
       "      <th style = \"text-align: left;\">Interval</th>\n",
       "      <th style = \"text-align: left;\">Executions Per Step</th>\n",
       "    </tr>\n",
       "  </thead>\n",
       "  <tbody>\n",
       "    <tr>\n",
       "      <td style = \"text-align: left;\">UC</td>\n",
       "      <td style = \"text-align: left;\">168</td>\n",
       "      <td style = \"text-align: left;\">1440 minutes</td>\n",
       "      <td style = \"text-align: left;\">1</td>\n",
       "    </tr>\n",
       "  </tbody>\n",
       "</table>\n",
       "</body>\n",
       "</html>\n"
      ],
      "text/plain": [
       "\u001b[1mSimulation\u001b[0m\n",
       "┌─────────────────┬─────────────────────────────────────────────────────────────\n",
       "│ Simulation Name │ battery=true_horizon=168_interval=24_originalsim=/lustre/e ⋯\n",
       "│ Build Status    │ EMPTY                                                      ⋯\n",
       "│ Run Status      │ NOT_READY                                                  ⋯\n",
       "│ Initial Time    │ Unset Initial Time                                         ⋯\n",
       "│ Steps           │ 3                                                          ⋯\n",
       "└─────────────────┴─────────────────────────────────────────────────────────────\n",
       "\u001b[36m                                                                1 column omitted\u001b[0m\n",
       "\n",
       "\u001b[1mDecision Models\u001b[0m\n",
       "┌────────────┬──────────────────┬────────┬──────────────────┐\n",
       "│\u001b[1m Model Name \u001b[0m│\u001b[1m Model Type       \u001b[0m│\u001b[1m Status \u001b[0m│\u001b[1m Output Directory \u001b[0m│\n",
       "├────────────┼──────────────────┼────────┼──────────────────┤\n",
       "│ UC         │ GenericOpProblem │ EMPTY  │ nothing          │\n",
       "└────────────┴──────────────────┴────────┴──────────────────┘\n",
       "\n",
       "No Emulator Model Specified\n",
       "\n",
       "\u001b[1mSimulation Sequence\u001b[0m\n",
       "┌──────────────────────────┬──────────┐\n",
       "│ Simulation Step Interval │ 24 hours │\n",
       "│ Number of Problems       │ 1        │\n",
       "└──────────────────────────┴──────────┘\n",
       "\n",
       "\u001b[1mSimulation Problems\u001b[0m\n",
       "┌────────────┬─────────┬──────────────┬─────────────────────┐\n",
       "│\u001b[1m Model Name \u001b[0m│\u001b[1m Horizon \u001b[0m│\u001b[1m Interval     \u001b[0m│\u001b[1m Executions Per Step \u001b[0m│\n",
       "├────────────┼─────────┼──────────────┼─────────────────────┤\n",
       "│ UC         │ 168     │ 1440 minutes │ 1                   │\n",
       "└────────────┴─────────┴──────────────┴─────────────────────┘\n"
      ]
     },
     "execution_count": 8,
     "metadata": {},
     "output_type": "execute_result"
    }
   ],
   "source": [
    "sequence = SimulationSequence(\n",
    "    models = models,\n",
    "    ini_cond_chronology = InterProblemChronology()\n",
    ")\n",
    "\n",
    "sim = Simulation(\n",
    "    name = name,\n",
    "    steps = steps,\n",
    "    models = models,\n",
    "    sequence = sequence,\n",
    "    simulation_folder = datadir(\"powersim_results\")\n",
    ")"
   ]
  },
  {
   "cell_type": "code",
   "execution_count": 9,
   "id": "f2770f60-3d91-487e-8729-03cd133ebc4c",
   "metadata": {},
   "outputs": [
    {
     "data": {
      "text/html": [
       "7-element Vector{Method}:<ul><li> SimulationResults(sim::<b>Simulation</b>; <i>ignore_status, kwargs...</i>) in PowerSimulations at <a href=\"file:///home/cju/.julia/packages/PowerSimulations/HKwUO/src/simulation/simulation_results.jl\" target=\"_blank\">/home/cju/.julia/packages/PowerSimulations/HKwUO/src/simulation/simulation_results.jl:110</a><li> build!(sim::<b>Simulation</b>; <i>output_dir, recorders, console_level, file_level, serialize, initialize_problem</i>) in PowerSimulations at <a href=\"file:///home/cju/.julia/packages/PowerSimulations/HKwUO/src/simulation/simulation.jl\" target=\"_blank\">/home/cju/.julia/packages/PowerSimulations/HKwUO/src/simulation/simulation.jl:528</a><li> execute!(sim::<b>Simulation</b>; <i>kwargs...</i>) in PowerSimulations at <a href=\"file:///home/cju/.julia/packages/PowerSimulations/HKwUO/src/simulation/simulation.jl\" target=\"_blank\">/home/cju/.julia/packages/PowerSimulations/HKwUO/src/simulation/simulation.jl:855</a><li> get_name(sim::<b>Simulation</b>) in PowerSimulations at <a href=\"file:///home/cju/.julia/packages/PowerSimulations/HKwUO/src/simulation/simulation.jl\" target=\"_blank\">/home/cju/.julia/packages/PowerSimulations/HKwUO/src/simulation/simulation.jl:104</a><li> get_simulation_model(s::<b>Simulation</b>, name) in PowerSimulations at <a href=\"file:///home/cju/.julia/packages/PowerSimulations/HKwUO/src/simulation/simulation.jl\" target=\"_blank\">/home/cju/.julia/packages/PowerSimulations/HKwUO/src/simulation/simulation.jl:84</a><li> show(io::<b>IO</b>, ::<b>MIME{Symbol(\"text/plain\")}</b>, input::<b>Simulation</b>) in PowerSimulations at <a href=\"file:///home/cju/.julia/packages/PowerSimulations/HKwUO/src/utils/printing.jl\" target=\"_blank\">/home/cju/.julia/packages/PowerSimulations/HKwUO/src/utils/printing.jl:373</a><li> show(io::<b>IO</b>, ::<b>MIME{Symbol(\"text/html\")}</b>, input::<b>Simulation</b>) in PowerSimulations at <a href=\"file:///home/cju/.julia/packages/PowerSimulations/HKwUO/src/utils/printing.jl\" target=\"_blank\">/home/cju/.julia/packages/PowerSimulations/HKwUO/src/utils/printing.jl:377</a></ul>"
      ],
      "text/plain": [
       "[1] SimulationResults(sim::Simulation; ignore_status, kwargs...) in PowerSimulations at /home/cju/.julia/packages/PowerSimulations/HKwUO/src/simulation/simulation_results.jl:110\n",
       "[2] build!(sim::Simulation; output_dir, recorders, console_level, file_level, serialize, initialize_problem) in PowerSimulations at /home/cju/.julia/packages/PowerSimulations/HKwUO/src/simulation/simulation.jl:528\n",
       "[3] execute!(sim::Simulation; kwargs...) in PowerSimulations at /home/cju/.julia/packages/PowerSimulations/HKwUO/src/simulation/simulation.jl:855\n",
       "[4] get_name(sim::Simulation) in PowerSimulations at /home/cju/.julia/packages/PowerSimulations/HKwUO/src/simulation/simulation.jl:104\n",
       "[5] get_simulation_model(s::Simulation, name) in PowerSimulations at /home/cju/.julia/packages/PowerSimulations/HKwUO/src/simulation/simulation.jl:84\n",
       "[6] show(io::IO, ::MIME{Symbol(\"text/plain\")}, input::Simulation) in PowerSimulations at /home/cju/.julia/packages/PowerSimulations/HKwUO/src/utils/printing.jl:373\n",
       "[7] show(io::IO, ::MIME{Symbol(\"text/html\")}, input::Simulation) in PowerSimulations at /home/cju/.julia/packages/PowerSimulations/HKwUO/src/utils/printing.jl:377"
      ]
     },
     "execution_count": 9,
     "metadata": {},
     "output_type": "execute_result"
    }
   ],
   "source": [
    "methodswith(typeof(sim))"
   ]
  },
  {
   "cell_type": "markdown",
   "id": "fa9bbfb8-0746-43ff-a155-60f6f0e5e0d1",
   "metadata": {},
   "source": [
    "### Build the system!\n",
    "\n",
    "This will take some time."
   ]
  },
  {
   "cell_type": "code",
   "execution_count": 10,
   "id": "5884b6e4-989c-4f29-b5d1-5a98ccfd93a4",
   "metadata": {
    "scrolled": true,
    "tags": []
   },
   "outputs": [
    {
     "name": "stderr",
     "output_type": "stream",
     "text": [
      "\u001b[36m\u001b[1m┌ \u001b[22m\u001b[39m\u001b[36m\u001b[1mInfo: \u001b[22m\u001b[39m\n",
      "\u001b[36m\u001b[1m│ \u001b[22m\u001b[39m ────────────────────────────────────────────────────────────────────────────────\n",
      "\u001b[36m\u001b[1m│ \u001b[22m\u001b[39m                                        Time                    Allocations      \n",
      "\u001b[36m\u001b[1m│ \u001b[22m\u001b[39m                               ───────────────────────   ────────────────────────\n",
      "\u001b[36m\u001b[1m│ \u001b[22m\u001b[39m       Tot / % measured:            62.7s /  99.1%           7.27GiB /  99.8%    \n",
      "\u001b[36m\u001b[1m│ \u001b[22m\u001b[39m\n",
      "\u001b[36m\u001b[1m│ \u001b[22m\u001b[39m Section               ncalls     time    %tot     avg     alloc    %tot      avg\n",
      "\u001b[36m\u001b[1m│ \u001b[22m\u001b[39m ────────────────────────────────────────────────────────────────────────────────\n",
      "\u001b[36m\u001b[1m│ \u001b[22m\u001b[39m Build Simulation           1    62.2s  100.0%   62.2s   7.26GiB  100.0%  7.26GiB\n",
      "\u001b[36m\u001b[1m│ \u001b[22m\u001b[39m   Build Problems           1    49.6s   79.7%   49.6s   6.01GiB   82.8%  6.01GiB\n",
      "\u001b[36m\u001b[1m│ \u001b[22m\u001b[39m     Problem UC             1    48.4s   77.8%   48.4s   5.93GiB   81.7%  5.93GiB\n",
      "\u001b[36m\u001b[1m│ \u001b[22m\u001b[39m       Build pre-step       1    40.9s   65.8%   40.9s   5.33GiB   73.4%  5.33GiB\n",
      "\u001b[36m\u001b[1m│ \u001b[22m\u001b[39m         Build Init...      1    31.0s   49.9%   31.0s   4.05GiB   55.9%  4.05GiB\n",
      "\u001b[36m\u001b[1m│ \u001b[22m\u001b[39m           DCPPower...      1    11.5s   18.4%   11.5s   1.50GiB   20.7%  1.50GiB\n",
      "\u001b[36m\u001b[1m│ \u001b[22m\u001b[39m           ThermalS...      2    8.37s   13.5%   4.18s   1.05GiB   14.5%   538MiB\n",
      "\u001b[36m\u001b[1m│ \u001b[22m\u001b[39m           GenericB...      2    3.73s    6.0%   1.86s    464MiB    6.2%   232MiB\n",
      "\u001b[36m\u001b[1m│ \u001b[22m\u001b[39m           PowerLoad        2    2.44s    3.9%   1.22s    273MiB    3.7%   137MiB\n",
      "\u001b[36m\u001b[1m│ \u001b[22m\u001b[39m           Renewabl...      2    1.71s    2.7%   854ms    203MiB    2.7%   102MiB\n",
      "\u001b[36m\u001b[1m│ \u001b[22m\u001b[39m           Objective        1    1.36s    2.2%   1.36s    362MiB    4.9%   362MiB\n",
      "\u001b[36m\u001b[1m│ \u001b[22m\u001b[39m           Line             2    570ms    0.9%   285ms   71.1MiB    1.0%  35.5MiB\n",
      "\u001b[36m\u001b[1m│ \u001b[22m\u001b[39m           HydroEne...      2   49.8ms    0.1%  24.9ms   4.38MiB    0.1%  2.19MiB\n",
      "\u001b[36m\u001b[1m│ \u001b[22m\u001b[39m           Renewabl...      2   49.1ms    0.1%  24.5ms   4.38MiB    0.1%  2.19MiB\n",
      "\u001b[36m\u001b[1m│ \u001b[22m\u001b[39m           Interrup...      2   49.0ms    0.1%  24.5ms   4.38MiB    0.1%  2.19MiB\n",
      "\u001b[36m\u001b[1m│ \u001b[22m\u001b[39m           Monitore...      2   48.8ms    0.1%  24.4ms   4.39MiB    0.1%  2.20MiB\n",
      "\u001b[36m\u001b[1m│ \u001b[22m\u001b[39m           HydroDis...      2   48.6ms    0.1%  24.3ms   4.38MiB    0.1%  2.19MiB\n",
      "\u001b[36m\u001b[1m│ \u001b[22m\u001b[39m           TapTrans...      2   48.5ms    0.1%  24.3ms   4.39MiB    0.1%  2.19MiB\n",
      "\u001b[36m\u001b[1m│ \u001b[22m\u001b[39m           Transfor...      2   48.3ms    0.1%  24.2ms   4.38MiB    0.1%  2.19MiB\n",
      "\u001b[36m\u001b[1m│ \u001b[22m\u001b[39m           HVDCLine         2   44.8ms    0.1%  22.4ms   2.43MiB    0.0%  1.21MiB\n",
      "\u001b[36m\u001b[1m│ \u001b[22m\u001b[39m           Services         2   4.16μs    0.0%  2.08μs     0.00B    0.0%    0.00B\n",
      "\u001b[36m\u001b[1m│ \u001b[22m\u001b[39m       ThermalStandard      2    3.46s    5.6%   1.73s    376MiB    5.1%   188MiB\n",
      "\u001b[36m\u001b[1m│ \u001b[22m\u001b[39m       DCPPowerModel        1    293ms    0.5%   293ms   52.9MiB    0.7%  52.9MiB\n",
      "\u001b[36m\u001b[1m│ \u001b[22m\u001b[39m       GenericBattery       2    133ms    0.2%  66.6ms   22.4MiB    0.3%  11.2MiB\n",
      "\u001b[36m\u001b[1m│ \u001b[22m\u001b[39m       Interruptibl...      2   13.1ms    0.0%  6.55ms    510KiB    0.0%   255KiB\n",
      "\u001b[36m\u001b[1m│ \u001b[22m\u001b[39m       MonitoredLine        2   13.0ms    0.0%  6.49ms    510KiB    0.0%   255KiB\n",
      "\u001b[36m\u001b[1m│ \u001b[22m\u001b[39m       HVDCLine             2   12.9ms    0.0%  6.46ms    510KiB    0.0%   255KiB\n",
      "\u001b[36m\u001b[1m│ \u001b[22m\u001b[39m       RenewableDis...      2   7.83ms    0.0%  3.92ms   3.72MiB    0.1%  1.86MiB\n",
      "\u001b[36m\u001b[1m│ \u001b[22m\u001b[39m       Line                 2   5.42ms    0.0%  2.71ms   3.62MiB    0.0%  1.81MiB\n",
      "\u001b[36m\u001b[1m│ \u001b[22m\u001b[39m       PowerLoad            2   3.36ms    0.0%  1.68ms    622KiB    0.0%   311KiB\n",
      "\u001b[36m\u001b[1m│ \u001b[22m\u001b[39m       Objective            1    929μs    0.0%   929μs   1.01MiB    0.0%  1.01MiB\n",
      "\u001b[36m\u001b[1m│ \u001b[22m\u001b[39m       HydroDispatch        2    130μs    0.0%  64.9μs   10.1KiB    0.0%  5.06KiB\n",
      "\u001b[36m\u001b[1m│ \u001b[22m\u001b[39m       HydroEnergyR...      2    106μs    0.0%  53.1μs   10.8KiB    0.0%  5.38KiB\n",
      "\u001b[36m\u001b[1m│ \u001b[22m\u001b[39m       RenewableFix         2   74.1μs    0.0%  37.0μs   10.1KiB    0.0%  5.06KiB\n",
      "\u001b[36m\u001b[1m│ \u001b[22m\u001b[39m       TapTransformer       2   65.4μs    0.0%  32.7μs   10.1KiB    0.0%  5.06KiB\n",
      "\u001b[36m\u001b[1m│ \u001b[22m\u001b[39m       Transformer2W        2   37.0μs    0.0%  18.5μs   10.1KiB    0.0%  5.06KiB\n",
      "\u001b[36m\u001b[1m│ \u001b[22m\u001b[39m       Services             2   1.10μs    0.0%   552ns     0.00B    0.0%    0.00B\n",
      "\u001b[36m\u001b[1m│ \u001b[22m\u001b[39m   Initialize Simul...      1    3.40s    5.5%   3.40s    189MiB    2.5%   189MiB\n",
      "\u001b[36m\u001b[1m│ \u001b[22m\u001b[39m   Serializing Simu...      1    213ms    0.3%   213ms   47.2MiB    0.6%  47.2MiB\n",
      "\u001b[36m\u001b[1m│ \u001b[22m\u001b[39m   Check Steps              1    116ms    0.2%   116ms   18.8MiB    0.3%  18.8MiB\n",
      "\u001b[36m\u001b[1m│ \u001b[22m\u001b[39m   Initialize Simul...      1   10.3ms    0.0%  10.3ms    232KiB    0.0%   232KiB\n",
      "\u001b[36m\u001b[1m└ \u001b[22m\u001b[39m ────────────────────────────────────────────────────────────────────────────────\n"
     ]
    },
    {
     "data": {
      "text/plain": [
       "BuildStatus.BUILT = 0"
      ]
     },
     "execution_count": 10,
     "metadata": {},
     "output_type": "execute_result"
    }
   ],
   "source": [
    "build!(sim)"
   ]
  },
  {
   "cell_type": "code",
   "execution_count": 11,
   "id": "67d287c9-11c6-4279-91b1-572861182f4f",
   "metadata": {},
   "outputs": [],
   "source": [
    "using Printf"
   ]
  },
  {
   "cell_type": "code",
   "execution_count": 14,
   "id": "252e8b4b-b136-498c-b5f7-74c8414d1fb3",
   "metadata": {},
   "outputs": [
    {
     "name": "stdout",
     "output_type": "stream",
     "text": [
      "[1]\n",
      "Writing to model_1.txt\n",
      "======\n"
     ]
    }
   ],
   "source": [
    "# taken from _execute! in PowerSimulations\n",
    "# also PowerSimulations.jl/src/core/optimization_container.jl\n",
    "sequence = PowerSimulations.get_sequence(sim)\n",
    "models = PowerSimulations.get_models(sim)\n",
    "execution_order = PowerSimulations.get_execution_order(sim)\n",
    "\n",
    "for (ix, model_number) in enumerate(execution_order)\n",
    "    println(\"[\", ix, \"]\")\n",
    "    model = get_simulation_model(models, model_number)\n",
    "    model_name = get_name(model)\n",
    "    \n",
    "    # println(\"Methods: \", InteractiveUtils.methodswith(typeof(model)))\n",
    "    \n",
    "    container = PowerSimulations.get_optimization_container(model)\n",
    "    jump_model = PowerSimulations.get_jump_model(container)\n",
    "    \n",
    "    \n",
    "    # println(\"Vars: \", fieldnames(typeof(model)))\n",
    "    \n",
    "    # println(typeof(jump_model))\n",
    "    \n",
    "    fname = @sprintf \"model_%i.txt\" ix\n",
    "    println(\"Writing to \", fname)\n",
    "    open(fname, \"w\") do io\n",
    "        write(io, jump_model)\n",
    "    end;\n",
    "    # println(jump_model)\n",
    "    \n",
    "    # print(model)\n",
    "    println(\"======\")\n",
    "end"
   ]
  },
  {
   "cell_type": "markdown",
   "id": "54778ce0-0738-4a88-9e4e-351f8fc6bb93",
   "metadata": {},
   "source": [
    "### Run the model"
   ]
  },
  {
   "cell_type": "code",
   "execution_count": 13,
   "id": "bc1991eb-04eb-4ed4-87f8-63f462998172",
   "metadata": {},
   "outputs": [],
   "source": [
    "# execute!(sim)"
   ]
  },
  {
   "cell_type": "code",
   "execution_count": null,
   "id": "03de0f01-f58d-41c6-83ca-ad2430091e90",
   "metadata": {},
   "outputs": [],
   "source": []
  }
 ],
 "metadata": {
  "kernelspec": {
   "display_name": "Julia 1.7.2",
   "language": "julia",
   "name": "julia-1.7"
  },
  "language_info": {
   "file_extension": ".jl",
   "mimetype": "application/julia",
   "name": "julia",
   "version": "1.7.2"
  }
 },
 "nbformat": 4,
 "nbformat_minor": 5
}
