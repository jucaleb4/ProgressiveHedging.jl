{
 "cells": [
  {
   "cell_type": "markdown",
   "id": "de4973e7-4051-41c8-bc41-c1b6a8587037",
   "metadata": {},
   "source": [
    "### Adding batteries\n",
    "\n",
    "The goal is to add batteries to a system. The main idea is to take a Bus, i.e. a node, and add a battery there. The procedure is a bit straightforward but we will flesh it out here. To see an example, see Joseph McKinsey's `prepare_systems.jl` file or this [tutorial](https://github.com/NREL-SIIP/SIIPExamples.jl/blob/master/test/4_PowerSimulationsDynamics_examples/03_inverter_model.jl).\n",
    "\n",
    "First let's load in two systems. The first the 5 bus system that already has batteries and a large RTS GMLC that has no batteries (which we will add)."
   ]
  },
  {
   "cell_type": "code",
   "execution_count": 3,
   "id": "815051fa-f6ef-4054-b756-92ac0853c992",
   "metadata": {},
   "outputs": [
    {
     "name": "stderr",
     "output_type": "stream",
     "text": [
      "\u001b[32m\u001b[1m  Activating\u001b[22m\u001b[39m project at `/lustre/eaglefs/projects/pvb/cju/ProgressiveHedging.jl`\n"
     ]
    }
   ],
   "source": [
    "using Pkg\n",
    "# Activate environment that has ProgressiveHedging installed\n",
    "Pkg.activate(\"..\")"
   ]
  },
  {
   "cell_type": "code",
   "execution_count": 4,
   "id": "8687abb0-a9e2-499a-b735-674681bfafb5",
   "metadata": {},
   "outputs": [
    {
     "name": "stderr",
     "output_type": "stream",
     "text": [
      "┌ Info: Xpress: Found license file /nopt/nrel/apps/xpressmp/8.13.0/bin/xpauth.xpr\n",
      "└ @ Xpress /home/cju/.julia/packages/Xpress/xOQbX/src/license.jl:44\n",
      "┌ Info: Xpress: Development license detected.\n",
      "└ @ Xpress /home/cju/.julia/packages/Xpress/xOQbX/src/license.jl:89\n"
     ]
    },
    {
     "data": {
      "text/plain": [
       "PowerSimulations"
      ]
     },
     "execution_count": 4,
     "metadata": {},
     "output_type": "execute_result"
    }
   ],
   "source": [
    "using PowerSimulations, PowerSystems, PowerSystemCaseBuilder\n",
    "using Xpress, Dates\n",
    "const PSY = PowerSystems\n",
    "const PSI = PowerSimulations"
   ]
  },
  {
   "cell_type": "code",
   "execution_count": 5,
   "id": "51bb6ecb-46f1-4698-8a2b-160a504be7a6",
   "metadata": {},
   "outputs": [
    {
     "name": "stderr",
     "output_type": "stream",
     "text": [
      "┌ Info: Loaded time series from storage file existing=modified_RTS_GMLC_DA_sys_time_series_storage.h5 new=/tmp/scratch/jl_nElY2w compression=CompressionSettings(false, CompressionTypes.DEFLATE = 1, 3, true)\n",
      "└ @ InfrastructureSystems /home/cju/.julia/packages/InfrastructureSystems/Oc56m/src/hdf5_time_series_storage.jl:100\n"
     ]
    },
    {
     "data": {
      "text/html": [
       "<table>\n",
       "  <caption style = \"text-align: left;\">System</caption>\n",
       "  <thead>\n",
       "    <tr class = \"header headerLastRow\">\n",
       "      <th style = \"text-align: left;\">Property</th>\n",
       "      <th style = \"text-align: left;\">Value</th>\n",
       "    </tr>\n",
       "  </thead>\n",
       "  <tbody>\n",
       "    <tr>\n",
       "      <td style = \"text-align: left;\">System Units Base</td>\n",
       "      <td style = \"text-align: left;\">SYSTEM_BASE</td>\n",
       "    </tr>\n",
       "    <tr>\n",
       "      <td style = \"text-align: left;\">Base Power</td>\n",
       "      <td style = \"text-align: left;\">100.0</td>\n",
       "    </tr>\n",
       "    <tr>\n",
       "      <td style = \"text-align: left;\">Base Frequency</td>\n",
       "      <td style = \"text-align: left;\">60.0</td>\n",
       "    </tr>\n",
       "    <tr>\n",
       "      <td style = \"text-align: left;\">Num Components</td>\n",
       "      <td style = \"text-align: left;\">500</td>\n",
       "    </tr>\n",
       "  </tbody>\n",
       "</table>\n",
       "\n",
       "<table>\n",
       "  <caption style = \"text-align: left;\">Static Components</caption>\n",
       "  <thead>\n",
       "    <tr class = \"header headerLastRow\">\n",
       "      <th style = \"text-align: left;\">Type</th>\n",
       "      <th style = \"text-align: left;\">Count</th>\n",
       "      <th style = \"text-align: left;\">Has Static Time Series</th>\n",
       "      <th style = \"text-align: left;\">Has Forecasts</th>\n",
       "    </tr>\n",
       "  </thead>\n",
       "  <tbody>\n",
       "    <tr>\n",
       "      <td style = \"text-align: left;\">Arc</td>\n",
       "      <td style = \"text-align: left;\">109</td>\n",
       "      <td style = \"text-align: left;\">false</td>\n",
       "      <td style = \"text-align: left;\">false</td>\n",
       "    </tr>\n",
       "    <tr>\n",
       "      <td style = \"text-align: left;\">Area</td>\n",
       "      <td style = \"text-align: left;\">3</td>\n",
       "      <td style = \"text-align: left;\">true</td>\n",
       "      <td style = \"text-align: left;\">true</td>\n",
       "    </tr>\n",
       "    <tr>\n",
       "      <td style = \"text-align: left;\">Bus</td>\n",
       "      <td style = \"text-align: left;\">73</td>\n",
       "      <td style = \"text-align: left;\">false</td>\n",
       "      <td style = \"text-align: left;\">false</td>\n",
       "    </tr>\n",
       "    <tr>\n",
       "      <td style = \"text-align: left;\">FixedAdmittance</td>\n",
       "      <td style = \"text-align: left;\">3</td>\n",
       "      <td style = \"text-align: left;\">true</td>\n",
       "      <td style = \"text-align: left;\">true</td>\n",
       "    </tr>\n",
       "    <tr>\n",
       "      <td style = \"text-align: left;\">HydroDispatch</td>\n",
       "      <td style = \"text-align: left;\">1</td>\n",
       "      <td style = \"text-align: left;\">true</td>\n",
       "      <td style = \"text-align: left;\">true</td>\n",
       "    </tr>\n",
       "    <tr>\n",
       "      <td style = \"text-align: left;\">Line</td>\n",
       "      <td style = \"text-align: left;\">105</td>\n",
       "      <td style = \"text-align: left;\">false</td>\n",
       "      <td style = \"text-align: left;\">false</td>\n",
       "    </tr>\n",
       "    <tr>\n",
       "      <td style = \"text-align: left;\">LoadZone</td>\n",
       "      <td style = \"text-align: left;\">21</td>\n",
       "      <td style = \"text-align: left;\">false</td>\n",
       "      <td style = \"text-align: left;\">false</td>\n",
       "    </tr>\n",
       "    <tr>\n",
       "      <td style = \"text-align: left;\">PowerLoad</td>\n",
       "      <td style = \"text-align: left;\">51</td>\n",
       "      <td style = \"text-align: left;\">true</td>\n",
       "      <td style = \"text-align: left;\">true</td>\n",
       "    </tr>\n",
       "    <tr>\n",
       "      <td style = \"text-align: left;\">RenewableDispatch</td>\n",
       "      <td style = \"text-align: left;\">29</td>\n",
       "      <td style = \"text-align: left;\">true</td>\n",
       "      <td style = \"text-align: left;\">true</td>\n",
       "    </tr>\n",
       "    <tr>\n",
       "      <td style = \"text-align: left;\">RenewableFix</td>\n",
       "      <td style = \"text-align: left;\">31</td>\n",
       "      <td style = \"text-align: left;\">true</td>\n",
       "      <td style = \"text-align: left;\">true</td>\n",
       "    </tr>\n",
       "    <tr>\n",
       "      <td style = \"text-align: left;\">TapTransformer</td>\n",
       "      <td style = \"text-align: left;\">15</td>\n",
       "      <td style = \"text-align: left;\">false</td>\n",
       "      <td style = \"text-align: left;\">false</td>\n",
       "    </tr>\n",
       "    <tr>\n",
       "      <td style = \"text-align: left;\">ThermalStandard</td>\n",
       "      <td style = \"text-align: left;\">54</td>\n",
       "      <td style = \"text-align: left;\">false</td>\n",
       "      <td style = \"text-align: left;\">false</td>\n",
       "    </tr>\n",
       "    <tr>\n",
       "      <td style = \"text-align: left;\">VariableReserve{ReserveDown}</td>\n",
       "      <td style = \"text-align: left;\">1</td>\n",
       "      <td style = \"text-align: left;\">true</td>\n",
       "      <td style = \"text-align: left;\">true</td>\n",
       "    </tr>\n",
       "    <tr>\n",
       "      <td style = \"text-align: left;\">VariableReserve{ReserveUp}</td>\n",
       "      <td style = \"text-align: left;\">4</td>\n",
       "      <td style = \"text-align: left;\">true</td>\n",
       "      <td style = \"text-align: left;\">true</td>\n",
       "    </tr>\n",
       "  </tbody>\n",
       "</table>\n",
       "\n",
       "<table>\n",
       "  <caption style = \"text-align: left;\">Time Series Summary</caption>\n",
       "  <thead>\n",
       "    <tr class = \"header headerLastRow\">\n",
       "      <th style = \"text-align: left;\">Property</th>\n",
       "      <th style = \"text-align: left;\">Value</th>\n",
       "    </tr>\n",
       "  </thead>\n",
       "  <tbody>\n",
       "    <tr>\n",
       "      <td style = \"text-align: left;\">Components with time series data</td>\n",
       "      <td style = \"text-align: left;\">123</td>\n",
       "    </tr>\n",
       "    <tr>\n",
       "      <td style = \"text-align: left;\">Total StaticTimeSeries</td>\n",
       "      <td style = \"text-align: left;\">124</td>\n",
       "    </tr>\n",
       "    <tr>\n",
       "      <td style = \"text-align: left;\">Total Forecasts</td>\n",
       "      <td style = \"text-align: left;\">124</td>\n",
       "    </tr>\n",
       "    <tr>\n",
       "      <td style = \"text-align: left;\">Resolution</td>\n",
       "      <td style = \"text-align: left;\">60 minutes</td>\n",
       "    </tr>\n",
       "    <tr>\n",
       "      <td style = \"text-align: left;\">First initial time</td>\n",
       "      <td style = \"text-align: left;\">2020-01-01T00:00:00</td>\n",
       "    </tr>\n",
       "    <tr>\n",
       "      <td style = \"text-align: left;\">Last initial time</td>\n",
       "      <td style = \"text-align: left;\">2020-12-30T00:00:00</td>\n",
       "    </tr>\n",
       "    <tr>\n",
       "      <td style = \"text-align: left;\">Horizon</td>\n",
       "      <td style = \"text-align: left;\">48</td>\n",
       "    </tr>\n",
       "    <tr>\n",
       "      <td style = \"text-align: left;\">Interval</td>\n",
       "      <td style = \"text-align: left;\">1440 minutes</td>\n",
       "    </tr>\n",
       "    <tr>\n",
       "      <td style = \"text-align: left;\">Forecast window count</td>\n",
       "      <td style = \"text-align: left;\">365</td>\n",
       "    </tr>\n",
       "  </tbody>\n",
       "</table>\n"
      ],
      "text/plain": [
       "\u001b[1mSystem\u001b[0m\n",
       "┌───────────────────┬─────────────┐\n",
       "│\u001b[1m Property          \u001b[0m│\u001b[1m Value       \u001b[0m│\n",
       "├───────────────────┼─────────────┤\n",
       "│ System Units Base │ SYSTEM_BASE │\n",
       "│ Base Power        │ 100.0       │\n",
       "│ Base Frequency    │ 60.0        │\n",
       "│ Num Components    │ 500         │\n",
       "└───────────────────┴─────────────┘\n",
       "\n",
       "\u001b[1mStatic Components\u001b[0m\n",
       "┌──────────────────────────────┬───────┬────────────────────────┬───────────────\n",
       "│\u001b[1m Type                         \u001b[0m│\u001b[1m Count \u001b[0m│\u001b[1m Has Static Time Series \u001b[0m│\u001b[1m Has Forecast\u001b[0m ⋯\n",
       "├──────────────────────────────┼───────┼────────────────────────┼───────────────\n",
       "│ Arc                          │ 109   │ false                  │ false        ⋯\n",
       "│ Area                         │ 3     │ true                   │ true         ⋯\n",
       "│ Bus                          │ 73    │ false                  │ false        ⋯\n",
       "│ FixedAdmittance              │ 3     │ true                   │ true         ⋯\n",
       "│ HydroDispatch                │ 1     │ true                   │ true         ⋯\n",
       "│ Line                         │ 105   │ false                  │ false        ⋯\n",
       "│ LoadZone                     │ 21    │ false                  │ false        ⋯\n",
       "│ PowerLoad                    │ 51    │ true                   │ true         ⋯\n",
       "│ RenewableDispatch            │ 29    │ true                   │ true         ⋯\n",
       "│ RenewableFix                 │ 31    │ true                   │ true         ⋯\n",
       "│ TapTransformer               │ 15    │ false                  │ false        ⋯\n",
       "│ ThermalStandard              │ 54    │ false                  │ false        ⋯\n",
       "│ VariableReserve{ReserveDown} │ 1     │ true                   │ true         ⋯\n",
       "│ VariableReserve{ReserveUp}   │ 4     │ true                   │ true         ⋯\n",
       "└──────────────────────────────┴───────┴────────────────────────┴───────────────\n",
       "\u001b[36m                                                                1 column omitted\u001b[0m\n",
       "\n",
       "\u001b[1mTime Series Summary\u001b[0m\n",
       "┌──────────────────────────────────┬─────────────────────┐\n",
       "│\u001b[1m Property                         \u001b[0m│\u001b[1m Value               \u001b[0m│\n",
       "├──────────────────────────────────┼─────────────────────┤\n",
       "│ Components with time series data │ 123                 │\n",
       "│ Total StaticTimeSeries           │ 124                 │\n",
       "│ Total Forecasts                  │ 124                 │\n",
       "│ Resolution                       │ 60 minutes          │\n",
       "│ First initial time               │ 2020-01-01T00:00:00 │\n",
       "│ Last initial time                │ 2020-12-30T00:00:00 │\n",
       "│ Horizon                          │ 48                  │\n",
       "│ Interval                         │ 1440 minutes        │\n",
       "│ Forecast window count            │ 365                 │\n",
       "└──────────────────────────────────┴─────────────────────┘\n"
      ]
     },
     "execution_count": 5,
     "metadata": {},
     "output_type": "execute_result"
    }
   ],
   "source": [
    "system = build_system(PSITestSystems, \"modified_RTS_GMLC_DA_sys\", time_series_directory = \"/tmp/scratch\")"
   ]
  },
  {
   "cell_type": "code",
   "execution_count": 6,
   "id": "c60674e6-4e27-42bb-bcca-db94eddc4e59",
   "metadata": {},
   "outputs": [
    {
     "name": "stderr",
     "output_type": "stream",
     "text": [
      "┌ Info: Loaded time series from storage file existing=sys_time_series_storage.h5 new=/tmp/scratch/jl_rSobrh compression=CompressionSettings(false, CompressionTypes.DEFLATE = 1, 3, true)\n",
      "└ @ InfrastructureSystems /home/cju/.julia/packages/InfrastructureSystems/Oc56m/src/hdf5_time_series_storage.jl:100\n",
      "┌ Warning: Invalid range\n",
      "│   valid_info.struct_name = Bus\n",
      "│   field_name = magnitude\n",
      "│   valid_range = voltage_limits\n",
      "│   valid_info.ist_struct = Bus(1, node_a, BusTypes.PV = 3, 0.0, 0.01, (min = 0.95, max = 1.05), 100.0, Area(nothing, 0.0, 0.0, 0.0), LoadZone(zone1, 10.0, 3.287), Dict{String, Any}())\n",
      "└ @ InfrastructureSystems /home/cju/.julia/packages/InfrastructureSystems/Oc56m/src/validation.jl:222\n",
      "┌ Warning: Invalid range\n",
      "│   valid_info.struct_name = Bus\n",
      "│   field_name = magnitude\n",
      "│   valid_range = voltage_limits\n",
      "│   valid_info.ist_struct = Bus(4, node_d, BusTypes.REF = 4, 0.0, 0.01, (min = 0.95, max = 1.05), 100.0, Area(nothing, 0.0, 0.0, 0.0), LoadZone(zone1, 10.0, 3.287), Dict{String, Any}())\n",
      "└ @ InfrastructureSystems /home/cju/.julia/packages/InfrastructureSystems/Oc56m/src/validation.jl:222\n",
      "┌ Warning: Invalid range\n",
      "│   valid_info.struct_name = Bus\n",
      "│   field_name = magnitude\n",
      "│   valid_range = voltage_limits\n",
      "│   valid_info.ist_struct = Bus(5, node_e, BusTypes.PV = 3, 0.0, 0.01, (min = 0.95, max = 1.05), 100.0, Area(nothing, 0.0, 0.0, 0.0), LoadZone(zone1, 10.0, 3.287), Dict{String, Any}())\n",
      "└ @ InfrastructureSystems /home/cju/.julia/packages/InfrastructureSystems/Oc56m/src/validation.jl:222\n",
      "┌ Warning: Invalid range\n",
      "│   valid_info.struct_name = Bus\n",
      "│   field_name = magnitude\n",
      "│   valid_range = voltage_limits\n",
      "│   valid_info.ist_struct = Bus(3, node_c, BusTypes.PV = 3, 0.0, 0.01, (min = 0.95, max = 1.05), 100.0, Area(nothing, 0.0, 0.0, 0.0), LoadZone(zone1, 10.0, 3.287), Dict{String, Any}())\n",
      "└ @ InfrastructureSystems /home/cju/.julia/packages/InfrastructureSystems/Oc56m/src/validation.jl:222\n",
      "┌ Warning: Invalid range\n",
      "│   valid_info.struct_name = Bus\n",
      "│   field_name = magnitude\n",
      "│   valid_range = voltage_limits\n",
      "│   valid_info.ist_struct = Bus(2, node_b, BusTypes.PQ = 2, 0.0, 0.01, (min = 0.95, max = 1.05), 100.0, Area(nothing, 0.0, 0.0, 0.0), LoadZone(zone1, 10.0, 3.287), Dict{String, Any}())\n",
      "└ @ InfrastructureSystems /home/cju/.julia/packages/InfrastructureSystems/Oc56m/src/validation.jl:222\n"
     ]
    },
    {
     "data": {
      "text/html": [
       "<table>\n",
       "  <caption style = \"text-align: left;\">System</caption>\n",
       "  <thead>\n",
       "    <tr class = \"header headerLastRow\">\n",
       "      <th style = \"text-align: left;\">Property</th>\n",
       "      <th style = \"text-align: left;\">Value</th>\n",
       "    </tr>\n",
       "  </thead>\n",
       "  <tbody>\n",
       "    <tr>\n",
       "      <td style = \"text-align: left;\">System Units Base</td>\n",
       "      <td style = \"text-align: left;\">DEVICE_BASE</td>\n",
       "    </tr>\n",
       "    <tr>\n",
       "      <td style = \"text-align: left;\">Base Power</td>\n",
       "      <td style = \"text-align: left;\">100.0</td>\n",
       "    </tr>\n",
       "    <tr>\n",
       "      <td style = \"text-align: left;\">Base Frequency</td>\n",
       "      <td style = \"text-align: left;\">60.0</td>\n",
       "    </tr>\n",
       "    <tr>\n",
       "      <td style = \"text-align: left;\">Num Components</td>\n",
       "      <td style = \"text-align: left;\">31</td>\n",
       "    </tr>\n",
       "  </tbody>\n",
       "</table>\n",
       "\n",
       "<table>\n",
       "  <caption style = \"text-align: left;\">Static Components</caption>\n",
       "  <thead>\n",
       "    <tr class = \"header headerLastRow\">\n",
       "      <th style = \"text-align: left;\">Type</th>\n",
       "      <th style = \"text-align: left;\">Count</th>\n",
       "      <th style = \"text-align: left;\">Has Static Time Series</th>\n",
       "      <th style = \"text-align: left;\">Has Forecasts</th>\n",
       "    </tr>\n",
       "  </thead>\n",
       "  <tbody>\n",
       "    <tr>\n",
       "      <td style = \"text-align: left;\">Arc</td>\n",
       "      <td style = \"text-align: left;\">6</td>\n",
       "      <td style = \"text-align: left;\">false</td>\n",
       "      <td style = \"text-align: left;\">false</td>\n",
       "    </tr>\n",
       "    <tr>\n",
       "      <td style = \"text-align: left;\">Area</td>\n",
       "      <td style = \"text-align: left;\">1</td>\n",
       "      <td style = \"text-align: left;\">false</td>\n",
       "      <td style = \"text-align: left;\">false</td>\n",
       "    </tr>\n",
       "    <tr>\n",
       "      <td style = \"text-align: left;\">Bus</td>\n",
       "      <td style = \"text-align: left;\">5</td>\n",
       "      <td style = \"text-align: left;\">false</td>\n",
       "      <td style = \"text-align: left;\">false</td>\n",
       "    </tr>\n",
       "    <tr>\n",
       "      <td style = \"text-align: left;\">GenericBattery</td>\n",
       "      <td style = \"text-align: left;\">1</td>\n",
       "      <td style = \"text-align: left;\">false</td>\n",
       "      <td style = \"text-align: left;\">false</td>\n",
       "    </tr>\n",
       "    <tr>\n",
       "      <td style = \"text-align: left;\">Line</td>\n",
       "      <td style = \"text-align: left;\">6</td>\n",
       "      <td style = \"text-align: left;\">false</td>\n",
       "      <td style = \"text-align: left;\">false</td>\n",
       "    </tr>\n",
       "    <tr>\n",
       "      <td style = \"text-align: left;\">LoadZone</td>\n",
       "      <td style = \"text-align: left;\">1</td>\n",
       "      <td style = \"text-align: left;\">false</td>\n",
       "      <td style = \"text-align: left;\">false</td>\n",
       "    </tr>\n",
       "    <tr>\n",
       "      <td style = \"text-align: left;\">PowerLoad</td>\n",
       "      <td style = \"text-align: left;\">3</td>\n",
       "      <td style = \"text-align: left;\">true</td>\n",
       "      <td style = \"text-align: left;\">false</td>\n",
       "    </tr>\n",
       "    <tr>\n",
       "      <td style = \"text-align: left;\">RenewableDispatch</td>\n",
       "      <td style = \"text-align: left;\">3</td>\n",
       "      <td style = \"text-align: left;\">true</td>\n",
       "      <td style = \"text-align: left;\">false</td>\n",
       "    </tr>\n",
       "    <tr>\n",
       "      <td style = \"text-align: left;\">ThermalStandard</td>\n",
       "      <td style = \"text-align: left;\">5</td>\n",
       "      <td style = \"text-align: left;\">false</td>\n",
       "      <td style = \"text-align: left;\">false</td>\n",
       "    </tr>\n",
       "  </tbody>\n",
       "</table>\n",
       "\n",
       "<table>\n",
       "  <caption style = \"text-align: left;\">Time Series Summary</caption>\n",
       "  <thead>\n",
       "    <tr class = \"header headerLastRow\">\n",
       "      <th style = \"text-align: left;\">Property</th>\n",
       "      <th style = \"text-align: left;\">Value</th>\n",
       "    </tr>\n",
       "  </thead>\n",
       "  <tbody>\n",
       "    <tr>\n",
       "      <td style = \"text-align: left;\">Components with time series data</td>\n",
       "      <td style = \"text-align: left;\">6</td>\n",
       "    </tr>\n",
       "    <tr>\n",
       "      <td style = \"text-align: left;\">Total StaticTimeSeries</td>\n",
       "      <td style = \"text-align: left;\">6</td>\n",
       "    </tr>\n",
       "    <tr>\n",
       "      <td style = \"text-align: left;\">Total Forecasts</td>\n",
       "      <td style = \"text-align: left;\">0</td>\n",
       "    </tr>\n",
       "    <tr>\n",
       "      <td style = \"text-align: left;\">Resolution</td>\n",
       "      <td style = \"text-align: left;\">60 minutes</td>\n",
       "    </tr>\n",
       "  </tbody>\n",
       "</table>\n"
      ],
      "text/plain": [
       "\u001b[1mSystem\u001b[0m\n",
       "┌───────────────────┬─────────────┐\n",
       "│\u001b[1m Property          \u001b[0m│\u001b[1m Value       \u001b[0m│\n",
       "├───────────────────┼─────────────┤\n",
       "│ System Units Base │ DEVICE_BASE │\n",
       "│ Base Power        │ 100.0       │\n",
       "│ Base Frequency    │ 60.0        │\n",
       "│ Num Components    │ 31          │\n",
       "└───────────────────┴─────────────┘\n",
       "\n",
       "\u001b[1mStatic Components\u001b[0m\n",
       "┌───────────────────┬───────┬────────────────────────┬───────────────┐\n",
       "│\u001b[1m Type              \u001b[0m│\u001b[1m Count \u001b[0m│\u001b[1m Has Static Time Series \u001b[0m│\u001b[1m Has Forecasts \u001b[0m│\n",
       "├───────────────────┼───────┼────────────────────────┼───────────────┤\n",
       "│ Arc               │ 6     │ false                  │ false         │\n",
       "│ Area              │ 1     │ false                  │ false         │\n",
       "│ Bus               │ 5     │ false                  │ false         │\n",
       "│ GenericBattery    │ 1     │ false                  │ false         │\n",
       "│ Line              │ 6     │ false                  │ false         │\n",
       "│ LoadZone          │ 1     │ false                  │ false         │\n",
       "│ PowerLoad         │ 3     │ true                   │ false         │\n",
       "│ RenewableDispatch │ 3     │ true                   │ false         │\n",
       "│ ThermalStandard   │ 5     │ false                  │ false         │\n",
       "└───────────────────┴───────┴────────────────────────┴───────────────┘\n",
       "\n",
       "\u001b[1mTime Series Summary\u001b[0m\n",
       "┌──────────────────────────────────┬────────────┐\n",
       "│\u001b[1m Property                         \u001b[0m│\u001b[1m Value      \u001b[0m│\n",
       "├──────────────────────────────────┼────────────┤\n",
       "│ Components with time series data │ 6          │\n",
       "│ Total StaticTimeSeries           │ 6          │\n",
       "│ Total Forecasts                  │ 0          │\n",
       "│ Resolution                       │ 60 minutes │\n",
       "└──────────────────────────────────┴────────────┘\n"
      ]
     },
     "execution_count": 6,
     "metadata": {},
     "output_type": "execute_result"
    }
   ],
   "source": [
    "sys_name = \"/lustre/eaglefs/projects/pvb/5_bus_battery_testing/data/new_systems/pv=30_storagehours=10_wind=30/sys.json\"\n",
    "sysj = PSY.System(sys_name, time_series_directory = \"/tmp/scratch\")"
   ]
  },
  {
   "cell_type": "markdown",
   "id": "6a2ee096-47c2-45c6-a6c9-626f50945919",
   "metadata": {},
   "source": [
    "### Finding available nodes\n",
    "\n",
    "Next, let's check what buses/nodes are available in each of the systems."
   ]
  },
  {
   "cell_type": "code",
   "execution_count": 7,
   "id": "38e13502-5504-4b4b-98ca-2160b88d2edd",
   "metadata": {},
   "outputs": [
    {
     "data": {
      "text/plain": [
       "5-element Vector{Bus}:\n",
       " Bus(1, node_a, BusTypes.PV = 3, 0.0, 0.01, (min = 0.95, max = 1.05), 100.0, Area(nothing, 0.0, 0.0, 0.0), LoadZone(zone1, 10.0, 3.287), Dict{String, Any}())\n",
       " Bus(4, node_d, BusTypes.REF = 4, 0.0, 0.01, (min = 0.95, max = 1.05), 100.0, Area(nothing, 0.0, 0.0, 0.0), LoadZone(zone1, 10.0, 3.287), Dict{String, Any}())\n",
       " Bus(5, node_e, BusTypes.PV = 3, 0.0, 0.01, (min = 0.95, max = 1.05), 100.0, Area(nothing, 0.0, 0.0, 0.0), LoadZone(zone1, 10.0, 3.287), Dict{String, Any}())\n",
       " Bus(3, node_c, BusTypes.PV = 3, 0.0, 0.01, (min = 0.95, max = 1.05), 100.0, Area(nothing, 0.0, 0.0, 0.0), LoadZone(zone1, 10.0, 3.287), Dict{String, Any}())\n",
       " Bus(2, node_b, BusTypes.PQ = 2, 0.0, 0.01, (min = 0.95, max = 1.05), 100.0, Area(nothing, 0.0, 0.0, 0.0), LoadZone(zone1, 10.0, 3.287), Dict{String, Any}())"
      ]
     },
     "execution_count": 7,
     "metadata": {},
     "output_type": "execute_result"
    }
   ],
   "source": [
    "collect(get_components(Bus, sysj))"
   ]
  },
  {
   "cell_type": "markdown",
   "id": "ca3debd5-d224-46d2-982b-990928565398",
   "metadata": {},
   "source": [
    "Let's see what components are available in `node_a` and `node_b`, since Joseph adds batteries to one of these two."
   ]
  },
  {
   "cell_type": "code",
   "execution_count": 8,
   "id": "163f2a06-b741-4916-b303-98513e5323db",
   "metadata": {},
   "outputs": [
    {
     "name": "stdout",
     "output_type": "stream",
     "text": [
      "get_component(Bus, sysj, \"node_a\") = Bus(1, node_a, BusTypes.PV = 3, 0.0, 0.01, (min = 0.95, max = 1.05), 100.0, Area(nothing, 0.0, 0.0, 0.0), LoadZone(zone1, 10.0, 3.287), Dict{String, Any}())\n"
     ]
    },
    {
     "data": {
      "text/plain": [
       "node_a (Bus):\n",
       "   number: 1\n",
       "   name: node_a\n",
       "   bustype: BusTypes.PV = 3\n",
       "   angle: 0.0\n",
       "   magnitude: 0.01\n",
       "   voltage_limits: (min = 0.95, max = 1.05)\n",
       "   base_voltage: 100.0\n",
       "   area: nothing (Area)\n",
       "   load_zone: zone1 (LoadZone)\n",
       "   ext: Dict{String, Any}()\n",
       "   InfrastructureSystems.SystemUnitsSettings:\n",
       "      base_value: 100.0\n",
       "      unit_system: UnitSystem.DEVICE_BASE = 1"
      ]
     },
     "execution_count": 8,
     "metadata": {},
     "output_type": "execute_result"
    }
   ],
   "source": [
    "@show get_component(Bus, sysj, \"node_a\")"
   ]
  },
  {
   "cell_type": "code",
   "execution_count": 9,
   "id": "3bc60d36-d600-4c7e-92ee-2beef60903a2",
   "metadata": {},
   "outputs": [
    {
     "name": "stdout",
     "output_type": "stream",
     "text": [
      "get_component(Bus, sysj, \"node_b\") = Bus(2, node_b, BusTypes.PQ = 2, 0.0, 0.01, (min = 0.95, max = 1.05), 100.0, Area(nothing, 0.0, 0.0, 0.0), LoadZone(zone1, 10.0, 3.287), Dict{String, Any}())\n"
     ]
    },
    {
     "data": {
      "text/plain": [
       "node_b (Bus):\n",
       "   number: 2\n",
       "   name: node_b\n",
       "   bustype: BusTypes.PQ = 2\n",
       "   angle: 0.0\n",
       "   magnitude: 0.01\n",
       "   voltage_limits: (min = 0.95, max = 1.05)\n",
       "   base_voltage: 100.0\n",
       "   area: nothing (Area)\n",
       "   load_zone: zone1 (LoadZone)\n",
       "   ext: Dict{String, Any}()\n",
       "   InfrastructureSystems.SystemUnitsSettings:\n",
       "      base_value: 100.0\n",
       "      unit_system: UnitSystem.DEVICE_BASE = 1"
      ]
     },
     "execution_count": 9,
     "metadata": {},
     "output_type": "execute_result"
    }
   ],
   "source": [
    "@show get_component(Bus, sysj, \"node_b\")"
   ]
  },
  {
   "cell_type": "markdown",
   "id": "2023dacf-33c3-4f52-be2b-38e3113204b4",
   "metadata": {},
   "source": [
    "OK, so although we tie a battery to a specific bus/node, the bus/node does not contain that information. Perhaps one can think of the bus/node as an address only and a GenericBattery is a description of the battery + it's home address, aka, the chosen bus/node. Let's check out the battery."
   ]
  },
  {
   "cell_type": "code",
   "execution_count": 10,
   "id": "2e67c216-f7b0-4934-8609-b9c7395d1005",
   "metadata": {},
   "outputs": [
    {
     "data": {
      "text/plain": [
       "1-element Vector{GenericBattery}:\n",
       " GenericBattery(Storage_10, true, Bus(2, node_b, BusTypes.PQ = 2, 0.0, 0.01, (min = 0.95, max = 1.05), 100.0, Area(nothing, 0.0, 0.0, 0.0), LoadZone(zone1, 10.0, 3.287), Dict{String, Any}()), PrimeMovers.BA = 1, 5.0, (min = 0.0, max = 10.0), 1.0, 0.0, (min = 0.0, max = 1.0), (min = 0.0, max = 1.0), (in = 0.85, out = 1.0), 0.0, nothing, 200.0, nothing, Service[], nothing, Dict{String, Any}())"
      ]
     },
     "execution_count": 10,
     "metadata": {},
     "output_type": "execute_result"
    }
   ],
   "source": [
    "collect(get_components(GenericBattery, sysj))"
   ]
  },
  {
   "cell_type": "markdown",
   "id": "b9eec8a6-f9ad-4c05-beb9-73585e14e0cd",
   "metadata": {},
   "source": [
    "Aha! We now see that thre is a battery and it's home address of `node_b` is included. Great!\n",
    "\n",
    "Let's also see what's available in the larger system."
   ]
  },
  {
   "cell_type": "code",
   "execution_count": 11,
   "id": "3d5e2281-6336-4ba5-932a-9bfd3f991f92",
   "metadata": {
    "scrolled": true,
    "tags": []
   },
   "outputs": [
    {
     "name": "stdout",
     "output_type": "stream",
     "text": [
      "Bus 1 name: Bacon\n",
      "Bus 2 name: Cobb\n",
      "Bus 3 name: Cole\n",
      "Bus 4 name: Adams\n",
      "Bus 5 name: Aston\n",
      "Bus 6 name: Curie\n",
      "Bus 7 name: Attlee\n",
      "Bus 8 name: Bajer\n",
      "Bus 9 name: Bates\n",
      "Bus 10 name: Adler\n",
      "Bus 11 name: Cabell\n",
      "Bus 12 name: Bailey\n",
      "Bus 13 name: Alder\n",
      "Bus 14 name: Cary\n",
      "Bus 15 name: Allen\n",
      "Bus 16 name: Chuhsi\n",
      "Bus 17 name: Barton\n",
      "Bus 18 name: Comte\n",
      "Bus 19 name: Bach\n",
      "Bus 20 name: Caesar\n",
      "Bus 21 name: Carew\n",
      "Bus 22 name: Bain\n",
      "Bus 23 name: Chase\n",
      "Bus 24 name: Bell\n",
      "Bus 25 name: Carrel\n",
      "Bus 26 name: Ali\n",
      "Bus 27 name: Caruso\n",
      "Bus 28 name: Avery\n",
      "Bus 29 name: Asser\n",
      "Bus 30 name: Aubrey\n",
      "Bus 31 name: Bardeen\n",
      "Bus 32 name: Chifa\n",
      "Bus 33 name: Alger\n",
      "Bus 34 name: Bloch\n",
      "Bus 35 name: Agricola\n",
      "Bus 36 name: Astor\n",
      "Bus 37 name: Aiken\n",
      "Bus 38 name: Clay\n",
      "Bus 39 name: Barlow\n",
      "Bus 40 name: Caine\n",
      "Bus 41 name: Bordet\n",
      "Bus 42 name: Banks\n",
      "Bus 43 name: Curtiss\n",
      "Bus 44 name: Basov\n",
      "Bus 45 name: Balzac\n",
      "Bus 46 name: Camus\n",
      "Bus 47 name: Chain\n",
      "Bus 48 name: Caxton\n",
      "Bus 49 name: Alber\n",
      "Bus 50 name: Clark\n",
      "Bus 51 name: Attar\n",
      "Bus 52 name: Anna\n",
      "Bus 53 name: Arthur\n",
      "Bus 54 name: Cecil\n",
      "Bus 55 name: Beethoven\n",
      "Bus 56 name: Austen\n",
      "Bus 57 name: Attila\n",
      "Bus 58 name: Abel\n",
      "Bus 59 name: Balch\n",
      "Bus 60 name: Carter\n",
      "Bus 61 name: Clive\n",
      "Bus 62 name: Behring\n",
      "Bus 63 name: Calvin\n",
      "Bus 64 name: Cabot\n",
      "Bus 65 name: Bayle\n",
      "Bus 66 name: Bede\n",
      "Bus 67 name: Arnold\n",
      "Bus 68 name: Baker\n",
      "Bus 69 name: Barry\n",
      "Bus 70 name: Barkla\n",
      "Bus 71 name: Arne\n",
      "Bus 72 name: Baffin\n",
      "Bus 73 name: Archer\n"
     ]
    }
   ],
   "source": [
    "for (i, bus) in enumerate(collect(get_components(Bus, system)))\n",
    "    println(\"Bus $(i) name: $(bus.name)\")\n",
    "end"
   ]
  },
  {
   "cell_type": "markdown",
   "id": "db9fb2ae-ab74-44e1-99d1-a820920cad14",
   "metadata": {},
   "source": [
    "This system should not have any batteries. Let's double check."
   ]
  },
  {
   "cell_type": "code",
   "execution_count": 12,
   "id": "4c291d74-1224-409b-a823-b89246f0b1b8",
   "metadata": {},
   "outputs": [
    {
     "data": {
      "text/plain": [
       "GenericBattery[]"
      ]
     },
     "execution_count": 12,
     "metadata": {},
     "output_type": "execute_result"
    }
   ],
   "source": [
    "collect(get_components(GenericBattery, system))"
   ]
  },
  {
   "cell_type": "markdown",
   "id": "e24c1a34-6c27-4e34-bd24-2b738d90e839",
   "metadata": {},
   "source": [
    "### Stability check before and after battery add\n",
    "\n",
    "Before adding a battery and after, it's good to run a optimal power flow to make sure the system is \"stable\" (see [ref](https://github.com/NREL-SIIP/SIIPExamples.jl/blob/master/test/4_PowerSimulationsDynamics_examples/03_inverter_model.jl)). So let's make sure the new system is stable and let's run this diagnosis before and after the addition of a battery."
   ]
  },
  {
   "cell_type": "code",
   "execution_count": 13,
   "id": "ce8b5acc-ee19-4299-b9a1-65d584f475eb",
   "metadata": {
    "scrolled": true,
    "tags": []
   },
   "outputs": [
    {
     "name": "stderr",
     "output_type": "stream",
     "text": [
      "┌ Info: Validating connectivity with Goderya algorithm\n",
      "└ @ PowerSystems /home/cju/.julia/packages/PowerSystems/sxHdO/src/utils/network_calculations/ybus_calculations.jl:308\n",
      "┌ Info: The System has no islands\n",
      "└ @ PowerSystems /home/cju/.julia/packages/PowerSystems/sxHdO/src/utils/network_calculations/ybus_calculations.jl:254\n",
      "┌ Info: PowerFlow solve converged, the results are exported in DataFrames\n",
      "└ @ PowerSystems /home/cju/.julia/packages/PowerSystems/sxHdO/src/utils/power_flow.jl:357\n",
      "┌ Info: Voltages are exported in pu. Powers are exported in MW/MVAr.\n",
      "└ @ PowerSystems /home/cju/.julia/packages/PowerSystems/sxHdO/src/utils/power_flow.jl:189\n"
     ]
    },
    {
     "data": {
      "text/html": [
       "<div class=\"data-frame\"><p>73 rows × 9 columns</p><table class=\"data-frame\"><thead><tr><th></th><th>bus_number</th><th>Vm</th><th>θ</th><th>P_gen</th><th>P_load</th><th>P_net</th><th>Q_gen</th><th>Q_load</th><th>Q_net</th></tr><tr><th></th><th title=\"Int64\">Int64</th><th title=\"Float64\">Float64</th><th title=\"Float64\">Float64</th><th title=\"Float64\">Float64</th><th title=\"Float64\">Float64</th><th title=\"Float64\">Float64</th><th title=\"Float64\">Float64</th><th title=\"Float64\">Float64</th><th title=\"Float64\">Float64</th></tr></thead><tbody><tr><th>1</th><td>101</td><td>1.04777</td><td>-0.862755</td><td>0.0</td><td>108.0</td><td>-108.0</td><td>110.242</td><td>22.0</td><td>88.242</td></tr><tr><th>2</th><td>102</td><td>1.04783</td><td>-0.862282</td><td>0.0</td><td>97.0</td><td>-97.0</td><td>107.223</td><td>20.0</td><td>87.2227</td></tr><tr><th>3</th><td>103</td><td>0.983808</td><td>-0.783493</td><td>0.0</td><td>180.0</td><td>-180.0</td><td>0.0</td><td>37.0</td><td>-37.0</td></tr><tr><th>4</th><td>104</td><td>0.983463</td><td>-0.769658</td><td>0.0</td><td>74.0</td><td>-74.0</td><td>0.0</td><td>15.0</td><td>-15.0</td></tr><tr><th>5</th><td>105</td><td>1.00436</td><td>-0.784978</td><td>0.0</td><td>71.0</td><td>-71.0</td><td>0.0</td><td>14.0</td><td>-14.0</td></tr><tr><th>6</th><td>106</td><td>0.989394</td><td>-0.75807</td><td>0.0</td><td>136.0</td><td>-136.0</td><td>0.0</td><td>27.0211</td><td>-27.0211</td></tr><tr><th>7</th><td>107</td><td>1.03745</td><td>-0.729067</td><td>355.0</td><td>125.0</td><td>230.0</td><td>108.299</td><td>25.0</td><td>83.2991</td></tr><tr><th>8</th><td>108</td><td>0.987728</td><td>-0.743545</td><td>0.0</td><td>171.0</td><td>-171.0</td><td>0.0</td><td>35.0</td><td>-35.0</td></tr><tr><th>9</th><td>109</td><td>0.979653</td><td>-0.611487</td><td>0.0</td><td>175.0</td><td>-175.0</td><td>0.0</td><td>36.0</td><td>-36.0</td></tr><tr><th>10</th><td>110</td><td>0.999751</td><td>-0.64046</td><td>0.0</td><td>195.0</td><td>-195.0</td><td>0.0</td><td>40.0</td><td>-40.0</td></tr><tr><th>11</th><td>111</td><td>0.971926</td><td>-0.408227</td><td>0.0</td><td>0.0</td><td>0.0</td><td>0.0</td><td>0.0</td><td>0.0</td></tr><tr><th>12</th><td>112</td><td>0.961046</td><td>-0.335274</td><td>0.0</td><td>0.0</td><td>0.0</td><td>0.0</td><td>0.0</td><td>0.0</td></tr><tr><th>13</th><td>113</td><td>1.03943</td><td>0.0</td><td>3207.21</td><td>265.0</td><td>2942.21</td><td>621.381</td><td>54.0</td><td>567.381</td></tr><tr><th>14</th><td>114</td><td>1.04401</td><td>-0.55529</td><td>0.0</td><td>194.0</td><td>-194.0</td><td>264.38</td><td>39.0</td><td>225.38</td></tr><tr><th>15</th><td>115</td><td>1.04335</td><td>-0.675144</td><td>0.0</td><td>317.0</td><td>-317.0</td><td>110.668</td><td>64.0</td><td>46.6677</td></tr><tr><th>16</th><td>116</td><td>1.04565</td><td>-0.626564</td><td>0.0</td><td>100.0</td><td>-100.0</td><td>103.433</td><td>20.0</td><td>83.4333</td></tr><tr><th>17</th><td>117</td><td>1.05001</td><td>-0.640483</td><td>0.0</td><td>0.0</td><td>0.0</td><td>0.0</td><td>0.0</td><td>0.0</td></tr><tr><th>18</th><td>118</td><td>1.05</td><td>-0.646566</td><td>355.0</td><td>333.0</td><td>22.0</td><td>59.3719</td><td>68.0</td><td>-8.62815</td></tr><tr><th>19</th><td>119</td><td>1.03281</td><td>-0.551783</td><td>0.0</td><td>181.0</td><td>-181.0</td><td>0.0</td><td>37.0</td><td>-37.0</td></tr><tr><th>20</th><td>120</td><td>1.03821</td><td>-0.453116</td><td>0.0</td><td>128.0</td><td>-128.0</td><td>0.0</td><td>26.0</td><td>-26.0</td></tr><tr><th>21</th><td>121</td><td>1.05</td><td>-0.654799</td><td>400.0</td><td>0.0</td><td>400.0</td><td>18.954</td><td>0.0</td><td>18.954</td></tr><tr><th>22</th><td>122</td><td>1.05</td><td>-0.649175</td><td>0.0</td><td>0.0</td><td>0.0</td><td>-19.9489</td><td>0.0</td><td>-19.9489</td></tr><tr><th>23</th><td>123</td><td>1.05</td><td>-0.387013</td><td>515.0</td><td>0.0</td><td>515.0</td><td>276.262</td><td>0.0</td><td>276.262</td></tr><tr><th>24</th><td>124</td><td>1.01248</td><td>-0.713089</td><td>0.0</td><td>0.0</td><td>0.0</td><td>0.0</td><td>0.0</td><td>0.0</td></tr><tr><th>25</th><td>201</td><td>1.04841</td><td>-1.33513</td><td>50.0</td><td>108.0</td><td>-58.0</td><td>87.8196</td><td>22.0</td><td>65.8196</td></tr><tr><th>26</th><td>202</td><td>1.04844</td><td>-1.34476</td><td>0.0</td><td>97.0</td><td>-97.0</td><td>62.1388</td><td>20.0</td><td>42.1388</td></tr><tr><th>27</th><td>203</td><td>0.983283</td><td>-1.02205</td><td>0.0</td><td>180.0</td><td>-180.0</td><td>0.0</td><td>37.0</td><td>-37.0</td></tr><tr><th>28</th><td>204</td><td>1.0039</td><td>-1.29813</td><td>0.0</td><td>74.0</td><td>-74.0</td><td>0.0</td><td>15.0</td><td>-15.0</td></tr><tr><th>29</th><td>205</td><td>1.03154</td><td>-1.32832</td><td>0.0</td><td>71.0</td><td>-71.0</td><td>0.0</td><td>14.0</td><td>-14.0</td></tr><tr><th>30</th><td>206</td><td>1.02642</td><td>-1.34326</td><td>0.0</td><td>136.0</td><td>-136.0</td><td>0.0</td><td>26.9465</td><td>-26.9465</td></tr><tr><th>&vellip;</th><td>&vellip;</td><td>&vellip;</td><td>&vellip;</td><td>&vellip;</td><td>&vellip;</td><td>&vellip;</td><td>&vellip;</td><td>&vellip;</td><td>&vellip;</td></tr></tbody></table></div>"
      ],
      "text/latex": [
       "\\begin{tabular}{r|ccccccccc}\n",
       "\t& bus\\_number & Vm & θ & P\\_gen & P\\_load & P\\_net & Q\\_gen & Q\\_load & Q\\_net\\\\\n",
       "\t\\hline\n",
       "\t& Int64 & Float64 & Float64 & Float64 & Float64 & Float64 & Float64 & Float64 & Float64\\\\\n",
       "\t\\hline\n",
       "\t1 & 101 & 1.04777 & -0.862755 & 0.0 & 108.0 & -108.0 & 110.242 & 22.0 & 88.242 \\\\\n",
       "\t2 & 102 & 1.04783 & -0.862282 & 0.0 & 97.0 & -97.0 & 107.223 & 20.0 & 87.2227 \\\\\n",
       "\t3 & 103 & 0.983808 & -0.783493 & 0.0 & 180.0 & -180.0 & 0.0 & 37.0 & -37.0 \\\\\n",
       "\t4 & 104 & 0.983463 & -0.769658 & 0.0 & 74.0 & -74.0 & 0.0 & 15.0 & -15.0 \\\\\n",
       "\t5 & 105 & 1.00436 & -0.784978 & 0.0 & 71.0 & -71.0 & 0.0 & 14.0 & -14.0 \\\\\n",
       "\t6 & 106 & 0.989394 & -0.75807 & 0.0 & 136.0 & -136.0 & 0.0 & 27.0211 & -27.0211 \\\\\n",
       "\t7 & 107 & 1.03745 & -0.729067 & 355.0 & 125.0 & 230.0 & 108.299 & 25.0 & 83.2991 \\\\\n",
       "\t8 & 108 & 0.987728 & -0.743545 & 0.0 & 171.0 & -171.0 & 0.0 & 35.0 & -35.0 \\\\\n",
       "\t9 & 109 & 0.979653 & -0.611487 & 0.0 & 175.0 & -175.0 & 0.0 & 36.0 & -36.0 \\\\\n",
       "\t10 & 110 & 0.999751 & -0.64046 & 0.0 & 195.0 & -195.0 & 0.0 & 40.0 & -40.0 \\\\\n",
       "\t11 & 111 & 0.971926 & -0.408227 & 0.0 & 0.0 & 0.0 & 0.0 & 0.0 & 0.0 \\\\\n",
       "\t12 & 112 & 0.961046 & -0.335274 & 0.0 & 0.0 & 0.0 & 0.0 & 0.0 & 0.0 \\\\\n",
       "\t13 & 113 & 1.03943 & 0.0 & 3207.21 & 265.0 & 2942.21 & 621.381 & 54.0 & 567.381 \\\\\n",
       "\t14 & 114 & 1.04401 & -0.55529 & 0.0 & 194.0 & -194.0 & 264.38 & 39.0 & 225.38 \\\\\n",
       "\t15 & 115 & 1.04335 & -0.675144 & 0.0 & 317.0 & -317.0 & 110.668 & 64.0 & 46.6677 \\\\\n",
       "\t16 & 116 & 1.04565 & -0.626564 & 0.0 & 100.0 & -100.0 & 103.433 & 20.0 & 83.4333 \\\\\n",
       "\t17 & 117 & 1.05001 & -0.640483 & 0.0 & 0.0 & 0.0 & 0.0 & 0.0 & 0.0 \\\\\n",
       "\t18 & 118 & 1.05 & -0.646566 & 355.0 & 333.0 & 22.0 & 59.3719 & 68.0 & -8.62815 \\\\\n",
       "\t19 & 119 & 1.03281 & -0.551783 & 0.0 & 181.0 & -181.0 & 0.0 & 37.0 & -37.0 \\\\\n",
       "\t20 & 120 & 1.03821 & -0.453116 & 0.0 & 128.0 & -128.0 & 0.0 & 26.0 & -26.0 \\\\\n",
       "\t21 & 121 & 1.05 & -0.654799 & 400.0 & 0.0 & 400.0 & 18.954 & 0.0 & 18.954 \\\\\n",
       "\t22 & 122 & 1.05 & -0.649175 & 0.0 & 0.0 & 0.0 & -19.9489 & 0.0 & -19.9489 \\\\\n",
       "\t23 & 123 & 1.05 & -0.387013 & 515.0 & 0.0 & 515.0 & 276.262 & 0.0 & 276.262 \\\\\n",
       "\t24 & 124 & 1.01248 & -0.713089 & 0.0 & 0.0 & 0.0 & 0.0 & 0.0 & 0.0 \\\\\n",
       "\t25 & 201 & 1.04841 & -1.33513 & 50.0 & 108.0 & -58.0 & 87.8196 & 22.0 & 65.8196 \\\\\n",
       "\t26 & 202 & 1.04844 & -1.34476 & 0.0 & 97.0 & -97.0 & 62.1388 & 20.0 & 42.1388 \\\\\n",
       "\t27 & 203 & 0.983283 & -1.02205 & 0.0 & 180.0 & -180.0 & 0.0 & 37.0 & -37.0 \\\\\n",
       "\t28 & 204 & 1.0039 & -1.29813 & 0.0 & 74.0 & -74.0 & 0.0 & 15.0 & -15.0 \\\\\n",
       "\t29 & 205 & 1.03154 & -1.32832 & 0.0 & 71.0 & -71.0 & 0.0 & 14.0 & -14.0 \\\\\n",
       "\t30 & 206 & 1.02642 & -1.34326 & 0.0 & 136.0 & -136.0 & 0.0 & 26.9465 & -26.9465 \\\\\n",
       "\t$\\dots$ & $\\dots$ & $\\dots$ & $\\dots$ & $\\dots$ & $\\dots$ & $\\dots$ & $\\dots$ & $\\dots$ & $\\dots$ \\\\\n",
       "\\end{tabular}\n"
      ],
      "text/plain": [
       "\u001b[1m73×9 DataFrame\u001b[0m\n",
       "\u001b[1m Row \u001b[0m│\u001b[1m bus_number \u001b[0m\u001b[1m Vm       \u001b[0m\u001b[1m θ         \u001b[0m\u001b[1m P_gen   \u001b[0m\u001b[1m P_load  \u001b[0m\u001b[1m P_net   \u001b[0m\u001b[1m Q_gen    \u001b[0m\u001b[1m Q\u001b[0m ⋯\n",
       "\u001b[1m     \u001b[0m│\u001b[90m Int64      \u001b[0m\u001b[90m Float64  \u001b[0m\u001b[90m Float64   \u001b[0m\u001b[90m Float64 \u001b[0m\u001b[90m Float64 \u001b[0m\u001b[90m Float64 \u001b[0m\u001b[90m Float64  \u001b[0m\u001b[90m F\u001b[0m ⋯\n",
       "─────┼──────────────────────────────────────────────────────────────────────────\n",
       "   1 │        101  1.04777   -0.862755     0.0     108.0  -108.0   110.242   2 ⋯\n",
       "   2 │        102  1.04783   -0.862282     0.0      97.0   -97.0   107.223   2\n",
       "   3 │        103  0.983808  -0.783493     0.0     180.0  -180.0     0.0     3\n",
       "   4 │        104  0.983463  -0.769658     0.0      74.0   -74.0     0.0     1\n",
       "   5 │        105  1.00436   -0.784978     0.0      71.0   -71.0     0.0     1 ⋯\n",
       "   6 │        106  0.989394  -0.75807      0.0     136.0  -136.0     0.0     2\n",
       "   7 │        107  1.03745   -0.729067   355.0     125.0   230.0   108.299   2\n",
       "   8 │        108  0.987728  -0.743545     0.0     171.0  -171.0     0.0     3\n",
       "   9 │        109  0.979653  -0.611487     0.0     175.0  -175.0     0.0     3 ⋯\n",
       "  10 │        110  0.999751  -0.64046      0.0     195.0  -195.0     0.0     4\n",
       "  11 │        111  0.971926  -0.408227     0.0       0.0     0.0     0.0\n",
       "  ⋮  │     ⋮          ⋮          ⋮         ⋮        ⋮        ⋮        ⋮        ⋱\n",
       "  64 │        316  1.04558   -1.16472      0.0     100.0  -100.0   108.884   2\n",
       "  65 │        317  1.04828   -1.09983      0.0       0.0     0.0     0.0       ⋯\n",
       "  66 │        318  1.05      -1.07249    355.0     333.0    22.0    75.9036  6\n",
       "  67 │        319  1.03759   -1.13436      0.0     181.0  -181.0     0.0     3\n",
       "  68 │        320  1.04201   -1.07499      0.0     128.0  -128.0     0.0     2\n",
       "  69 │        321  1.05      -1.07253    355.0       0.0   355.0   -19.0827    ⋯\n",
       "  70 │        322  1.05      -1.04152    110.0       0.0   110.0   -30.3493\n",
       "  71 │        323  1.05      -1.03002    710.0       0.0   710.0   173.136\n",
       "  72 │        324  1.00374   -1.27897      0.0       0.0     0.0     0.0\n",
       "  73 │        325  1.04157   -0.999693     0.0       0.0     0.0     0.0       ⋯\n",
       "\u001b[36m                                                   2 columns and 52 rows omitted\u001b[0m"
      ]
     },
     "execution_count": 13,
     "metadata": {},
     "output_type": "execute_result"
    }
   ],
   "source": [
    "res = solve_powerflow(system)\n",
    "res[\"bus_results\"]"
   ]
  },
  {
   "cell_type": "markdown",
   "id": "8a3e38f6-fb4f-443c-9693-c4141bc3e2f6",
   "metadata": {},
   "source": [
    "Values seem reasonable. Now, **let's add the battery**!\n",
    "\n",
    "Looking back at the available buses in this system, let's add it to Bus #4, \"Adams\"."
   ]
  },
  {
   "cell_type": "code",
   "execution_count": 14,
   "id": "b4459168-efb0-4ec4-a416-d13fea742685",
   "metadata": {},
   "outputs": [
    {
     "data": {
      "text/plain": [
       "Adams (Bus):\n",
       "   number: 102\n",
       "   name: Adams\n",
       "   bustype: BusTypes.PV = 3\n",
       "   angle: -0.1364470483941135\n",
       "   magnitude: 1.04783\n",
       "   voltage_limits: (min = 0.95, max = 1.05)\n",
       "   base_voltage: 138.0\n",
       "   area: 1 (Area)\n",
       "   load_zone: 12.0 (LoadZone)\n",
       "   ext: Dict{String, Any}(\"neighbors\" => Set([4, 6, 2, 1]))\n",
       "   InfrastructureSystems.SystemUnitsSettings:\n",
       "      base_value: 100.0\n",
       "      unit_system: UnitSystem.SYSTEM_BASE = 0"
      ]
     },
     "execution_count": 14,
     "metadata": {},
     "output_type": "execute_result"
    }
   ],
   "source": [
    "# first, get the bus we want to add the battery to\n",
    "bus=PSY.get_component(PSY.Bus, system, \"Adams\")"
   ]
  },
  {
   "cell_type": "markdown",
   "id": "fdeae8d2-c7eb-4715-a174-1c984dd85ddb",
   "metadata": {},
   "source": [
    "The following is taken from Joseph McKinsey's code."
   ]
  },
  {
   "cell_type": "code",
   "execution_count": 15,
   "id": "ea160b91-cfcd-4a0b-9670-e85ee8b93de1",
   "metadata": {},
   "outputs": [
    {
     "data": {
      "text/plain": [
       "\n",
       "Storage_24 (GenericBattery):\n",
       "   name: Storage_24\n",
       "   available: true\n",
       "   bus: Adams (Bus)\n",
       "   prime_mover: PrimeMovers.BA = 1\n",
       "   initial_energy: 2400.0\n",
       "   state_of_charge_limits: (min = 0.0, max = 4800.0)\n",
       "   rating: 200.0\n",
       "   active_power: 0.0\n",
       "   input_active_power_limits: (min = 0.0, max = 200.0)\n",
       "   output_active_power_limits: (min = 0.0, max = 200.0)\n",
       "   efficiency: (in = 0.85, out = 1.0)\n",
       "   reactive_power: 0.0\n",
       "   reactive_power_limits: nothing\n",
       "   base_power: 200.0\n",
       "   operation_cost: nothing\n",
       "   services: 0-element Vector{Service}\n",
       "   dynamic_injector: nothing\n",
       "   ext: Dict{String, Any}()\n",
       "   time_series_container: InfrastructureSystems.TimeSeriesContainer: 0\n",
       "   internal: InfrastructureSystems.InfrastructureSystemsInternal"
      ]
     },
     "execution_count": 15,
     "metadata": {},
     "output_type": "execute_result"
    },
    {
     "name": "stderr",
     "output_type": "stream",
     "text": [
      "┌ Warning: SystemUnitSetting not defined, using NATURAL_UNITS for displaying device specification.\n",
      "└ @ PowerSystems /home/cju/.julia/packages/PowerSystems/sxHdO/src/utils/print.jl:182\n"
     ]
    }
   ],
   "source": [
    "# possible battery hours. Let's do 24 hours.\n",
    "# hour_arr = [[2], [4], [10], [24], [4, 10], [2, 10], [4, 24], [2, 10]]\n",
    "hours = 24 # hrs\n",
    "base_power=200 # u\"MW\"\n",
    "efficiency = 0.85\n",
    "name = \"Storage_$hours\"\n",
    "\n",
    "bat = PSY.GenericBattery(;\n",
    "    name = name,\n",
    "    available = true,\n",
    "    bus = bus,\n",
    "    prime_mover = PSY.PrimeMovers.BA,\n",
    "    initial_energy = hours / 2,\n",
    "    state_of_charge_limits = (min = 0.0, max = hours),\n",
    "    rating = 1.0,\n",
    "    active_power = 0.0,\n",
    "    input_active_power_limits = (min = 0.0, max = 1.0),\n",
    "    output_active_power_limits = (min = 0.0, max = 1.0),\n",
    "    efficiency = (in = efficiency, out = 1.0),\n",
    "    reactive_power = 0.0,\n",
    "    reactive_power_limits = nothing,\n",
    "    base_power = base_power\n",
    ")"
   ]
  },
  {
   "cell_type": "markdown",
   "id": "7691ae15-affe-40a5-9b43-3f87ad80434f",
   "metadata": {},
   "source": [
    "Now we add it to the system"
   ]
  },
  {
   "cell_type": "code",
   "execution_count": 16,
   "id": "87c53b31-976c-4bc2-bdb9-58d0b094073e",
   "metadata": {},
   "outputs": [
    {
     "data": {
      "text/plain": [
       "1-element Vector{GenericBattery}:\n",
       " GenericBattery(Storage_24, true, Bus(102, Adams, BusTypes.PV = 3, -0.1364470483941135, 1.04783, (min = 0.95, max = 1.05), 138.0, Area(1, 0.0, 0.0, 0.0), LoadZone(12.0, 5.29, 1.08), Dict{String, Any}(\"neighbors\" => Set([4, 6, 2, 1]))), PrimeMovers.BA = 1, 24.0, (min = 0.0, max = 48.0), 2.0, 0.0, (min = 0.0, max = 2.0), (min = 0.0, max = 2.0), (in = 0.85, out = 1.0), 0.0, nothing, 200.0, nothing, Service[], nothing, Dict{String, Any}())"
      ]
     },
     "execution_count": 16,
     "metadata": {},
     "output_type": "execute_result"
    }
   ],
   "source": [
    "PSY.add_component!(system, bat)\n",
    "collect(get_components(GenericBattery, system))"
   ]
  },
  {
   "cell_type": "markdown",
   "id": "40caeb5e-b356-45e0-87df-ae599e82ef5d",
   "metadata": {},
   "source": [
    "Let's check the system is stable."
   ]
  },
  {
   "cell_type": "code",
   "execution_count": 17,
   "id": "c6302c65-4d41-4824-af69-b5a4b589eb21",
   "metadata": {
    "scrolled": true,
    "tags": []
   },
   "outputs": [
    {
     "name": "stderr",
     "output_type": "stream",
     "text": [
      "┌ Info: Validating connectivity with Goderya algorithm\n",
      "└ @ PowerSystems /home/cju/.julia/packages/PowerSystems/sxHdO/src/utils/network_calculations/ybus_calculations.jl:308\n",
      "┌ Info: The System has no islands\n",
      "└ @ PowerSystems /home/cju/.julia/packages/PowerSystems/sxHdO/src/utils/network_calculations/ybus_calculations.jl:254\n",
      "┌ Info: PowerFlow solve converged, the results are exported in DataFrames\n",
      "└ @ PowerSystems /home/cju/.julia/packages/PowerSystems/sxHdO/src/utils/power_flow.jl:357\n",
      "┌ Info: Voltages are exported in pu. Powers are exported in MW/MVAr.\n",
      "└ @ PowerSystems /home/cju/.julia/packages/PowerSystems/sxHdO/src/utils/power_flow.jl:189\n"
     ]
    },
    {
     "data": {
      "text/html": [
       "<div class=\"data-frame\"><p>73 rows × 9 columns</p><table class=\"data-frame\"><thead><tr><th></th><th>bus_number</th><th>Vm</th><th>θ</th><th>P_gen</th><th>P_load</th><th>P_net</th><th>Q_gen</th><th>Q_load</th><th>Q_net</th></tr><tr><th></th><th title=\"Int64\">Int64</th><th title=\"Float64\">Float64</th><th title=\"Float64\">Float64</th><th title=\"Float64\">Float64</th><th title=\"Float64\">Float64</th><th title=\"Float64\">Float64</th><th title=\"Float64\">Float64</th><th title=\"Float64\">Float64</th><th title=\"Float64\">Float64</th></tr></thead><tbody><tr><th>1</th><td>101</td><td>1.04777</td><td>-0.862755</td><td>0.0</td><td>108.0</td><td>-108.0</td><td>110.242</td><td>22.0</td><td>88.242</td></tr><tr><th>2</th><td>102</td><td>1.04783</td><td>-0.862282</td><td>0.0</td><td>97.0</td><td>-97.0</td><td>107.223</td><td>20.0</td><td>87.2227</td></tr><tr><th>3</th><td>103</td><td>0.983808</td><td>-0.783493</td><td>0.0</td><td>180.0</td><td>-180.0</td><td>0.0</td><td>37.0</td><td>-37.0</td></tr><tr><th>4</th><td>104</td><td>0.983463</td><td>-0.769658</td><td>0.0</td><td>74.0</td><td>-74.0</td><td>0.0</td><td>15.0</td><td>-15.0</td></tr><tr><th>5</th><td>105</td><td>1.00436</td><td>-0.784978</td><td>0.0</td><td>71.0</td><td>-71.0</td><td>0.0</td><td>14.0</td><td>-14.0</td></tr><tr><th>6</th><td>106</td><td>0.989394</td><td>-0.75807</td><td>0.0</td><td>136.0</td><td>-136.0</td><td>0.0</td><td>27.0211</td><td>-27.0211</td></tr><tr><th>7</th><td>107</td><td>1.03745</td><td>-0.729067</td><td>355.0</td><td>125.0</td><td>230.0</td><td>108.299</td><td>25.0</td><td>83.2991</td></tr><tr><th>8</th><td>108</td><td>0.987728</td><td>-0.743545</td><td>0.0</td><td>171.0</td><td>-171.0</td><td>0.0</td><td>35.0</td><td>-35.0</td></tr><tr><th>9</th><td>109</td><td>0.979653</td><td>-0.611487</td><td>0.0</td><td>175.0</td><td>-175.0</td><td>0.0</td><td>36.0</td><td>-36.0</td></tr><tr><th>10</th><td>110</td><td>0.999751</td><td>-0.64046</td><td>0.0</td><td>195.0</td><td>-195.0</td><td>0.0</td><td>40.0</td><td>-40.0</td></tr><tr><th>11</th><td>111</td><td>0.971926</td><td>-0.408227</td><td>0.0</td><td>0.0</td><td>0.0</td><td>0.0</td><td>0.0</td><td>0.0</td></tr><tr><th>12</th><td>112</td><td>0.961046</td><td>-0.335274</td><td>0.0</td><td>0.0</td><td>0.0</td><td>0.0</td><td>0.0</td><td>0.0</td></tr><tr><th>13</th><td>113</td><td>1.03943</td><td>0.0</td><td>3207.21</td><td>265.0</td><td>2942.21</td><td>621.381</td><td>54.0</td><td>567.381</td></tr><tr><th>14</th><td>114</td><td>1.04401</td><td>-0.55529</td><td>0.0</td><td>194.0</td><td>-194.0</td><td>264.38</td><td>39.0</td><td>225.38</td></tr><tr><th>15</th><td>115</td><td>1.04335</td><td>-0.675144</td><td>0.0</td><td>317.0</td><td>-317.0</td><td>110.668</td><td>64.0</td><td>46.6677</td></tr><tr><th>16</th><td>116</td><td>1.04565</td><td>-0.626564</td><td>0.0</td><td>100.0</td><td>-100.0</td><td>103.433</td><td>20.0</td><td>83.4333</td></tr><tr><th>17</th><td>117</td><td>1.05001</td><td>-0.640483</td><td>0.0</td><td>0.0</td><td>0.0</td><td>0.0</td><td>0.0</td><td>0.0</td></tr><tr><th>18</th><td>118</td><td>1.05</td><td>-0.646566</td><td>355.0</td><td>333.0</td><td>22.0</td><td>59.3719</td><td>68.0</td><td>-8.62815</td></tr><tr><th>19</th><td>119</td><td>1.03281</td><td>-0.551783</td><td>0.0</td><td>181.0</td><td>-181.0</td><td>0.0</td><td>37.0</td><td>-37.0</td></tr><tr><th>20</th><td>120</td><td>1.03821</td><td>-0.453116</td><td>0.0</td><td>128.0</td><td>-128.0</td><td>0.0</td><td>26.0</td><td>-26.0</td></tr><tr><th>21</th><td>121</td><td>1.05</td><td>-0.654799</td><td>400.0</td><td>0.0</td><td>400.0</td><td>18.954</td><td>0.0</td><td>18.954</td></tr><tr><th>22</th><td>122</td><td>1.05</td><td>-0.649175</td><td>0.0</td><td>0.0</td><td>0.0</td><td>-19.9489</td><td>0.0</td><td>-19.9489</td></tr><tr><th>23</th><td>123</td><td>1.05</td><td>-0.387013</td><td>515.0</td><td>0.0</td><td>515.0</td><td>276.262</td><td>0.0</td><td>276.262</td></tr><tr><th>24</th><td>124</td><td>1.01248</td><td>-0.713089</td><td>0.0</td><td>0.0</td><td>0.0</td><td>0.0</td><td>0.0</td><td>0.0</td></tr><tr><th>25</th><td>201</td><td>1.04841</td><td>-1.33513</td><td>50.0</td><td>108.0</td><td>-58.0</td><td>87.8196</td><td>22.0</td><td>65.8196</td></tr><tr><th>26</th><td>202</td><td>1.04844</td><td>-1.34476</td><td>0.0</td><td>97.0</td><td>-97.0</td><td>62.1388</td><td>20.0</td><td>42.1388</td></tr><tr><th>27</th><td>203</td><td>0.983283</td><td>-1.02205</td><td>0.0</td><td>180.0</td><td>-180.0</td><td>0.0</td><td>37.0</td><td>-37.0</td></tr><tr><th>28</th><td>204</td><td>1.0039</td><td>-1.29813</td><td>0.0</td><td>74.0</td><td>-74.0</td><td>0.0</td><td>15.0</td><td>-15.0</td></tr><tr><th>29</th><td>205</td><td>1.03154</td><td>-1.32832</td><td>0.0</td><td>71.0</td><td>-71.0</td><td>0.0</td><td>14.0</td><td>-14.0</td></tr><tr><th>30</th><td>206</td><td>1.02642</td><td>-1.34326</td><td>0.0</td><td>136.0</td><td>-136.0</td><td>0.0</td><td>26.9465</td><td>-26.9465</td></tr><tr><th>&vellip;</th><td>&vellip;</td><td>&vellip;</td><td>&vellip;</td><td>&vellip;</td><td>&vellip;</td><td>&vellip;</td><td>&vellip;</td><td>&vellip;</td><td>&vellip;</td></tr></tbody></table></div>"
      ],
      "text/latex": [
       "\\begin{tabular}{r|ccccccccc}\n",
       "\t& bus\\_number & Vm & θ & P\\_gen & P\\_load & P\\_net & Q\\_gen & Q\\_load & Q\\_net\\\\\n",
       "\t\\hline\n",
       "\t& Int64 & Float64 & Float64 & Float64 & Float64 & Float64 & Float64 & Float64 & Float64\\\\\n",
       "\t\\hline\n",
       "\t1 & 101 & 1.04777 & -0.862755 & 0.0 & 108.0 & -108.0 & 110.242 & 22.0 & 88.242 \\\\\n",
       "\t2 & 102 & 1.04783 & -0.862282 & 0.0 & 97.0 & -97.0 & 107.223 & 20.0 & 87.2227 \\\\\n",
       "\t3 & 103 & 0.983808 & -0.783493 & 0.0 & 180.0 & -180.0 & 0.0 & 37.0 & -37.0 \\\\\n",
       "\t4 & 104 & 0.983463 & -0.769658 & 0.0 & 74.0 & -74.0 & 0.0 & 15.0 & -15.0 \\\\\n",
       "\t5 & 105 & 1.00436 & -0.784978 & 0.0 & 71.0 & -71.0 & 0.0 & 14.0 & -14.0 \\\\\n",
       "\t6 & 106 & 0.989394 & -0.75807 & 0.0 & 136.0 & -136.0 & 0.0 & 27.0211 & -27.0211 \\\\\n",
       "\t7 & 107 & 1.03745 & -0.729067 & 355.0 & 125.0 & 230.0 & 108.299 & 25.0 & 83.2991 \\\\\n",
       "\t8 & 108 & 0.987728 & -0.743545 & 0.0 & 171.0 & -171.0 & 0.0 & 35.0 & -35.0 \\\\\n",
       "\t9 & 109 & 0.979653 & -0.611487 & 0.0 & 175.0 & -175.0 & 0.0 & 36.0 & -36.0 \\\\\n",
       "\t10 & 110 & 0.999751 & -0.64046 & 0.0 & 195.0 & -195.0 & 0.0 & 40.0 & -40.0 \\\\\n",
       "\t11 & 111 & 0.971926 & -0.408227 & 0.0 & 0.0 & 0.0 & 0.0 & 0.0 & 0.0 \\\\\n",
       "\t12 & 112 & 0.961046 & -0.335274 & 0.0 & 0.0 & 0.0 & 0.0 & 0.0 & 0.0 \\\\\n",
       "\t13 & 113 & 1.03943 & 0.0 & 3207.21 & 265.0 & 2942.21 & 621.381 & 54.0 & 567.381 \\\\\n",
       "\t14 & 114 & 1.04401 & -0.55529 & 0.0 & 194.0 & -194.0 & 264.38 & 39.0 & 225.38 \\\\\n",
       "\t15 & 115 & 1.04335 & -0.675144 & 0.0 & 317.0 & -317.0 & 110.668 & 64.0 & 46.6677 \\\\\n",
       "\t16 & 116 & 1.04565 & -0.626564 & 0.0 & 100.0 & -100.0 & 103.433 & 20.0 & 83.4333 \\\\\n",
       "\t17 & 117 & 1.05001 & -0.640483 & 0.0 & 0.0 & 0.0 & 0.0 & 0.0 & 0.0 \\\\\n",
       "\t18 & 118 & 1.05 & -0.646566 & 355.0 & 333.0 & 22.0 & 59.3719 & 68.0 & -8.62815 \\\\\n",
       "\t19 & 119 & 1.03281 & -0.551783 & 0.0 & 181.0 & -181.0 & 0.0 & 37.0 & -37.0 \\\\\n",
       "\t20 & 120 & 1.03821 & -0.453116 & 0.0 & 128.0 & -128.0 & 0.0 & 26.0 & -26.0 \\\\\n",
       "\t21 & 121 & 1.05 & -0.654799 & 400.0 & 0.0 & 400.0 & 18.954 & 0.0 & 18.954 \\\\\n",
       "\t22 & 122 & 1.05 & -0.649175 & 0.0 & 0.0 & 0.0 & -19.9489 & 0.0 & -19.9489 \\\\\n",
       "\t23 & 123 & 1.05 & -0.387013 & 515.0 & 0.0 & 515.0 & 276.262 & 0.0 & 276.262 \\\\\n",
       "\t24 & 124 & 1.01248 & -0.713089 & 0.0 & 0.0 & 0.0 & 0.0 & 0.0 & 0.0 \\\\\n",
       "\t25 & 201 & 1.04841 & -1.33513 & 50.0 & 108.0 & -58.0 & 87.8196 & 22.0 & 65.8196 \\\\\n",
       "\t26 & 202 & 1.04844 & -1.34476 & 0.0 & 97.0 & -97.0 & 62.1388 & 20.0 & 42.1388 \\\\\n",
       "\t27 & 203 & 0.983283 & -1.02205 & 0.0 & 180.0 & -180.0 & 0.0 & 37.0 & -37.0 \\\\\n",
       "\t28 & 204 & 1.0039 & -1.29813 & 0.0 & 74.0 & -74.0 & 0.0 & 15.0 & -15.0 \\\\\n",
       "\t29 & 205 & 1.03154 & -1.32832 & 0.0 & 71.0 & -71.0 & 0.0 & 14.0 & -14.0 \\\\\n",
       "\t30 & 206 & 1.02642 & -1.34326 & 0.0 & 136.0 & -136.0 & 0.0 & 26.9465 & -26.9465 \\\\\n",
       "\t$\\dots$ & $\\dots$ & $\\dots$ & $\\dots$ & $\\dots$ & $\\dots$ & $\\dots$ & $\\dots$ & $\\dots$ & $\\dots$ \\\\\n",
       "\\end{tabular}\n"
      ],
      "text/plain": [
       "\u001b[1m73×9 DataFrame\u001b[0m\n",
       "\u001b[1m Row \u001b[0m│\u001b[1m bus_number \u001b[0m\u001b[1m Vm       \u001b[0m\u001b[1m θ         \u001b[0m\u001b[1m P_gen   \u001b[0m\u001b[1m P_load  \u001b[0m\u001b[1m P_net   \u001b[0m\u001b[1m Q_gen    \u001b[0m\u001b[1m Q\u001b[0m ⋯\n",
       "\u001b[1m     \u001b[0m│\u001b[90m Int64      \u001b[0m\u001b[90m Float64  \u001b[0m\u001b[90m Float64   \u001b[0m\u001b[90m Float64 \u001b[0m\u001b[90m Float64 \u001b[0m\u001b[90m Float64 \u001b[0m\u001b[90m Float64  \u001b[0m\u001b[90m F\u001b[0m ⋯\n",
       "─────┼──────────────────────────────────────────────────────────────────────────\n",
       "   1 │        101  1.04777   -0.862755     0.0     108.0  -108.0   110.242   2 ⋯\n",
       "   2 │        102  1.04783   -0.862282     0.0      97.0   -97.0   107.223   2\n",
       "   3 │        103  0.983808  -0.783493     0.0     180.0  -180.0     0.0     3\n",
       "   4 │        104  0.983463  -0.769658     0.0      74.0   -74.0     0.0     1\n",
       "   5 │        105  1.00436   -0.784978     0.0      71.0   -71.0     0.0     1 ⋯\n",
       "   6 │        106  0.989394  -0.75807      0.0     136.0  -136.0     0.0     2\n",
       "   7 │        107  1.03745   -0.729067   355.0     125.0   230.0   108.299   2\n",
       "   8 │        108  0.987728  -0.743545     0.0     171.0  -171.0     0.0     3\n",
       "   9 │        109  0.979653  -0.611487     0.0     175.0  -175.0     0.0     3 ⋯\n",
       "  10 │        110  0.999751  -0.64046      0.0     195.0  -195.0     0.0     4\n",
       "  11 │        111  0.971926  -0.408227     0.0       0.0     0.0     0.0\n",
       "  ⋮  │     ⋮          ⋮          ⋮         ⋮        ⋮        ⋮        ⋮        ⋱\n",
       "  64 │        316  1.04558   -1.16472      0.0     100.0  -100.0   108.884   2\n",
       "  65 │        317  1.04828   -1.09983      0.0       0.0     0.0     0.0       ⋯\n",
       "  66 │        318  1.05      -1.07249    355.0     333.0    22.0    75.9036  6\n",
       "  67 │        319  1.03759   -1.13436      0.0     181.0  -181.0     0.0     3\n",
       "  68 │        320  1.04201   -1.07499      0.0     128.0  -128.0     0.0     2\n",
       "  69 │        321  1.05      -1.07253    355.0       0.0   355.0   -19.0827    ⋯\n",
       "  70 │        322  1.05      -1.04152    110.0       0.0   110.0   -30.3493\n",
       "  71 │        323  1.05      -1.03002    710.0       0.0   710.0   173.136\n",
       "  72 │        324  1.00374   -1.27897      0.0       0.0     0.0     0.0\n",
       "  73 │        325  1.04157   -0.999693     0.0       0.0     0.0     0.0       ⋯\n",
       "\u001b[36m                                                   2 columns and 52 rows omitted\u001b[0m"
      ]
     },
     "execution_count": 17,
     "metadata": {},
     "output_type": "execute_result"
    }
   ],
   "source": [
    "res = solve_powerflow(system)\n",
    "res[\"bus_results\"]"
   ]
  },
  {
   "cell_type": "markdown",
   "id": "2628d4e7-fb38-47b7-a7cd-8ba742b40ff6",
   "metadata": {},
   "source": [
    "Let's remove the component."
   ]
  },
  {
   "cell_type": "code",
   "execution_count": 18,
   "id": "d58cc54a-9f8e-4382-b0a0-306cee77ea09",
   "metadata": {},
   "outputs": [
    {
     "data": {
      "text/plain": [
       "GenericBattery[]"
      ]
     },
     "execution_count": 18,
     "metadata": {},
     "output_type": "execute_result"
    }
   ],
   "source": [
    "PSY.remove_component!(system, bat)\n",
    "collect(get_components(GenericBattery, system))"
   ]
  },
  {
   "cell_type": "markdown",
   "id": "3ba7f469-9fba-4f34-8834-c6d93f7d8a2b",
   "metadata": {},
   "source": [
    "### Look at our current system\n",
    "\n",
    "In our `gen_systems` folder, we created code to add 10 batteries. Let's take a look at it now and see how we can access *different* batteries. "
   ]
  },
  {
   "cell_type": "code",
   "execution_count": 36,
   "id": "5cadd4f3-1ff8-4b42-8bbd-ce189ca04dfe",
   "metadata": {
    "scrolled": true,
    "tags": []
   },
   "outputs": [
    {
     "name": "stderr",
     "output_type": "stream",
     "text": [
      "┌ Info: Loaded time series from storage file existing=rts_with_battery_060822_sys_time_series_storage.h5 new=/tmp/scratch/jl_58gCcV compression=CompressionSettings(false, CompressionTypes.DEFLATE = 1, 3, true)\n",
      "└ @ InfrastructureSystems /home/cju/.julia/packages/InfrastructureSystems/Oc56m/src/hdf5_time_series_storage.jl:100\n"
     ]
    },
    {
     "data": {
      "text/plain": [
       "GenericBattery[]"
      ]
     },
     "execution_count": 36,
     "metadata": {},
     "output_type": "execute_result"
    }
   ],
   "source": [
    "sys_name = \"/lustre/eaglefs/projects/pvb/cju/gen_systems/data/rts_with_battery_060822_sys.json\"\n",
    "# sys_name = \"/lustre/eaglefs/projects/pvb/5_bus_battery_testing/data/new_systems/pv=30_storagehours=10_wind=30/sys.json\"\n",
    "system_rts = System(sys_name, time_series_directory = \"/tmp/scratch\")\n",
    "PSY.transform_single_time_series!(system_rts, 168, Hour(168))\n",
    "\n",
    "collect(get_components(GenericBattery, system_rts))"
   ]
  },
  {
   "cell_type": "markdown",
   "id": "47dc5b17-a028-41cc-985b-f84e765cc0f6",
   "metadata": {},
   "source": [
    "Let's check the system is stable."
   ]
  },
  {
   "cell_type": "code",
   "execution_count": 37,
   "id": "8de5770f-ea13-4e00-b79f-106f40bf5c82",
   "metadata": {
    "scrolled": true,
    "tags": []
   },
   "outputs": [],
   "source": [
    "# res = solve_powerflow(system_rts)\n",
    "# res[\"bus_results\"]"
   ]
  },
  {
   "cell_type": "code",
   "execution_count": 38,
   "id": "61811a92-cc28-47f7-a296-40266ee73d18",
   "metadata": {},
   "outputs": [],
   "source": [
    "#= For 5 bus system\n",
    "template_ed = ProblemTemplate(PowerSimulations.CopperPlatePowerModel)\n",
    "set_device_model!(template_ed, ThermalStandard, ThermalDispatchNoMin)\n",
    "set_device_model!(template_ed, PowerSystems.PowerLoad, StaticPowerLoad)\n",
    "set_device_model!(template_ed, PowerSystems.GenericBattery, BookKeeping)\n",
    "\n",
    "solver = optimizer_with_attributes(Xpress.Optimizer, \"MIPRELSTOP\" => 1e-4)\n",
    "initial_time = DateTime(\"2024-01-01T00:00:00\")\n",
    "\n",
    "problem = DecisionModel(\n",
    "             template_ed,\n",
    "             system_rts,\n",
    "             name = \"SubProblem\",\n",
    "             optimizer = solver,\n",
    "             warm_start = false,\n",
    "             export_pwl_vars = true,\n",
    "             initialize_model = false,\n",
    "             initial_time = initial_time,\n",
    "             horizon=24,\n",
    "     )\n",
    "\n",
    "# IMPORTANT! make sure to build the problem\n",
    "directory =\"./simulation_folder/\"\n",
    "build!(problem, output_dir = directory)\n",
    "=#"
   ]
  },
  {
   "cell_type": "markdown",
   "id": "fbae6c8a-db28-435f-8ccc-40f8d0f8df8b",
   "metadata": {},
   "source": [
    "Next, let's see how the batteries are represented in the system. First, let's generate a problem with this system.\n",
    "\n",
    "From my discussion with Sourabh, we need to use a different problem problem since the system is not as \"relaxed\" as the 5 bus power system. "
   ]
  },
  {
   "cell_type": "code",
   "execution_count": 63,
   "id": "b951294c-f6a5-4601-bbfa-caf4f0aaacae",
   "metadata": {},
   "outputs": [
    {
     "data": {
      "text/plain": [
       "BuildStatus.BUILT = 0"
      ]
     },
     "execution_count": 63,
     "metadata": {},
     "output_type": "execute_result"
    }
   ],
   "source": [
    "# RTS has 3 regions (copper plot ignores Kirkoff's law, makes battery more valuable since harder to move energy around)\n",
    "# PowerSimulations.DCPPowerModel, PowerSimulations.StandardPTDFModel instead of CopperPlatePowerModel\n",
    "template_ed = ProblemTemplate(PowerSimulations.DCPPowerModel)\n",
    "\n",
    "# other stuff I may have missed\n",
    "# set_device_model!(template_ed, PowerSystems.ThermalStandard, ThermalStandardUnitCommitment)\n",
    "# \n",
    "# DCPowerModel, Standar\n",
    "\n",
    "# ThermalBasicUnitCommitment instead ThermalStandardUnitCommitment/ThermalDispatchNoMin\n",
    "set_device_model!(template_ed, PowerSystemCaseBuilder.Line, StaticBranch)\n",
    "set_device_model!(template_ed, PowerSystemCaseBuilder.Transformer2W, StaticBranch)\n",
    "set_device_model!(template_ed, PowerSystemCaseBuilder.TapTransformer, StaticBranch)\n",
    "\n",
    "set_device_model!(template_ed, PowerSystems.ThermalStandard, ThermalBasicUnitCommitment)\n",
    "set_device_model!(template_ed, PowerSystems.RenewableDispatch, RenewableFullDispatch)\n",
    "set_device_model!(template_ed, PowerSystems.PowerLoad, StaticPowerLoad)\n",
    "set_device_model!(template_ed, PowerSystems.HydroDispatch, FixedOutput)\n",
    "set_device_model!(template_ed, PowerSystems.GenericBattery, BookKeeping)\n",
    "# Thermal is long sterm (RTS doesn't have that many)\n",
    "# set_device_model!(template_ed, PowerSystems.HydroEnergyReservoir, HydroDispatchRunOfRiver)\n",
    "set_device_model!(template_ed, PowerSystems.RenewableFix, FixedOutput)\n",
    "set_service_model!(template_ed, VariableReserve{ReserveUp}, RangeReserve)\n",
    "set_service_model!(template_ed, VariableReserve{ReserveDown}, RangeReserve)\n",
    "# redundant\n",
    "# set_network_model!(template_ed, NetworkModel(CopperPlatePowerModel))\n",
    "##\n",
    "\n",
    "solver = optimizer_with_attributes(Xpress.Optimizer, \"MIPRELSTOP\" => 1e-4)\n",
    "initial_time = DateTime(\"2020-01-01T00:00:00\")\n",
    "\n",
    "problem = DecisionModel(\n",
    "             template_ed,\n",
    "             system_rts,\n",
    "             name = \"SubProblem\",\n",
    "             optimizer = solver,\n",
    "             warm_start = false,\n",
    "             export_pwl_vars = true,\n",
    "             initialize_model = false,\n",
    "             initial_time = initial_time,\n",
    "             horizon=24,\n",
    "     )\n",
    "\n",
    "# IMPORTANT! make sure to build the problem\n",
    "directory =\"./simulation_folder/\"\n",
    "build!(problem, output_dir = directory)"
   ]
  },
  {
   "cell_type": "markdown",
   "id": "a1c19e66-5fa6-4620-990f-43963d0bffa8",
   "metadata": {},
   "source": [
    "Let's now view the optimization problem."
   ]
  },
  {
   "cell_type": "markdown",
   "id": "6647929d-090c-4195-ba21-a2f94ce15445",
   "metadata": {},
   "source": [
    "Make sure we have the desired variables."
   ]
  },
  {
   "cell_type": "code",
   "execution_count": 64,
   "id": "a5fa285d-cd53-46bd-bbfc-843c75d03755",
   "metadata": {},
   "outputs": [
    {
     "data": {
      "text/plain": [
       "14-element Vector{PowerSimulations.VariableKey}:\n",
       " PowerSimulations.VariableKey{ActivePowerReserveVariable, VariableReserve{ReserveDown}}(\"Reg_Down\")\n",
       " PowerSimulations.VariableKey{FlowActivePowerVariable, Line}(\"\")\n",
       " PowerSimulations.VariableKey{ActivePowerReserveVariable, VariableReserve{ReserveUp}}(\"Spin_Up_R3\")\n",
       " PowerSimulations.VariableKey{ActivePowerVariable, RenewableDispatch}(\"\")\n",
       " PowerSimulations.VariableKey{VoltageAngle, Bus}(\"\")\n",
       " PowerSimulations.VariableKey{ActivePowerReserveVariable, VariableReserve{ReserveUp}}(\"Spin_Up_R2\")\n",
       " PowerSimulations.VariableKey{ActivePowerReserveVariable, VariableReserve{ReserveUp}}(\"Reg_Up\")\n",
       " PowerSimulations.VariableKey{ActivePowerReserveVariable, VariableReserve{ReserveUp}}(\"Spin_Up_R1\")\n",
       " PowerSimulations.VariableKey{StartVariable, ThermalStandard}(\"\")\n",
       " PowerSimulations.VariableKey{PowerSimulations.PieceWiseLinearCostVariable, ThermalStandard}(\"\")\n",
       " PowerSimulations.VariableKey{ActivePowerVariable, ThermalStandard}(\"\")\n",
       " PowerSimulations.VariableKey{FlowActivePowerVariable, TapTransformer}(\"\")\n",
       " PowerSimulations.VariableKey{StopVariable, ThermalStandard}(\"\")\n",
       " PowerSimulations.VariableKey{OnVariable, ThermalStandard}(\"\")"
      ]
     },
     "execution_count": 64,
     "metadata": {},
     "output_type": "execute_result"
    }
   ],
   "source": [
    "optimization_container = PSI.get_optimization_container(problem)\n",
    "PSI.get_variable_keys(optimization_container)\n",
    "# var_e = PSI.get_variable(optimization_container, EnergyVariable(), GenericBattery)"
   ]
  },
  {
   "cell_type": "markdown",
   "id": "a26e62a9-1633-47f0-a0b4-2cade552f264",
   "metadata": {},
   "source": [
    "Is the problem solvable?"
   ]
  },
  {
   "cell_type": "code",
   "execution_count": 62,
   "id": "05f81261-b565-4ef5-b3c5-25e0b3ae288d",
   "metadata": {},
   "outputs": [
    {
     "data": {
      "text/plain": [
       "RunStatus.SUCCESSFUL = 0"
      ]
     },
     "execution_count": 62,
     "metadata": {},
     "output_type": "execute_result"
    }
   ],
   "source": [
    "PSI.solve!(problem)"
   ]
  },
  {
   "cell_type": "code",
   "execution_count": null,
   "id": "bf65407e-0f04-4838-beaf-4e9f20952592",
   "metadata": {},
   "outputs": [],
   "source": []
  },
  {
   "cell_type": "code",
   "execution_count": null,
   "id": "49abd34e-31c7-4186-9a68-2ba7648a315e",
   "metadata": {},
   "outputs": [],
   "source": []
  }
 ],
 "metadata": {
  "kernelspec": {
   "display_name": "Julia 1.7.2",
   "language": "julia",
   "name": "julia-1.7"
  },
  "language_info": {
   "file_extension": ".jl",
   "mimetype": "application/julia",
   "name": "julia",
   "version": "1.7.2"
  }
 },
 "nbformat": 4,
 "nbformat_minor": 5
}
