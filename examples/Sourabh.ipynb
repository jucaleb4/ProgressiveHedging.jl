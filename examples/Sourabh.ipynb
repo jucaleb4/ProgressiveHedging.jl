{
 "cells": [
  {
   "cell_type": "code",
   "execution_count": 1,
   "id": "9798fa77",
   "metadata": {},
   "outputs": [
    {
     "name": "stderr",
     "output_type": "stream",
     "text": [
      "\u001b[32m\u001b[1m  Activating\u001b[22m\u001b[39m project at `/lustre/eaglefs/projects/pvb/cju/ProgressiveHedging.jl`\n"
     ]
    }
   ],
   "source": [
    "using Pkg\n",
    "Pkg.activate(\"..\")"
   ]
  },
  {
   "cell_type": "code",
   "execution_count": 2,
   "id": "73f0ae6d-2dc5-4227-8a32-f371981f19d7",
   "metadata": {},
   "outputs": [],
   "source": [
    "function print_struct(type)\n",
    "    mutable = ismutable(type) ? \"mutable\" : \"\"\n",
    "    println(\"$mutable struct $type\")\n",
    "    for (fn, ft) in zip(fieldnames(type), fieldtypes(type))\n",
    "        println(\"    $fn::$ft\")\n",
    "    end\n",
    "    println(\"end\")\n",
    "end\n",
    "\n",
    "using AbstractTrees"
   ]
  },
  {
   "cell_type": "code",
   "execution_count": 3,
   "id": "ed573e98",
   "metadata": {},
   "outputs": [
    {
     "name": "stderr",
     "output_type": "stream",
     "text": [
      "┌ Info: Xpress: Found license file /nopt/nrel/apps/xpressmp/8.13.0/bin/xpauth.xpr\n",
      "└ @ Xpress /home/cju/.julia/packages/Xpress/xOQbX/src/license.jl:44\n",
      "┌ Info: Xpress: Development license detected.\n",
      "└ @ Xpress /home/cju/.julia/packages/Xpress/xOQbX/src/license.jl:89\n"
     ]
    }
   ],
   "source": [
    "using Distributed\n",
    "const WORKERS = 1 # Change to > 1 to use parallel\n",
    "if nworkers() < WORKERS\n",
    "    diff = (nprocs() == nworkers() ? WORKERS : WORKERS - nworkers())\n",
    "    println(\"Adding $diff worker processes.\")\n",
    "    Distributed.addprocs(diff)\n",
    "    # Make sure these workers also have an environment with PH installed\n",
    "    @everywhere using Pkg\n",
    "    for w in workers()\n",
    "        @spawnat(w, Pkg.activate(\"..\"))\n",
    "    end\n",
    "end\n",
    "\n",
    "@everywhere using ProgressiveHedging\n",
    "@everywhere const PH = ProgressiveHedging\n",
    "@everywhere using Ipopt\n",
    "@everywhere using JuMP, Xpress, PowerSimulations, PowerSystems, PowerSystemCaseBuilder, TimeSeries\n",
    "@everywhere const PSI = PowerSimulations\n",
    "@everywhere const PSY = PowerSystems\n",
    "@everywhere const PSB = PowerSystemCaseBuilder"
   ]
  },
  {
   "cell_type": "code",
   "execution_count": 4,
   "id": "0794aeb6",
   "metadata": {},
   "outputs": [
    {
     "data": {
      "text/plain": [
       "MathOptInterface.OptimizerWithAttributes(Xpress.Optimizer, Pair{MathOptInterface.AbstractOptimizerAttribute, Any}[MathOptInterface.RawOptimizerAttribute(\"MIPRELSTOP\") => 0.0001])"
      ]
     },
     "execution_count": 4,
     "metadata": {},
     "output_type": "execute_result"
    }
   ],
   "source": [
    "using JuMP, Xpress, PowerSimulations, PowerSystems, PowerSystemCaseBuilder, InfrastructureSystems, Dates, TimeSeries\n",
    "const PSI = PowerSimulations\n",
    "const PSY = PowerSystems\n",
    "const PSB = PowerSystemCaseBuilder\n",
    "solver = optimizer_with_attributes(Xpress.Optimizer, \"MIPRELSTOP\" => 1e-4)"
   ]
  },
  {
   "cell_type": "code",
   "execution_count": 5,
   "id": "bf73d224",
   "metadata": {
    "scrolled": true,
    "tags": []
   },
   "outputs": [
    {
     "name": "stderr",
     "output_type": "stream",
     "text": [
      "┌ Info: Building new system 5_bus_hydro_uc_sys from raw data\n",
      "│   sys_descriptor.raw_data = /home/cju/.julia/packages/PowerSystemCaseBuilder/WBLmn/data\n",
      "└ @ PowerSystemCaseBuilder /home/cju/.julia/packages/PowerSystemCaseBuilder/WBLmn/src/build_system.jl:38\n",
      "┌ Info: Parsing csv data in Hydro_Upstream_Input.csv ...\n",
      "└ @ PowerSystems /home/cju/.julia/packages/PowerSystems/sxHdO/src/parsers/power_system_table_data.jl:144\n",
      "┌ Info: Successfully parsed Hydro_Upstream_Input.csv\n",
      "└ @ PowerSystems /home/cju/.julia/packages/PowerSystems/sxHdO/src/parsers/power_system_table_data.jl:149\n",
      "┌ Info: Parsing csv data in branch.csv ...\n",
      "└ @ PowerSystems /home/cju/.julia/packages/PowerSystems/sxHdO/src/parsers/power_system_table_data.jl:144\n",
      "┌ Info: Successfully parsed branch.csv\n",
      "└ @ PowerSystems /home/cju/.julia/packages/PowerSystems/sxHdO/src/parsers/power_system_table_data.jl:149\n",
      "┌ Info: Parsing csv data in bus.csv ...\n",
      "└ @ PowerSystems /home/cju/.julia/packages/PowerSystems/sxHdO/src/parsers/power_system_table_data.jl:144\n",
      "┌ Info: Successfully parsed bus.csv\n",
      "└ @ PowerSystems /home/cju/.julia/packages/PowerSystems/sxHdO/src/parsers/power_system_table_data.jl:149\n",
      "┌ Info: Parsing csv data in gen.csv ...\n",
      "└ @ PowerSystems /home/cju/.julia/packages/PowerSystems/sxHdO/src/parsers/power_system_table_data.jl:144\n",
      "┌ Info: Successfully parsed gen.csv\n",
      "└ @ PowerSystems /home/cju/.julia/packages/PowerSystems/sxHdO/src/parsers/power_system_table_data.jl:149\n",
      "┌ Info: Parsing csv data in reserves.csv ...\n",
      "└ @ PowerSystems /home/cju/.julia/packages/PowerSystems/sxHdO/src/parsers/power_system_table_data.jl:144\n",
      "┌ Info: Successfully parsed reserves.csv\n",
      "└ @ PowerSystems /home/cju/.julia/packages/PowerSystems/sxHdO/src/parsers/power_system_table_data.jl:149\n",
      "┌ Info: Parsing csv data in storage.csv ...\n",
      "└ @ PowerSystems /home/cju/.julia/packages/PowerSystems/sxHdO/src/parsers/power_system_table_data.jl:144\n",
      "┌ Info: Successfully parsed storage.csv\n",
      "└ @ PowerSystems /home/cju/.julia/packages/PowerSystems/sxHdO/src/parsers/power_system_table_data.jl:149\n",
      "┌ Info: Unit System changed to UnitSystem.DEVICE_BASE = 1\n",
      "└ @ PowerSystems /home/cju/.julia/packages/PowerSystems/sxHdO/src/base.jl:346\n",
      "┌ Warning: Missing PowerSystems.InputCategoryModule.InputCategory.DC_BRANCH = 3 data.\n",
      "└ @ PowerSystems /home/cju/.julia/packages/PowerSystems/sxHdO/src/parsers/power_system_table_data.jl:213\n",
      "┌ Warning: Missing PowerSystems.InputCategoryModule.InputCategory.LOAD = 5 data.\n",
      "└ @ PowerSystems /home/cju/.julia/packages/PowerSystems/sxHdO/src/parsers/power_system_table_data.jl:213\n",
      "┌ Warning: Missing PowerSystems.InputCategoryModule.InputCategory.DC_BRANCH = 3 data.\n",
      "└ @ PowerSystems /home/cju/.julia/packages/PowerSystems/sxHdO/src/parsers/power_system_table_data.jl:213\n",
      "┌ Warning: Missing PowerSystems.InputCategoryModule.InputCategory.LOAD = 5 data.\n",
      "└ @ PowerSystems /home/cju/.julia/packages/PowerSystems/sxHdO/src/parsers/power_system_table_data.jl:213\n",
      "┌ Info: Adding contributing generators for REG1 by category\n",
      "└ @ PowerSystems /home/cju/.julia/packages/PowerSystems/sxHdO/src/parsers/power_system_table_data.jl:687\n",
      "┌ Warning: no component category=Generator name=SolarBusC\n",
      "└ @ InfrastructureSystems /home/cju/.julia/packages/InfrastructureSystems/Oc56m/src/system_data.jl:548\n",
      "┌ Warning: no component category=Generator name=WindBusA\n",
      "└ @ InfrastructureSystems /home/cju/.julia/packages/InfrastructureSystems/Oc56m/src/system_data.jl:548\n",
      "┌ Warning: no component category=Reserve name=REG2\n",
      "└ @ InfrastructureSystems /home/cju/.julia/packages/InfrastructureSystems/Oc56m/src/system_data.jl:548\n",
      "┌ Warning: no component category=Reserve name=REG3\n",
      "└ @ InfrastructureSystems /home/cju/.julia/packages/InfrastructureSystems/Oc56m/src/system_data.jl:548\n",
      "┌ Warning: no component category=Reserve name=REG4\n",
      "└ @ InfrastructureSystems /home/cju/.julia/packages/InfrastructureSystems/Oc56m/src/system_data.jl:548\n",
      "┌ Info: Serialized time series data to /home/cju/.julia/packages/PowerSystemCaseBuilder/WBLmn/data/serialized_system/ForecastOnly/5_bus_hydro_uc_sys_time_series_storage.h5.\n",
      "└ @ InfrastructureSystems /home/cju/.julia/packages/InfrastructureSystems/Oc56m/src/time_series_storage.jl:99\n",
      "┌ Info: Serialized System to /home/cju/.julia/packages/PowerSystemCaseBuilder/WBLmn/data/serialized_system/ForecastOnly/5_bus_hydro_uc_sys.json\n",
      "└ @ PowerSystems /home/cju/.julia/packages/PowerSystems/sxHdO/src/base.jl:274\n"
     ]
    }
   ],
   "source": [
    "system = PSB.build_system(SIIPExampleSystems, \"5_bus_hydro_uc_sys\"; force_build =true);"
   ]
  },
  {
   "cell_type": "code",
   "execution_count": 6,
   "id": "9b8aebde",
   "metadata": {},
   "outputs": [
    {
     "data": {
      "text/plain": [
       "5-element Vector{String}:\n",
       " \"Solitude\"\n",
       " \"Park City\"\n",
       " \"Alta\"\n",
       " \"Brighton\"\n",
       " \"Sundance\""
      ]
     },
     "execution_count": 6,
     "metadata": {},
     "output_type": "execute_result"
    }
   ],
   "source": [
    "get_name.(collect(get_components(ThermalStandard, system)))"
   ]
  },
  {
   "cell_type": "markdown",
   "id": "ae3863d2-64d4-427c-b466-a5ef58ae3e65",
   "metadata": {},
   "source": [
    "### Replicate what Sourabh queried (\"S2.ipynb\")"
   ]
  },
  {
   "cell_type": "code",
   "execution_count": 7,
   "id": "4938e0f2-c9ec-4f92-8a4c-bc3687202558",
   "metadata": {},
   "outputs": [
    {
     "data": {
      "text/plain": [
       "Dict{String, ThermalStandard} with 5 entries:\n",
       "  \"Solitude\"  => ThermalStandard(Solitude, true, true, Bus(3, bus3, BusTypes.PV…\n",
       "  \"Park City\" => ThermalStandard(Park City, true, true, Bus(1, bus1, BusTypes.P…\n",
       "  \"Alta\"      => ThermalStandard(Alta, true, true, Bus(1, bus1, BusTypes.PV = 3…\n",
       "  \"Brighton\"  => ThermalStandard(Brighton, true, true, Bus(10, bus5, BusTypes.P…\n",
       "  \"Sundance\"  => ThermalStandard(Sundance, true, true, Bus(4, bus4, BusTypes.RE…"
      ]
     },
     "execution_count": 7,
     "metadata": {},
     "output_type": "execute_result"
    }
   ],
   "source": [
    "get(system.data.components.data, ThermalStandard, nothing)"
   ]
  },
  {
   "cell_type": "code",
   "execution_count": 8,
   "id": "d6accad2-c73f-4127-8d76-414ec86a9027",
   "metadata": {},
   "outputs": [],
   "source": [
    "# print_tree(system, depth=1)"
   ]
  },
  {
   "cell_type": "code",
   "execution_count": 9,
   "id": "260b074b-d281-44d3-a063-a1eadc47d58c",
   "metadata": {},
   "outputs": [],
   "source": [
    "# print_struct(Bus)"
   ]
  },
  {
   "cell_type": "code",
   "execution_count": 10,
   "id": "45c5c688-0b04-4a59-9389-d450feae79e5",
   "metadata": {},
   "outputs": [
    {
     "name": "stdout",
     "output_type": "stream",
     "text": [
      "mutable struct InfrastructureSystems.Components\n",
      "    data::Dict{DataType, Dict{String, <:InfrastructureSystems.InfrastructureSystemsComponent}}\n",
      "    time_series_storage::InfrastructureSystems.TimeSeriesStorage\n",
      "    validation_descriptors::Vector\n",
      "end\n"
     ]
    },
    {
     "data": {
      "text/plain": [
       "Dict{DataType, Dict{String, <:InfrastructureSystems.InfrastructureSystemsComponent}} with 12 entries:\n",
       "  Area                       => Dict{String, Area}(\"1\"=>Area(1, 0.0, 0.0, 0.0),…\n",
       "  HydroEnergyReservoir       => Dict{String, HydroEnergyReservoir}(\"HydroDispat…\n",
       "  Bus                        => Dict{String, Bus}(\"bus1\"=>Bus(1, bus1, BusTypes…\n",
       "  PowerLoad                  => Dict{String, PowerLoad}(\"bus4\"=>PowerLoad(bus4,…\n",
       "  ThermalStandard            => Dict{String, ThermalStandard}(\"Solitude\"=>Therm…\n",
       "  Line                       => Dict{String, Line}(\"branch2\"=>Line(branch2, tru…\n",
       "  HydroPumpedStorage         => Dict{String, HydroPumpedStorage}(\"PHES\"=>HydroP…\n",
       "  TapTransformer             => Dict{String, TapTransformer}(\"branch5\"=>TapTran…\n",
       "  LoadZone                   => Dict{String, LoadZone}(\"1\"=>LoadZone(1, 0.28571…\n",
       "  Arc                        => Dict{String, Arc}(\"bus2 -> bus3\"=>Arc(Bus(2, bu…\n",
       "  VariableReserve{ReserveUp} => Dict{String, VariableReserve{ReserveUp}}(\"REG1\"…\n",
       "  HydroDispatch              => Dict{String, HydroDispatch}(\"HydroDispatch2\"=>H…"
      ]
     },
     "execution_count": 10,
     "metadata": {},
     "output_type": "execute_result"
    }
   ],
   "source": [
    "print_struct(typeof(system.data.components))\n",
    "system.data.components.data"
   ]
  },
  {
   "cell_type": "markdown",
   "id": "811a7663-7d18-40be-a305-06227e69c3eb",
   "metadata": {},
   "source": [
    "Below, we can get the ThreePartCost and the Dictionary mapping Key to Value, but we can't get both."
   ]
  },
  {
   "cell_type": "code",
   "execution_count": 11,
   "id": "e06dbf08-7c2d-4ced-83b2-ee9e67926b86",
   "metadata": {},
   "outputs": [
    {
     "data": {
      "text/plain": [
       "5-element Vector{ThreePartCost}:\n",
       " ThreePartCost(VariableCost{Vector{Tuple{Float64, Float64}}}([(0.0, 0.0), (525.0, 17.5), (1137.5, 35.0)]), 0.0, 0.0, 0.0)\n",
       " ThreePartCost(VariableCost{Vector{Tuple{Float64, Float64}}}([(0.0, 0.0), (165.0, 11.0)]), 0.0, 0.0, 0.0)\n",
       " ThreePartCost(VariableCost{Vector{Tuple{Float64, Float64}}}([(0.0, 0.0), (36.4, 2.6)]), 0.0, 0.0, 0.0)\n",
       " ThreePartCost(VariableCost{Vector{Tuple{Float64, Float64}}}([(0.0, 0.0), (400.0, 40.0)]), 0.0, 0.0, 0.0)\n",
       " ThreePartCost(VariableCost{Vector{Tuple{Float64, Float64}}}([(0.0, 0.0), (8000.0, 200.0)]), 0.0, 0.0, 0.0)"
      ]
     },
     "execution_count": 11,
     "metadata": {},
     "output_type": "execute_result"
    }
   ],
   "source": [
    "get_operation_cost.(collect(get_components(ThermalStandard, system)))"
   ]
  },
  {
   "cell_type": "code",
   "execution_count": 12,
   "id": "0d554600-8696-4245-896d-6d476be65ef1",
   "metadata": {},
   "outputs": [
    {
     "data": {
      "text/plain": [
       "Dict{String, ThermalStandard} with 5 entries:\n",
       "  \"Solitude\"  => ThermalStandard(Solitude, true, true, Bus(3, bus3, BusTypes.PV…\n",
       "  \"Park City\" => ThermalStandard(Park City, true, true, Bus(1, bus1, BusTypes.P…\n",
       "  \"Alta\"      => ThermalStandard(Alta, true, true, Bus(1, bus1, BusTypes.PV = 3…\n",
       "  \"Brighton\"  => ThermalStandard(Brighton, true, true, Bus(10, bus5, BusTypes.P…\n",
       "  \"Sundance\"  => ThermalStandard(Sundance, true, true, Bus(4, bus4, BusTypes.RE…"
      ]
     },
     "execution_count": 12,
     "metadata": {},
     "output_type": "execute_result"
    }
   ],
   "source": [
    "system.data.components.data[ThermalStandard]"
   ]
  },
  {
   "cell_type": "code",
   "execution_count": 13,
   "id": "b8a7a17f-6bc0-4f5e-b943-a1aa2298b830",
   "metadata": {},
   "outputs": [
    {
     "data": {
      "text/plain": [
       "Solitude (ThermalStandard):\n",
       "   name: Solitude\n",
       "   available: true\n",
       "   status: true\n",
       "   bus: bus3 (Bus)\n",
       "   active_power: 0.6285714285714286\n",
       "   reactive_power: 0.7428571428571429\n",
       "   rating: 1.2457273918052367\n",
       "   active_power_limits: (min = 0.4857142857142857, max = 1.0)\n",
       "   reactive_power_limits: (min = -0.7428571428571429, max = 0.7428571428571429)\n",
       "   ramp_limits: (up = 0.42857142857142855, down = 0.42857142857142855)\n",
       "   operation_cost: ThreePartCost\n",
       "   base_power: 35.0\n",
       "   time_limits: (up = 4.0, down = 4.0)\n",
       "   prime_mover: PrimeMovers.CT = 8\n",
       "   fuel: ThermalFuels.NATURAL_GAS = 7\n",
       "   services: 0-element Vector{Service}\n",
       "   time_at_status: 10000.0\n",
       "   dynamic_injector: nothing\n",
       "   ext: Dict{String, Any}()\n",
       "   time_series_container: InfrastructureSystems.TimeSeriesContainer: 0\n",
       "   InfrastructureSystems.SystemUnitsSettings:\n",
       "      base_value: 100.0\n",
       "      unit_system: UnitSystem.DEVICE_BASE = 1"
      ]
     },
     "execution_count": 13,
     "metadata": {},
     "output_type": "execute_result"
    }
   ],
   "source": [
    "(system.data.components.data[ThermalStandard])[\"Solitude\"]"
   ]
  },
  {
   "cell_type": "code",
   "execution_count": 14,
   "id": "1286bf17",
   "metadata": {
    "scrolled": true,
    "tags": []
   },
   "outputs": [
    {
     "ename": "LoadError",
     "evalue": "UndefVarError: new_cost not defined",
     "output_type": "error",
     "traceback": [
      "UndefVarError: new_cost not defined",
      "",
      "Stacktrace:",
      " [1] top-level scope",
      "   @ ./In[14]:2",
      " [2] eval",
      "   @ ./boot.jl:373 [inlined]",
      " [3] include_string(mapexpr::typeof(REPL.softscope), mod::Module, code::String, filename::String)",
      "   @ Base ./loading.jl:1196"
     ]
    }
   ],
   "source": [
    "for th in get_components(ThermalStandard, system)\n",
    "    set_operation_cost!(th, new_cost[th.name])\n",
    "end\n"
   ]
  },
  {
   "cell_type": "code",
   "execution_count": 59,
   "id": "f9e7677a-9081-47c1-a0b5-75053cb8be33",
   "metadata": {},
   "outputs": [
    {
     "name": "stdout",
     "output_type": "stream",
     "text": [
      "Area\n",
      "Area(1, 0.0, 0.0, 0.0)\n",
      "Area(2, 0.0, 0.0, 0.0)\n",
      " <<<<<<<<<<<<<<<<<<<<\n",
      "HydroEnergyReservoir\n",
      "HydroEnergyReservoir(HydroDispatch1, true, Bus(1, bus1, BusTypes.PV = 3, 0.0008540771836226905, 1.0, (min = 0.95, max = 1.05), 230.0, Area(1, 0.0, 0.0, 0.0), LoadZone(1, 0.285714286, 0.09390714300000001), Dict{String, Any}()), 0.0, 0.0, 0.07071067811865477, PrimeMovers.HY = 16, (min = 0.0, max = 0.05), (min = -0.05, max = 0.05), (up = 0.05, down = 0.05), nothing, 5.0, 7.686, 0.05, 7.686, TwoPartCost(VariableCost{Float64}(0.15), 0.0), 1.0, 1.0, 10000.0, Service[VariableReserve(REG1, true, 5.0, 0.001, Dict{String, Any}())], nothing, Dict{String, Any}())\n",
      "HydroEnergyReservoir(HydroDispatch3, true, Bus(10, bus5, BusTypes.PV = 3, 0.0010936770654406082, 1.0, (min = 0.95, max = 1.05), 230.0, Area(1, 0.0, 0.0, 0.0), LoadZone(1, 0.285714286, 0.09390714300000001), Dict{String, Any}()), 0.0, 0.0, 1.0606601717798214, PrimeMovers.HY = 16, (min = 0.0, max = 0.75), (min = -0.75, max = 0.75), (up = 0.05, down = 0.05), nothing, 75.0, 30.744000000000003, 0.75, 30.744000000000003, TwoPartCost(VariableCost{Float64}(0.15), 0.0), 1.0, 1.0, 10000.0, Service[VariableReserve(REG1, true, 5.0, 0.001, Dict{String, Any}())], nothing, Dict{String, Any}())\n",
      " <<<<<<<<<<<<<<<<<<<<\n",
      "Bus\n",
      "Bus(1, bus1, BusTypes.PV = 3, 0.0008540771836226905, 1.0, (min = 0.95, max = 1.05), 230.0, Area(1, 0.0, 0.0, 0.0), LoadZone(1, 0.285714286, 0.09390714300000001), Dict{String, Any}())\n",
      "Bus(4, bus4, BusTypes.REF = 4, 0.0, 1.0, (min = 0.95, max = 1.05), 230.0, Area(1, 0.0, 0.0, 0.0), LoadZone(1, 0.285714286, 0.09390714300000001), Dict{String, Any}())\n",
      "Bus(10, bus5, BusTypes.PV = 3, 0.0010936770654406082, 1.0, (min = 0.95, max = 1.05), 230.0, Area(1, 0.0, 0.0, 0.0), LoadZone(1, 0.285714286, 0.09390714300000001), Dict{String, Any}())\n",
      "Bus(2, bus2, BusTypes.PQ = 2, -0.00022378718134155663, 1.04407, (min = 0.95, max = 1.05), 230.0, Area(2, 0.0, 0.0, 0.0), LoadZone(2, 0.428571428, 0.140871428), Dict{String, Any}())\n",
      "Bus(3, bus3, BusTypes.PV = 3, -0.0001705004641357477, 1.0, (min = 0.95, max = 1.05), 230.0, Area(2, 0.0, 0.0, 0.0), LoadZone(2, 0.428571428, 0.140871428), Dict{String, Any}())\n",
      " <<<<<<<<<<<<<<<<<<<<\n",
      "PowerLoad\n",
      "PowerLoad(bus4, true, Bus(4, bus4, BusTypes.REF = 4, 0.0, 1.0, (min = 0.95, max = 1.05), 230.0, Area(1, 0.0, 0.0, 0.0), LoadZone(1, 0.285714286, 0.09390714300000001), Dict{String, Any}()), LoadModels.ConstantPower = 3, 0.0, 0.0, 100.0, 0.285714286, 0.09390714300000001, Service[], nothing, Dict{String, Any}())\n",
      "PowerLoad(bus2, true, Bus(2, bus2, BusTypes.PQ = 2, -0.00022378718134155663, 1.04407, (min = 0.95, max = 1.05), 230.0, Area(2, 0.0, 0.0, 0.0), LoadZone(2, 0.428571428, 0.140871428), Dict{String, Any}()), LoadModels.ConstantPower = 3, 0.0, 0.0, 100.0, 0.214285714, 0.070435714, Service[], nothing, Dict{String, Any}())\n",
      "PowerLoad(bus3, true, Bus(3, bus3, BusTypes.PV = 3, -0.0001705004641357477, 1.0, (min = 0.95, max = 1.05), 230.0, Area(2, 0.0, 0.0, 0.0), LoadZone(2, 0.428571428, 0.140871428), Dict{String, Any}()), LoadModels.ConstantPower = 3, 0.0, 0.0, 100.0, 0.214285714, 0.070435714, Service[], nothing, Dict{String, Any}())\n",
      " <<<<<<<<<<<<<<<<<<<<\n",
      "ThermalStandard\n",
      "ThermalStandard(Solitude, true, true, Bus(3, bus3, BusTypes.PV = 3, -0.0001705004641357477, 1.0, (min = 0.95, max = 1.05), 230.0, Area(2, 0.0, 0.0, 0.0), LoadZone(2, 0.428571428, 0.140871428), Dict{String, Any}()), 0.21999999999999997, 0.26, 0.4360045871318328, (min = 0.16999999999999998, max = 0.35), (min = -0.26, max = 0.26), (up = 0.15, down = 0.15), ThreePartCost(VariableCost{Vector{Tuple{Float64, Float64}}}([(0.0, 0.0), (525.0, 17.5), (1137.5, 35.0)]), 0.0, 0.0, 0.0), 35.0, (up = 4.0, down = 4.0), PrimeMovers.CT = 8, ThermalFuels.NATURAL_GAS = 7, Service[], 10000.0, nothing, Dict{String, Any}())\n",
      "ThermalStandard(Park City, true, true, Bus(1, bus1, BusTypes.PV = 3, 0.0008540771836226905, 1.0, (min = 0.95, max = 1.05), 230.0, Area(1, 0.0, 0.0, 0.0), LoadZone(1, 0.285714286, 0.09390714300000001), Dict{String, Any}()), 0.11, 0.08499999999999999, 0.13901438774457844, (min = 0.033, max = 0.11), (min = -0.08499999999999999, max = 0.08499999999999999), (up = 0.15, down = 0.15), ThreePartCost(VariableCost{Vector{Tuple{Float64, Float64}}}([(0.0, 0.0), (165.0, 11.0)]), 0.0, 0.0, 0.0), 11.0, (up = 4.0, down = 4.0), PrimeMovers.CC = 4, ThermalFuels.NATURAL_GAS = 7, Service[VariableReserve(REG1, true, 5.0, 0.001, Dict{String, Any}())], 10000.0, nothing, Dict{String, Any}())\n",
      "ThermalStandard(Alta, true, true, Bus(1, bus1, BusTypes.PV = 3, 0.0008540771836226905, 1.0, (min = 0.95, max = 1.05), 230.0, Area(1, 0.0, 0.0, 0.0), LoadZone(1, 0.285714286, 0.09390714300000001), Dict{String, Any}()), 0.026, 0.019999999999999997, 0.03280243893371344, (min = 0.00333, max = 0.026), (min = -0.019999999999999997, max = 0.019999999999999997), (up = 0.15, down = 0.15), ThreePartCost(VariableCost{Vector{Tuple{Float64, Float64}}}([(0.0, 0.0), (36.4, 2.6)]), 0.0, 0.0, 0.0), 3.0, (up = 4.0, down = 4.0), PrimeMovers.CT = 8, ThermalFuels.NATURAL_GAS = 7, Service[VariableReserve(REG1, true, 5.0, 0.001, Dict{String, Any}())], 10000.0, nothing, Dict{String, Any}())\n",
      "ThermalStandard(Brighton, true, true, Bus(10, bus5, BusTypes.PV = 3, 0.0010936770654406082, 1.0, (min = 0.95, max = 1.05), 230.0, Area(1, 0.0, 0.0, 0.0), LoadZone(1, 0.285714286, 0.09390714300000001), Dict{String, Any}()), 0.31000000000000005, -0.11000000000000001, 0.5, (min = 0.2, max = 0.4), (min = -0.30000000000000004, max = 0.30000000000000004), (up = 0.05, down = 0.05), ThreePartCost(VariableCost{Vector{Tuple{Float64, Float64}}}([(0.0, 0.0), (400.0, 40.0)]), 0.0, 0.0, 0.0), 40.0, (up = 12.0, down = 12.0), PrimeMovers.ST = 20, ThermalFuels.COAL = 1, Service[VariableReserve(REG1, true, 5.0, 0.001, Dict{String, Any}())], 10000.0, nothing, Dict{String, Any}())\n",
      "ThermalStandard(Sundance, true, true, Bus(4, bus4, BusTypes.REF = 4, 0.0, 1.0, (min = 0.95, max = 1.05), 230.0, Area(1, 0.0, 0.0, 0.0), LoadZone(1, 0.285714286, 0.09390714300000001), Dict{String, Any}()), 0.0, -0.10801999999999999, 2.5, (min = 1.0, max = 2.0), (min = -1.5, max = 1.5), (up = 0.15, down = 0.15), ThreePartCost(VariableCost{Vector{Tuple{Float64, Float64}}}([(0.0, 0.0), (8000.0, 200.0)]), 0.0, 0.0, 0.0), 13.0, (up = 4.0, down = 4.0), PrimeMovers.CC = 4, ThermalFuels.NATURAL_GAS = 7, Service[VariableReserve(REG1, true, 5.0, 0.001, Dict{String, Any}())], 10000.0, nothing, Dict{String, Any}())\n",
      " <<<<<<<<<<<<<<<<<<<<\n",
      "Line\n",
      "Line(branch2, true, 0.0, 0.0, Arc(Bus(1, bus1, BusTypes.PV = 3, 0.0008540771836226905, 1.0, (min = 0.95, max = 1.05), 230.0, Area(1, 0.0, 0.0, 0.0), LoadZone(1, 0.285714286, 0.09390714300000001), Dict{String, Any}()), Bus(4, bus4, BusTypes.REF = 4, 0.0, 1.0, (min = 0.95, max = 1.05), 230.0, Area(1, 0.0, 0.0, 0.0), LoadZone(1, 0.285714286, 0.09390714300000001), Dict{String, Any}())), 0.00304, 0.0304, (from = 0.00329, to = 0.00329), 0.133, (min = -1.57079, max = 1.57079), Service[], Dict{String, Any}())\n",
      "Line(branch4, true, 0.0, 0.0, Arc(Bus(2, bus2, BusTypes.PQ = 2, -0.00022378718134155663, 1.04407, (min = 0.95, max = 1.05), 230.0, Area(2, 0.0, 0.0, 0.0), LoadZone(2, 0.428571428, 0.140871428), Dict{String, Any}()), Bus(3, bus3, BusTypes.PV = 3, -0.0001705004641357477, 1.0, (min = 0.95, max = 1.05), 230.0, Area(2, 0.0, 0.0, 0.0), LoadZone(2, 0.428571428, 0.140871428), Dict{String, Any}())), 0.00108, 0.0108, (from = 0.00926, to = 0.00926), 0.8, (min = -1.57079, max = 1.57079), Service[], Dict{String, Any}())\n",
      "Line(branch3, true, 0.0, 0.0, Arc(Bus(1, bus1, BusTypes.PV = 3, 0.0008540771836226905, 1.0, (min = 0.95, max = 1.05), 230.0, Area(1, 0.0, 0.0, 0.0), LoadZone(1, 0.285714286, 0.09390714300000001), Dict{String, Any}()), Bus(10, bus5, BusTypes.PV = 3, 0.0010936770654406082, 1.0, (min = 0.95, max = 1.05), 230.0, Area(1, 0.0, 0.0, 0.0), LoadZone(1, 0.285714286, 0.09390714300000001), Dict{String, Any}())), 0.00064, 0.0064, (from = 0.01563, to = 0.01563), 0.6659999999999999, (min = -1.57079, max = 1.57079), Service[], Dict{String, Any}())\n",
      "Line(branch1, true, 0.0, 0.0, Arc(Bus(1, bus1, BusTypes.PV = 3, 0.0008540771836226905, 1.0, (min = 0.95, max = 1.05), 230.0, Area(1, 0.0, 0.0, 0.0), LoadZone(1, 0.285714286, 0.09390714300000001), Dict{String, Any}()), Bus(2, bus2, BusTypes.PQ = 2, -0.00022378718134155663, 1.04407, (min = 0.95, max = 1.05), 230.0, Area(2, 0.0, 0.0, 0.0), LoadZone(2, 0.428571428, 0.140871428), Dict{String, Any}())), 0.00281, 0.0281, (from = 0.00356, to = 0.00356), 0.133, (min = -1.57079, max = 1.57079), Service[], Dict{String, Any}())\n",
      "Line(branch7, true, 0.0, 0.0, Arc(Bus(4, bus4, BusTypes.REF = 4, 0.0, 1.0, (min = 0.95, max = 1.05), 230.0, Area(1, 0.0, 0.0, 0.0), LoadZone(1, 0.285714286, 0.09390714300000001), Dict{String, Any}()), Bus(10, bus5, BusTypes.PV = 3, 0.0010936770654406082, 1.0, (min = 0.95, max = 1.05), 230.0, Area(1, 0.0, 0.0, 0.0), LoadZone(1, 0.285714286, 0.09390714300000001), Dict{String, Any}())), 0.00297, 0.0297, (from = 0.00337, to = 0.00337), 0.133, (min = -1.57079, max = 1.57079), Service[], Dict{String, Any}())\n",
      " <<<<<<<<<<<<<<<<<<<<\n",
      "HydroPumpedStorage\n",
      "HydroPumpedStorage(PHES, true, Bus(3, bus3, BusTypes.PV = 3, -0.0001705004641357477, 1.0, (min = 0.95, max = 1.05), 230.0, Area(2, 0.0, 0.0, 0.0), LoadZone(2, 0.428571428, 0.140871428), Dict{String, Any}()), 0.0, 0.0, 0.14142135623730953, 10.0, PrimeMovers.PS = 18, (min = 0.0, max = 0.1), (min = -0.1, max = 0.1), (up = 0.05, down = 0.05), nothing, 0.1, (min = 0.0, max = 0.1), nothing, nothing, nothing, (up = 20.0, down = 20.0), 0.1, 1.0, (up = 19.0, down = 19.0), (up = 0.0, down = 0.0), TwoPartCost(VariableCost{Float64}(0.15), 0.0), 1.0, 1.0, 10000.0, Service[], nothing, Dict{String, Any}())\n",
      " <<<<<<<<<<<<<<<<<<<<\n",
      "TapTransformer\n",
      "TapTransformer(branch5, true, 0.0, 0.0, Arc(Bus(3, bus3, BusTypes.PV = 3, -0.0001705004641357477, 1.0, (min = 0.95, max = 1.05), 230.0, Area(2, 0.0, 0.0, 0.0), LoadZone(2, 0.428571428, 0.140871428), Dict{String, Any}()), Bus(4, bus4, BusTypes.REF = 4, 0.0, 1.0, (min = 0.95, max = 1.05), 230.0, Area(1, 0.0, 0.0, 0.0), LoadZone(1, 0.285714286, 0.09390714300000001), Dict{String, Any}())), 0.00297, 0.0297, 0.00337, 1.05, 0.6659999999999999, Service[], Dict{String, Any}())\n",
      "TapTransformer(branch6, true, 0.0, 0.0, Arc(Bus(3, bus3, BusTypes.PV = 3, -0.0001705004641357477, 1.0, (min = 0.95, max = 1.05), 230.0, Area(2, 0.0, 0.0, 0.0), LoadZone(2, 0.428571428, 0.140871428), Dict{String, Any}()), Bus(4, bus4, BusTypes.REF = 4, 0.0, 1.0, (min = 0.95, max = 1.05), 230.0, Area(1, 0.0, 0.0, 0.0), LoadZone(1, 0.285714286, 0.09390714300000001), Dict{String, Any}())), 0.003274425, 0.03274425, 0.003056689, 0.952380952, 0.284, Service[], Dict{String, Any}())\n",
      " <<<<<<<<<<<<<<<<<<<<\n",
      "LoadZone\n",
      "LoadZone(1, 0.285714286, 0.09390714300000001)\n",
      "LoadZone(2, 0.428571428, 0.140871428)\n",
      " <<<<<<<<<<<<<<<<<<<<\n",
      "Arc\n",
      "Arc(Bus(2, bus2, BusTypes.PQ = 2, -0.00022378718134155663, 1.04407, (min = 0.95, max = 1.05), 230.0, Area(2, 0.0, 0.0, 0.0), LoadZone(2, 0.428571428, 0.140871428), Dict{String, Any}()), Bus(3, bus3, BusTypes.PV = 3, -0.0001705004641357477, 1.0, (min = 0.95, max = 1.05), 230.0, Area(2, 0.0, 0.0, 0.0), LoadZone(2, 0.428571428, 0.140871428), Dict{String, Any}()))\n",
      "Arc(Bus(1, bus1, BusTypes.PV = 3, 0.0008540771836226905, 1.0, (min = 0.95, max = 1.05), 230.0, Area(1, 0.0, 0.0, 0.0), LoadZone(1, 0.285714286, 0.09390714300000001), Dict{String, Any}()), Bus(10, bus5, BusTypes.PV = 3, 0.0010936770654406082, 1.0, (min = 0.95, max = 1.05), 230.0, Area(1, 0.0, 0.0, 0.0), LoadZone(1, 0.285714286, 0.09390714300000001), Dict{String, Any}()))\n",
      "Arc(Bus(1, bus1, BusTypes.PV = 3, 0.0008540771836226905, 1.0, (min = 0.95, max = 1.05), 230.0, Area(1, 0.0, 0.0, 0.0), LoadZone(1, 0.285714286, 0.09390714300000001), Dict{String, Any}()), Bus(4, bus4, BusTypes.REF = 4, 0.0, 1.0, (min = 0.95, max = 1.05), 230.0, Area(1, 0.0, 0.0, 0.0), LoadZone(1, 0.285714286, 0.09390714300000001), Dict{String, Any}()))\n",
      "Arc(Bus(1, bus1, BusTypes.PV = 3, 0.0008540771836226905, 1.0, (min = 0.95, max = 1.05), 230.0, Area(1, 0.0, 0.0, 0.0), LoadZone(1, 0.285714286, 0.09390714300000001), Dict{String, Any}()), Bus(2, bus2, BusTypes.PQ = 2, -0.00022378718134155663, 1.04407, (min = 0.95, max = 1.05), 230.0, Area(2, 0.0, 0.0, 0.0), LoadZone(2, 0.428571428, 0.140871428), Dict{String, Any}()))\n",
      "Arc(Bus(4, bus4, BusTypes.REF = 4, 0.0, 1.0, (min = 0.95, max = 1.05), 230.0, Area(1, 0.0, 0.0, 0.0), LoadZone(1, 0.285714286, 0.09390714300000001), Dict{String, Any}()), Bus(10, bus5, BusTypes.PV = 3, 0.0010936770654406082, 1.0, (min = 0.95, max = 1.05), 230.0, Area(1, 0.0, 0.0, 0.0), LoadZone(1, 0.285714286, 0.09390714300000001), Dict{String, Any}()))\n",
      "Arc(Bus(3, bus3, BusTypes.PV = 3, -0.0001705004641357477, 1.0, (min = 0.95, max = 1.05), 230.0, Area(2, 0.0, 0.0, 0.0), LoadZone(2, 0.428571428, 0.140871428), Dict{String, Any}()), Bus(4, bus4, BusTypes.REF = 4, 0.0, 1.0, (min = 0.95, max = 1.05), 230.0, Area(1, 0.0, 0.0, 0.0), LoadZone(1, 0.285714286, 0.09390714300000001), Dict{String, Any}()))\n",
      " <<<<<<<<<<<<<<<<<<<<\n",
      "VariableReserve{ReserveUp}\n",
      "VariableReserve(REG1, true, 5.0, 0.001, Dict{String, Any}())\n",
      " <<<<<<<<<<<<<<<<<<<<\n",
      "HydroDispatch\n",
      "HydroDispatch(HydroDispatch2, true, Bus(4, bus4, BusTypes.REF = 4, 0.0, 1.0, (min = 0.95, max = 1.05), 230.0, Area(1, 0.0, 0.0, 0.0), LoadZone(1, 0.285714286, 0.09390714300000001), Dict{String, Any}()), 0.0, 0.0, 0.14142135623730953, PrimeMovers.HY = 16, (min = 0.0, max = 0.1), (min = -0.1, max = 0.1), nothing, nothing, 10.0, TwoPartCost(VariableCost{Float64}(0.0), 0.0), Service[], nothing, Dict{String, Any}())\n",
      " <<<<<<<<<<<<<<<<<<<<\n"
     ]
    }
   ],
   "source": [
    "for key in keys(system.data.components.data)\n",
    "    println(key)\n",
    "    for comp in get_components(key, system)\n",
    "        println(comp)\n",
    "    end\n",
    "    println(\" <<<<<<<<<<<<<<<<<<<<\")\n",
    "end"
   ]
  },
  {
   "cell_type": "markdown",
   "id": "a5d981e9-fbb0-423f-88e9-cc6905660af0",
   "metadata": {},
   "source": [
    "### Let's get the optimization problem"
   ]
  },
  {
   "cell_type": "code",
   "execution_count": 16,
   "id": "fd68be31-0950-4612-88ee-705f73de3f6d",
   "metadata": {},
   "outputs": [],
   "source": [
    "template_ed = ProblemTemplate(CopperPlatePowerModel)\n",
    "set_device_model!(template_ed, ThermalStandard, ThermalDispatchNoMin)\n",
    "set_device_model!(template_ed, PowerLoad, StaticPowerLoad)\n",
    "set_device_model!(template_ed, HydroDispatch, FixedOutput)\n",
    "set_device_model!(template_ed, HydroEnergyReservoir, HydroDispatchRunOfRiver)"
   ]
  },
  {
   "cell_type": "code",
   "execution_count": 20,
   "id": "2e8af641-190a-4b2d-8a68-4c625b49991b",
   "metadata": {},
   "outputs": [
    {
     "name": "stderr",
     "output_type": "stream",
     "text": [
      "┌ Info: Overriding time_series_cache_size because time series is stored in memory\n",
      "└ @ PowerSimulations /home/cju/.julia/packages/PowerSimulations/HKwUO/src/core/settings.jl:43\n"
     ]
    },
    {
     "data": {
      "text/plain": [
       "BuildStatus.BUILT = 0"
      ]
     },
     "execution_count": 20,
     "metadata": {},
     "output_type": "execute_result"
    }
   ],
   "source": [
    "problem = DecisionModel(\n",
    "        template_ed, \n",
    "        system, \n",
    "        name = \"SubProblem\",\n",
    "        optimizer = solver, \n",
    "        # balance_slack_variables = true, # maybe this is depreciated\n",
    "        warm_start = false,\n",
    "        export_pwl_vars = true,\n",
    "#         horizon = 2,\n",
    "        initialize_model = false,\n",
    "    )\n",
    "\n",
    "directory =\"./simulation_folder/\"\n",
    "build!(problem, output_dir = directory)"
   ]
  },
  {
   "cell_type": "code",
   "execution_count": 24,
   "id": "8b5075c0-92ea-427d-affd-f2c1b801d2eb",
   "metadata": {},
   "outputs": [
    {
     "name": "stdout",
     "output_type": "stream",
     "text": [
      "typeof(optimization_container) = PowerSimulations.OptimizationContainer\n"
     ]
    },
    {
     "data": {
      "text/plain": [
       "PowerSimulations.OptimizationContainer"
      ]
     },
     "execution_count": 24,
     "metadata": {},
     "output_type": "execute_result"
    }
   ],
   "source": [
    "optimization_container = PSI.get_optimization_container(problem)\n",
    "@show typeof(optimization_container)"
   ]
  },
  {
   "cell_type": "markdown",
   "id": "23187023-0661-4291-88fe-96dded053207",
   "metadata": {},
   "source": [
    "We can access a lot of properties, see [here](https://github.com/NREL-SIIP/PowerSimulations.jl/blob/17891d4a61d071ce98efd96706ec7586e5d833cc/src/core/optimization_container.jl)."
   ]
  },
  {
   "cell_type": "code",
   "execution_count": 58,
   "id": "3bdd1044-b1cc-4a75-bc48-342bb9051365",
   "metadata": {},
   "outputs": [
    {
     "name": "stdout",
     "output_type": "stream",
     "text": [
      "typeof(ActivePowerVariable()) = ActivePowerVariable\n",
      "typeof(HydroEnergyReservoir) = DataType\n",
      "\n",
      "get(optc_cons, optc_cons_keys[1], \"\") = 2-dimensional DenseAxisArray{ConstraintRef,2,...} with index sets:\n",
      "    Dimension 1, [\"Solitude\", \"Park City\", \"Alta\", \"Brighton\", \"Sundance\"]\n",
      "    Dimension 2, 1:24\n",
      "And data, a 5×24 Matrix{ConstraintRef}:\n",
      " ActivePowerVariable_ThermalStandard_{Solitude, 1} - 0.175 PieceWiseLinearCostVariable_Solitude_{pwl_2, 1} - 0.35 PieceWiseLinearCostVariable_Solitude_{pwl_3, 1} = 0.0  ActivePowerVariable_ThermalStandard_{Solitude, 2} - 0.175 PieceWiseLinearCostVariable_Solitude_{pwl_2, 2} - 0.35 PieceWiseLinearCostVariable_Solitude_{pwl_3, 2} = 0.0  ActivePowerVariable_ThermalStandard_{Solitude, 3} - 0.175 PieceWiseLinearCostVariable_Solitude_{pwl_2, 3} - 0.35 PieceWiseLinearCostVariable_Solitude_{pwl_3, 3} = 0.0  ActivePowerVariable_ThermalStandard_{Solitude, 4} - 0.175 PieceWiseLinearCostVariable_Solitude_{pwl_2, 4} - 0.35 PieceWiseLinearCostVariable_Solitude_{pwl_3, 4} = 0.0  ActivePowerVariable_ThermalStandard_{Solitude, 5} - 0.175 PieceWiseLinearCostVariable_Solitude_{pwl_2, 5} - 0.35 PieceWiseLinearCostVariable_Solitude_{pwl_3, 5} = 0.0  ActivePowerVariable_ThermalStandard_{Solitude, 6} - 0.175 PieceWiseLinearCostVariable_Solitude_{pwl_2, 6} - 0.35 PieceWiseLinearCostVariable_Solitude_{pwl_3, 6} = 0.0  ActivePowerVariable_ThermalStandard_{Solitude, 7} - 0.175 PieceWiseLinearCostVariable_Solitude_{pwl_2, 7} - 0.35 PieceWiseLinearCostVariable_Solitude_{pwl_3, 7} = 0.0  ActivePowerVariable_ThermalStandard_{Solitude, 8} - 0.175 PieceWiseLinearCostVariable_Solitude_{pwl_2, 8} - 0.35 PieceWiseLinearCostVariable_Solitude_{pwl_3, 8} = 0.0  ActivePowerVariable_ThermalStandard_{Solitude, 9} - 0.175 PieceWiseLinearCostVariable_Solitude_{pwl_2, 9} - 0.35 PieceWiseLinearCostVariable_Solitude_{pwl_3, 9} = 0.0  ActivePowerVariable_ThermalStandard_{Solitude, 10} - 0.175 PieceWiseLinearCostVariable_Solitude_{pwl_2, 10} - 0.35 PieceWiseLinearCostVariable_Solitude_{pwl_3, 10} = 0.0  ActivePowerVariable_ThermalStandard_{Solitude, 11} - 0.175 PieceWiseLinearCostVariable_Solitude_{pwl_2, 11} - 0.35 PieceWiseLinearCostVariable_Solitude_{pwl_3, 11} = 0.0  ActivePowerVariable_ThermalStandard_{Solitude, 12} - 0.175 PieceWiseLinearCostVariable_Solitude_{pwl_2, 12} - 0.35 PieceWiseLinearCostVariable_Solitude_{pwl_3, 12} = 0.0  ActivePowerVariable_ThermalStandard_{Solitude, 13} - 0.175 PieceWiseLinearCostVariable_Solitude_{pwl_2, 13} - 0.35 PieceWiseLinearCostVariable_Solitude_{pwl_3, 13} = 0.0  ActivePowerVariable_ThermalStandard_{Solitude, 14} - 0.175 PieceWiseLinearCostVariable_Solitude_{pwl_2, 14} - 0.35 PieceWiseLinearCostVariable_Solitude_{pwl_3, 14} = 0.0  ActivePowerVariable_ThermalStandard_{Solitude, 15} - 0.175 PieceWiseLinearCostVariable_Solitude_{pwl_2, 15} - 0.35 PieceWiseLinearCostVariable_Solitude_{pwl_3, 15} = 0.0  ActivePowerVariable_ThermalStandard_{Solitude, 16} - 0.175 PieceWiseLinearCostVariable_Solitude_{pwl_2, 16} - 0.35 PieceWiseLinearCostVariable_Solitude_{pwl_3, 16} = 0.0  ActivePowerVariable_ThermalStandard_{Solitude, 17} - 0.175 PieceWiseLinearCostVariable_Solitude_{pwl_2, 17} - 0.35 PieceWiseLinearCostVariable_Solitude_{pwl_3, 17} = 0.0  ActivePowerVariable_ThermalStandard_{Solitude, 18} - 0.175 PieceWiseLinearCostVariable_Solitude_{pwl_2, 18} - 0.35 PieceWiseLinearCostVariable_Solitude_{pwl_3, 18} = 0.0  ActivePowerVariable_ThermalStandard_{Solitude, 19} - 0.175 PieceWiseLinearCostVariable_Solitude_{pwl_2, 19} - 0.35 PieceWiseLinearCostVariable_Solitude_{pwl_3, 19} = 0.0  ActivePowerVariable_ThermalStandard_{Solitude, 20} - 0.175 PieceWiseLinearCostVariable_Solitude_{pwl_2, 20} - 0.35 PieceWiseLinearCostVariable_Solitude_{pwl_3, 20} = 0.0  ActivePowerVariable_ThermalStandard_{Solitude, 21} - 0.175 PieceWiseLinearCostVariable_Solitude_{pwl_2, 21} - 0.35 PieceWiseLinearCostVariable_Solitude_{pwl_3, 21} = 0.0  ActivePowerVariable_ThermalStandard_{Solitude, 22} - 0.175 PieceWiseLinearCostVariable_Solitude_{pwl_2, 22} - 0.35 PieceWiseLinearCostVariable_Solitude_{pwl_3, 22} = 0.0  ActivePowerVariable_ThermalStandard_{Solitude, 23} - 0.175 PieceWiseLinearCostVariable_Solitude_{pwl_2, 23} - 0.35 PieceWiseLinearCostVariable_Solitude_{pwl_3, 23} = 0.0  ActivePowerVariable_ThermalStandard_{Solitude, 24} - 0.175 PieceWiseLinearCostVariable_Solitude_{pwl_2, 24} - 0.35 PieceWiseLinearCostVariable_Solitude_{pwl_3, 24} = 0.0\n",
      " ActivePowerVariable_ThermalStandard_{Park City, 1} - 0.11 PieceWiseLinearCostVariable_Park City_{pwl_2, 1} = 0.0                                                        ActivePowerVariable_ThermalStandard_{Park City, 2} - 0.11 PieceWiseLinearCostVariable_Park City_{pwl_2, 2} = 0.0                                                        ActivePowerVariable_ThermalStandard_{Park City, 3} - 0.11 PieceWiseLinearCostVariable_Park City_{pwl_2, 3} = 0.0                                                        ActivePowerVariable_ThermalStandard_{Park City, 4} - 0.11 PieceWiseLinearCostVariable_Park City_{pwl_2, 4} = 0.0                                                        ActivePowerVariable_ThermalStandard_{Park City, 5} - 0.11 PieceWiseLinearCostVariable_Park City_{pwl_2, 5} = 0.0                                                        ActivePowerVariable_ThermalStandard_{Park City, 6} - 0.11 PieceWiseLinearCostVariable_Park City_{pwl_2, 6} = 0.0                                                        ActivePowerVariable_ThermalStandard_{Park City, 7} - 0.11 PieceWiseLinearCostVariable_Park City_{pwl_2, 7} = 0.0                                                        ActivePowerVariable_ThermalStandard_{Park City, 8} - 0.11 PieceWiseLinearCostVariable_Park City_{pwl_2, 8} = 0.0                                                        ActivePowerVariable_ThermalStandard_{Park City, 9} - 0.11 PieceWiseLinearCostVariable_Park City_{pwl_2, 9} = 0.0                                                        ActivePowerVariable_ThermalStandard_{Park City, 10} - 0.11 PieceWiseLinearCostVariable_Park City_{pwl_2, 10} = 0.0                                                         ActivePowerVariable_ThermalStandard_{Park City, 11} - 0.11 PieceWiseLinearCostVariable_Park City_{pwl_2, 11} = 0.0                                                         ActivePowerVariable_ThermalStandard_{Park City, 12} - 0.11 PieceWiseLinearCostVariable_Park City_{pwl_2, 12} = 0.0                                                         ActivePowerVariable_ThermalStandard_{Park City, 13} - 0.11 PieceWiseLinearCostVariable_Park City_{pwl_2, 13} = 0.0                                                         ActivePowerVariable_ThermalStandard_{Park City, 14} - 0.11 PieceWiseLinearCostVariable_Park City_{pwl_2, 14} = 0.0                                                         ActivePowerVariable_ThermalStandard_{Park City, 15} - 0.11 PieceWiseLinearCostVariable_Park City_{pwl_2, 15} = 0.0                                                         ActivePowerVariable_ThermalStandard_{Park City, 16} - 0.11 PieceWiseLinearCostVariable_Park City_{pwl_2, 16} = 0.0                                                         ActivePowerVariable_ThermalStandard_{Park City, 17} - 0.11 PieceWiseLinearCostVariable_Park City_{pwl_2, 17} = 0.0                                                         ActivePowerVariable_ThermalStandard_{Park City, 18} - 0.11 PieceWiseLinearCostVariable_Park City_{pwl_2, 18} = 0.0                                                         ActivePowerVariable_ThermalStandard_{Park City, 19} - 0.11 PieceWiseLinearCostVariable_Park City_{pwl_2, 19} = 0.0                                                         ActivePowerVariable_ThermalStandard_{Park City, 20} - 0.11 PieceWiseLinearCostVariable_Park City_{pwl_2, 20} = 0.0                                                         ActivePowerVariable_ThermalStandard_{Park City, 21} - 0.11 PieceWiseLinearCostVariable_Park City_{pwl_2, 21} = 0.0                                                         ActivePowerVariable_ThermalStandard_{Park City, 22} - 0.11 PieceWiseLinearCostVariable_Park City_{pwl_2, 22} = 0.0                                                         ActivePowerVariable_ThermalStandard_{Park City, 23} - 0.11 PieceWiseLinearCostVariable_Park City_{pwl_2, 23} = 0.0                                                         ActivePowerVariable_ThermalStandard_{Park City, 24} - 0.11 PieceWiseLinearCostVariable_Park City_{pwl_2, 24} = 0.0\n",
      " ActivePowerVariable_ThermalStandard_{Alta, 1} - 0.026000000000000002 PieceWiseLinearCostVariable_Alta_{pwl_2, 1} = 0.0                                                  ActivePowerVariable_ThermalStandard_{Alta, 2} - 0.026000000000000002 PieceWiseLinearCostVariable_Alta_{pwl_2, 2} = 0.0                                                  ActivePowerVariable_ThermalStandard_{Alta, 3} - 0.026000000000000002 PieceWiseLinearCostVariable_Alta_{pwl_2, 3} = 0.0                                                  ActivePowerVariable_ThermalStandard_{Alta, 4} - 0.026000000000000002 PieceWiseLinearCostVariable_Alta_{pwl_2, 4} = 0.0                                                  ActivePowerVariable_ThermalStandard_{Alta, 5} - 0.026000000000000002 PieceWiseLinearCostVariable_Alta_{pwl_2, 5} = 0.0                                                  ActivePowerVariable_ThermalStandard_{Alta, 6} - 0.026000000000000002 PieceWiseLinearCostVariable_Alta_{pwl_2, 6} = 0.0                                                  ActivePowerVariable_ThermalStandard_{Alta, 7} - 0.026000000000000002 PieceWiseLinearCostVariable_Alta_{pwl_2, 7} = 0.0                                                  ActivePowerVariable_ThermalStandard_{Alta, 8} - 0.026000000000000002 PieceWiseLinearCostVariable_Alta_{pwl_2, 8} = 0.0                                                  ActivePowerVariable_ThermalStandard_{Alta, 9} - 0.026000000000000002 PieceWiseLinearCostVariable_Alta_{pwl_2, 9} = 0.0                                                  ActivePowerVariable_ThermalStandard_{Alta, 10} - 0.026000000000000002 PieceWiseLinearCostVariable_Alta_{pwl_2, 10} = 0.0                                                   ActivePowerVariable_ThermalStandard_{Alta, 11} - 0.026000000000000002 PieceWiseLinearCostVariable_Alta_{pwl_2, 11} = 0.0                                                   ActivePowerVariable_ThermalStandard_{Alta, 12} - 0.026000000000000002 PieceWiseLinearCostVariable_Alta_{pwl_2, 12} = 0.0                                                   ActivePowerVariable_ThermalStandard_{Alta, 13} - 0.026000000000000002 PieceWiseLinearCostVariable_Alta_{pwl_2, 13} = 0.0                                                   ActivePowerVariable_ThermalStandard_{Alta, 14} - 0.026000000000000002 PieceWiseLinearCostVariable_Alta_{pwl_2, 14} = 0.0                                                   ActivePowerVariable_ThermalStandard_{Alta, 15} - 0.026000000000000002 PieceWiseLinearCostVariable_Alta_{pwl_2, 15} = 0.0                                                   ActivePowerVariable_ThermalStandard_{Alta, 16} - 0.026000000000000002 PieceWiseLinearCostVariable_Alta_{pwl_2, 16} = 0.0                                                   ActivePowerVariable_ThermalStandard_{Alta, 17} - 0.026000000000000002 PieceWiseLinearCostVariable_Alta_{pwl_2, 17} = 0.0                                                   ActivePowerVariable_ThermalStandard_{Alta, 18} - 0.026000000000000002 PieceWiseLinearCostVariable_Alta_{pwl_2, 18} = 0.0                                                   ActivePowerVariable_ThermalStandard_{Alta, 19} - 0.026000000000000002 PieceWiseLinearCostVariable_Alta_{pwl_2, 19} = 0.0                                                   ActivePowerVariable_ThermalStandard_{Alta, 20} - 0.026000000000000002 PieceWiseLinearCostVariable_Alta_{pwl_2, 20} = 0.0                                                   ActivePowerVariable_ThermalStandard_{Alta, 21} - 0.026000000000000002 PieceWiseLinearCostVariable_Alta_{pwl_2, 21} = 0.0                                                   ActivePowerVariable_ThermalStandard_{Alta, 22} - 0.026000000000000002 PieceWiseLinearCostVariable_Alta_{pwl_2, 22} = 0.0                                                   ActivePowerVariable_ThermalStandard_{Alta, 23} - 0.026000000000000002 PieceWiseLinearCostVariable_Alta_{pwl_2, 23} = 0.0                                                   ActivePowerVariable_ThermalStandard_{Alta, 24} - 0.026000000000000002 PieceWiseLinearCostVariable_Alta_{pwl_2, 24} = 0.0\n",
      " ActivePowerVariable_ThermalStandard_{Brighton, 1} - 0.4 PieceWiseLinearCostVariable_Brighton_{pwl_2, 1} = 0.0                                                           ActivePowerVariable_ThermalStandard_{Brighton, 2} - 0.4 PieceWiseLinearCostVariable_Brighton_{pwl_2, 2} = 0.0                                                           ActivePowerVariable_ThermalStandard_{Brighton, 3} - 0.4 PieceWiseLinearCostVariable_Brighton_{pwl_2, 3} = 0.0                                                           ActivePowerVariable_ThermalStandard_{Brighton, 4} - 0.4 PieceWiseLinearCostVariable_Brighton_{pwl_2, 4} = 0.0                                                           ActivePowerVariable_ThermalStandard_{Brighton, 5} - 0.4 PieceWiseLinearCostVariable_Brighton_{pwl_2, 5} = 0.0                                                           ActivePowerVariable_ThermalStandard_{Brighton, 6} - 0.4 PieceWiseLinearCostVariable_Brighton_{pwl_2, 6} = 0.0                                                           ActivePowerVariable_ThermalStandard_{Brighton, 7} - 0.4 PieceWiseLinearCostVariable_Brighton_{pwl_2, 7} = 0.0                                                           ActivePowerVariable_ThermalStandard_{Brighton, 8} - 0.4 PieceWiseLinearCostVariable_Brighton_{pwl_2, 8} = 0.0                                                           ActivePowerVariable_ThermalStandard_{Brighton, 9} - 0.4 PieceWiseLinearCostVariable_Brighton_{pwl_2, 9} = 0.0                                                           ActivePowerVariable_ThermalStandard_{Brighton, 10} - 0.4 PieceWiseLinearCostVariable_Brighton_{pwl_2, 10} = 0.0                                                            ActivePowerVariable_ThermalStandard_{Brighton, 11} - 0.4 PieceWiseLinearCostVariable_Brighton_{pwl_2, 11} = 0.0                                                            ActivePowerVariable_ThermalStandard_{Brighton, 12} - 0.4 PieceWiseLinearCostVariable_Brighton_{pwl_2, 12} = 0.0                                                            ActivePowerVariable_ThermalStandard_{Brighton, 13} - 0.4 PieceWiseLinearCostVariable_Brighton_{pwl_2, 13} = 0.0                                                            ActivePowerVariable_ThermalStandard_{Brighton, 14} - 0.4 PieceWiseLinearCostVariable_Brighton_{pwl_2, 14} = 0.0                                                            ActivePowerVariable_ThermalStandard_{Brighton, 15} - 0.4 PieceWiseLinearCostVariable_Brighton_{pwl_2, 15} = 0.0                                                            ActivePowerVariable_ThermalStandard_{Brighton, 16} - 0.4 PieceWiseLinearCostVariable_Brighton_{pwl_2, 16} = 0.0                                                            ActivePowerVariable_ThermalStandard_{Brighton, 17} - 0.4 PieceWiseLinearCostVariable_Brighton_{pwl_2, 17} = 0.0                                                            ActivePowerVariable_ThermalStandard_{Brighton, 18} - 0.4 PieceWiseLinearCostVariable_Brighton_{pwl_2, 18} = 0.0                                                            ActivePowerVariable_ThermalStandard_{Brighton, 19} - 0.4 PieceWiseLinearCostVariable_Brighton_{pwl_2, 19} = 0.0                                                            ActivePowerVariable_ThermalStandard_{Brighton, 20} - 0.4 PieceWiseLinearCostVariable_Brighton_{pwl_2, 20} = 0.0                                                            ActivePowerVariable_ThermalStandard_{Brighton, 21} - 0.4 PieceWiseLinearCostVariable_Brighton_{pwl_2, 21} = 0.0                                                            ActivePowerVariable_ThermalStandard_{Brighton, 22} - 0.4 PieceWiseLinearCostVariable_Brighton_{pwl_2, 22} = 0.0                                                            ActivePowerVariable_ThermalStandard_{Brighton, 23} - 0.4 PieceWiseLinearCostVariable_Brighton_{pwl_2, 23} = 0.0                                                            ActivePowerVariable_ThermalStandard_{Brighton, 24} - 0.4 PieceWiseLinearCostVariable_Brighton_{pwl_2, 24} = 0.0\n",
      " ActivePowerVariable_ThermalStandard_{Sundance, 1} - 2 PieceWiseLinearCostVariable_Sundance_{pwl_2, 1} = 0.0                                                             ActivePowerVariable_ThermalStandard_{Sundance, 2} - 2 PieceWiseLinearCostVariable_Sundance_{pwl_2, 2} = 0.0                                                             ActivePowerVariable_ThermalStandard_{Sundance, 3} - 2 PieceWiseLinearCostVariable_Sundance_{pwl_2, 3} = 0.0                                                             ActivePowerVariable_ThermalStandard_{Sundance, 4} - 2 PieceWiseLinearCostVariable_Sundance_{pwl_2, 4} = 0.0                                                             ActivePowerVariable_ThermalStandard_{Sundance, 5} - 2 PieceWiseLinearCostVariable_Sundance_{pwl_2, 5} = 0.0                                                             ActivePowerVariable_ThermalStandard_{Sundance, 6} - 2 PieceWiseLinearCostVariable_Sundance_{pwl_2, 6} = 0.0                                                             ActivePowerVariable_ThermalStandard_{Sundance, 7} - 2 PieceWiseLinearCostVariable_Sundance_{pwl_2, 7} = 0.0                                                             ActivePowerVariable_ThermalStandard_{Sundance, 8} - 2 PieceWiseLinearCostVariable_Sundance_{pwl_2, 8} = 0.0                                                             ActivePowerVariable_ThermalStandard_{Sundance, 9} - 2 PieceWiseLinearCostVariable_Sundance_{pwl_2, 9} = 0.0                                                             ActivePowerVariable_ThermalStandard_{Sundance, 10} - 2 PieceWiseLinearCostVariable_Sundance_{pwl_2, 10} = 0.0                                                              ActivePowerVariable_ThermalStandard_{Sundance, 11} - 2 PieceWiseLinearCostVariable_Sundance_{pwl_2, 11} = 0.0                                                              ActivePowerVariable_ThermalStandard_{Sundance, 12} - 2 PieceWiseLinearCostVariable_Sundance_{pwl_2, 12} = 0.0                                                              ActivePowerVariable_ThermalStandard_{Sundance, 13} - 2 PieceWiseLinearCostVariable_Sundance_{pwl_2, 13} = 0.0                                                              ActivePowerVariable_ThermalStandard_{Sundance, 14} - 2 PieceWiseLinearCostVariable_Sundance_{pwl_2, 14} = 0.0                                                              ActivePowerVariable_ThermalStandard_{Sundance, 15} - 2 PieceWiseLinearCostVariable_Sundance_{pwl_2, 15} = 0.0                                                              ActivePowerVariable_ThermalStandard_{Sundance, 16} - 2 PieceWiseLinearCostVariable_Sundance_{pwl_2, 16} = 0.0                                                              ActivePowerVariable_ThermalStandard_{Sundance, 17} - 2 PieceWiseLinearCostVariable_Sundance_{pwl_2, 17} = 0.0                                                              ActivePowerVariable_ThermalStandard_{Sundance, 18} - 2 PieceWiseLinearCostVariable_Sundance_{pwl_2, 18} = 0.0                                                              ActivePowerVariable_ThermalStandard_{Sundance, 19} - 2 PieceWiseLinearCostVariable_Sundance_{pwl_2, 19} = 0.0                                                              ActivePowerVariable_ThermalStandard_{Sundance, 20} - 2 PieceWiseLinearCostVariable_Sundance_{pwl_2, 20} = 0.0                                                              ActivePowerVariable_ThermalStandard_{Sundance, 21} - 2 PieceWiseLinearCostVariable_Sundance_{pwl_2, 21} = 0.0                                                              ActivePowerVariable_ThermalStandard_{Sundance, 22} - 2 PieceWiseLinearCostVariable_Sundance_{pwl_2, 22} = 0.0                                                              ActivePowerVariable_ThermalStandard_{Sundance, 23} - 2 PieceWiseLinearCostVariable_Sundance_{pwl_2, 23} = 0.0                                                              ActivePowerVariable_ThermalStandard_{Sundance, 24} - 2 PieceWiseLinearCostVariable_Sundance_{pwl_2, 24} = 0.0\n"
     ]
    },
    {
     "data": {
      "text/plain": [
       "2-dimensional DenseAxisArray{ConstraintRef,2,...} with index sets:\n",
       "    Dimension 1, [\"Solitude\", \"Park City\", \"Alta\", \"Brighton\", \"Sundance\"]\n",
       "    Dimension 2, 1:24\n",
       "And data, a 5×24 Matrix{ConstraintRef}:\n",
       " ActivePowerVariable_ThermalStandard_{Solitude, 1} - 0.175 PieceWiseLinearCostVariable_Solitude_{pwl_2, 1} - 0.35 PieceWiseLinearCostVariable_Solitude_{pwl_3, 1} = 0.0  …  ActivePowerVariable_ThermalStandard_{Solitude, 24} - 0.175 PieceWiseLinearCostVariable_Solitude_{pwl_2, 24} - 0.35 PieceWiseLinearCostVariable_Solitude_{pwl_3, 24} = 0.0\n",
       " ActivePowerVariable_ThermalStandard_{Park City, 1} - 0.11 PieceWiseLinearCostVariable_Park City_{pwl_2, 1} = 0.0                                                           ActivePowerVariable_ThermalStandard_{Park City, 24} - 0.11 PieceWiseLinearCostVariable_Park City_{pwl_2, 24} = 0.0\n",
       " ActivePowerVariable_ThermalStandard_{Alta, 1} - 0.026000000000000002 PieceWiseLinearCostVariable_Alta_{pwl_2, 1} = 0.0                                                     ActivePowerVariable_ThermalStandard_{Alta, 24} - 0.026000000000000002 PieceWiseLinearCostVariable_Alta_{pwl_2, 24} = 0.0\n",
       " ActivePowerVariable_ThermalStandard_{Brighton, 1} - 0.4 PieceWiseLinearCostVariable_Brighton_{pwl_2, 1} = 0.0                                                              ActivePowerVariable_ThermalStandard_{Brighton, 24} - 0.4 PieceWiseLinearCostVariable_Brighton_{pwl_2, 24} = 0.0\n",
       " ActivePowerVariable_ThermalStandard_{Sundance, 1} - 2 PieceWiseLinearCostVariable_Sundance_{pwl_2, 1} = 0.0                                                                ActivePowerVariable_ThermalStandard_{Sundance, 24} - 2 PieceWiseLinearCostVariable_Sundance_{pwl_2, 24} = 0.0"
      ]
     },
     "execution_count": 58,
     "metadata": {},
     "output_type": "execute_result"
    }
   ],
   "source": [
    "# get the jump model\n",
    "optc_jump_model = PSI.get_jump_model(optimization_container)\n",
    "# @show optc_jump_model\n",
    "\n",
    "# get the objective function\n",
    "optc_obj_func = PSI.get_objective_function(optimization_container)\n",
    "# @show optc_obj_func\n",
    "\n",
    "# get the variables\n",
    "optc_vars = PSI.get_variables(optimization_container)\n",
    "# @show optc_vars\n",
    "\n",
    "@show typeof(ActivePowerVariable()) # https://github.com/NREL-SIIP/PowerSimulations.jl/blob/a2ae3da0d7692741ecf85e6d6f453a0e1bc44d4e/src/core/variables.jl\n",
    "@show typeof(HydroEnergyReservoir)\n",
    "var_h = PSI.get_variable(optimization_container, ActivePowerVariable(), HydroEnergyReservoir)\n",
    "\n",
    "println(\"\")\n",
    "\n",
    "# get constraints\n",
    "optc_cons = PSI.get_constraints(optimization_container)\n",
    "optc_cons_keys = PSI.get_constraint_keys(optimization_container)\n",
    "@show get(optc_cons, optc_cons_keys[1], \"\")\n",
    "# @show optc_cons"
   ]
  },
  {
   "cell_type": "code",
   "execution_count": null,
   "id": "7426e9a3-c084-4003-826a-816eda1a1452",
   "metadata": {},
   "outputs": [],
   "source": []
  },
  {
   "cell_type": "markdown",
   "id": "f2ede104-f971-4ea4-b773-51b550e3f889",
   "metadata": {},
   "source": [
    "### End of my investigation"
   ]
  },
  {
   "cell_type": "code",
   "execution_count": null,
   "id": "f08ed6d3-6d1d-4ddd-8f71-2cbb36be0c59",
   "metadata": {},
   "outputs": [],
   "source": []
  },
  {
   "cell_type": "code",
   "execution_count": 158,
   "id": "d22db630",
   "metadata": {},
   "outputs": [
    {
     "data": {
      "text/plain": [
       "ThreePartCost(VariableCost{Vector{Tuple{Float64, Float64}}}([(0.0, 0.0), (525.0, 17.5), (1137.5, 35.0)]), 0.0, 0.0, 0.0)"
      ]
     },
     "execution_count": 158,
     "metadata": {},
     "output_type": "execute_result"
    }
   ],
   "source": [
    "hyd[1].operation_cost"
   ]
  },
  {
   "cell_type": "code",
   "execution_count": 124,
   "id": "8993a443",
   "metadata": {},
   "outputs": [],
   "source": [
    "ts = get_time_series(Deterministic, hyd[1], \"max_active_power\");"
   ]
  },
  {
   "cell_type": "code",
   "execution_count": 127,
   "id": "56fb99f4",
   "metadata": {
    "scrolled": true,
    "tags": []
   },
   "outputs": [
    {
     "data": {
      "text/plain": [
       "336×1 TimeArray{Float64, 1, DateTime, Vector{Float64}} 2020-01-01T00:00:00 to 2020-01-14T23:00:00\n",
       "│                     │ A      │\n",
       "├─────────────────────┼────────┤\n",
       "│ 2020-01-01T00:00:00 │ 0.0633 │\n",
       "│ 2020-01-01T01:00:00 │ 0.0631 │\n",
       "│ 2020-01-01T02:00:00 │ 0.0629 │\n",
       "│ 2020-01-01T03:00:00 │ 0.0627 │\n",
       "│ 2020-01-01T04:00:00 │ 0.0625 │\n",
       "│ 2020-01-01T05:00:00 │ 0.0623 │\n",
       "│ 2020-01-01T06:00:00 │ 0.0621 │\n",
       "│ 2020-01-01T07:00:00 │ 0.0619 │\n",
       "│ 2020-01-01T08:00:00 │ 0.0616 │\n",
       "│ 2020-01-01T09:00:00 │ 0.0614 │\n",
       "│ 2020-01-01T10:00:00 │ 0.0612 │\n",
       "│ ⋮                   │ ⋮      │\n",
       "│ 2020-01-14T14:00:00 │ 0.0709 │\n",
       "│ 2020-01-14T15:00:00 │ 0.0669 │\n",
       "│ 2020-01-14T16:00:00 │ 0.0662 │\n",
       "│ 2020-01-14T17:00:00 │ 0.0669 │\n",
       "│ 2020-01-14T18:00:00 │ 0.0737 │\n",
       "│ 2020-01-14T19:00:00 │ 0.0735 │\n",
       "│ 2020-01-14T20:00:00 │ 0.0652 │\n",
       "│ 2020-01-14T21:00:00 │ 0.0693 │\n",
       "│ 2020-01-14T22:00:00 │ 0.0731 │\n",
       "│ 2020-01-14T23:00:00 │ 0.0666 │"
      ]
     },
     "execution_count": 127,
     "metadata": {},
     "output_type": "execute_result"
    }
   ],
   "source": [
    "ts.single_time_series.data"
   ]
  },
  {
   "cell_type": "code",
   "execution_count": 79,
   "id": "abcaa1a6",
   "metadata": {},
   "outputs": [],
   "source": [
    "ts = get_time_series(SingleTimeSeries, loads[1], \"max_active_power\");"
   ]
  },
  {
   "cell_type": "code",
   "execution_count": 91,
   "id": "9ff355c5",
   "metadata": {},
   "outputs": [
    {
     "data": {
      "text/plain": [
       "336"
      ]
     },
     "execution_count": 91,
     "metadata": {},
     "output_type": "execute_result"
    }
   ],
   "source": [
    "length(get_initial_timestamp(ts):Hour(1):get_initial_timestamp(ts)+Hour(335))"
   ]
  },
  {
   "cell_type": "code",
   "execution_count": 81,
   "id": "b4a1fe0e",
   "metadata": {
    "collapsed": true,
    "jupyter": {
     "outputs_hidden": true
    },
    "tags": []
   },
   "outputs": [
    {
     "ename": "LoadError",
     "evalue": "MethodError: no method matching get_time_series_timestamps(::SingleTimeSeries)\n\u001b[0mClosest candidates are:\n\u001b[0m  get_time_series_timestamps(::InfrastructureSystems.InfrastructureSystemsComponent, \u001b[91m::Forecast\u001b[39m) at /Users/sdalvi/.julia/packages/InfrastructureSystems/2yQRJ/src/component.jl:264\n\u001b[0m  get_time_series_timestamps(::InfrastructureSystems.InfrastructureSystemsComponent, \u001b[91m::Forecast\u001b[39m, \u001b[91m::Union{Nothing, DateTime}\u001b[39m; len) at /Users/sdalvi/.julia/packages/InfrastructureSystems/2yQRJ/src/component.jl:264\n\u001b[0m  get_time_series_timestamps(::InfrastructureSystems.InfrastructureSystemsComponent, \u001b[91m::StaticTimeSeries\u001b[39m) at /Users/sdalvi/.julia/packages/InfrastructureSystems/2yQRJ/src/component.jl:278\n\u001b[0m  ...",
     "output_type": "error",
     "traceback": [
      "MethodError: no method matching get_time_series_timestamps(::SingleTimeSeries)\n\u001b[0mClosest candidates are:\n\u001b[0m  get_time_series_timestamps(::InfrastructureSystems.InfrastructureSystemsComponent, \u001b[91m::Forecast\u001b[39m) at /Users/sdalvi/.julia/packages/InfrastructureSystems/2yQRJ/src/component.jl:264\n\u001b[0m  get_time_series_timestamps(::InfrastructureSystems.InfrastructureSystemsComponent, \u001b[91m::Forecast\u001b[39m, \u001b[91m::Union{Nothing, DateTime}\u001b[39m; len) at /Users/sdalvi/.julia/packages/InfrastructureSystems/2yQRJ/src/component.jl:264\n\u001b[0m  get_time_series_timestamps(::InfrastructureSystems.InfrastructureSystemsComponent, \u001b[91m::StaticTimeSeries\u001b[39m) at /Users/sdalvi/.julia/packages/InfrastructureSystems/2yQRJ/src/component.jl:278\n\u001b[0m  ...",
      "",
      "Stacktrace:",
      " [1] top-level scope",
      "   @ In[81]:1",
      " [2] eval",
      "   @ ./boot.jl:360 [inlined]",
      " [3] include_string(mapexpr::typeof(REPL.softscope), mod::Module, code::String, filename::String)",
      "   @ Base ./loading.jl:1094"
     ]
    }
   ],
   "source": [
    "get_time_series_timestamps(ts)"
   ]
  },
  {
   "cell_type": "code",
   "execution_count": 177,
   "id": "8d19072d",
   "metadata": {
    "scrolled": true,
    "tags": []
   },
   "outputs": [
    {
     "name": "stderr",
     "output_type": "stream",
     "text": [
      "┌ Info: Building new system 5_bus_hydro_uc_sys from raw data\n",
      "│   sys_descriptor.raw_data = /Users/sdalvi/.julia/packages/PowerSystemCaseBuilder/dPZHk/data\n",
      "└ @ PowerSystemCaseBuilder /Users/sdalvi/.julia/packages/PowerSystemCaseBuilder/dPZHk/src/build_system.jl:35\n",
      "┌ Info: Parsing csv data in Hydro_Upstream_Input.csv ...\n",
      "└ @ PowerSystems /Users/sdalvi/.julia/packages/PowerSystems/tMGbo/src/parsers/power_system_table_data.jl:143\n",
      "┌ Info: Successfully parsed Hydro_Upstream_Input.csv\n",
      "└ @ PowerSystems /Users/sdalvi/.julia/packages/PowerSystems/tMGbo/src/parsers/power_system_table_data.jl:148\n",
      "┌ Info: Parsing csv data in branch.csv ...\n",
      "└ @ PowerSystems /Users/sdalvi/.julia/packages/PowerSystems/tMGbo/src/parsers/power_system_table_data.jl:143\n",
      "┌ Info: Successfully parsed branch.csv\n",
      "└ @ PowerSystems /Users/sdalvi/.julia/packages/PowerSystems/tMGbo/src/parsers/power_system_table_data.jl:148\n",
      "┌ Info: Parsing csv data in bus.csv ...\n",
      "└ @ PowerSystems /Users/sdalvi/.julia/packages/PowerSystems/tMGbo/src/parsers/power_system_table_data.jl:143\n",
      "┌ Info: Successfully parsed bus.csv\n",
      "└ @ PowerSystems /Users/sdalvi/.julia/packages/PowerSystems/tMGbo/src/parsers/power_system_table_data.jl:148\n",
      "┌ Info: Parsing csv data in gen.csv ...\n",
      "└ @ PowerSystems /Users/sdalvi/.julia/packages/PowerSystems/tMGbo/src/parsers/power_system_table_data.jl:143\n",
      "┌ Info: Successfully parsed gen.csv\n",
      "└ @ PowerSystems /Users/sdalvi/.julia/packages/PowerSystems/tMGbo/src/parsers/power_system_table_data.jl:148\n",
      "┌ Info: Parsing csv data in reserves.csv ...\n",
      "└ @ PowerSystems /Users/sdalvi/.julia/packages/PowerSystems/tMGbo/src/parsers/power_system_table_data.jl:143\n",
      "┌ Info: Successfully parsed reserves.csv\n",
      "└ @ PowerSystems /Users/sdalvi/.julia/packages/PowerSystems/tMGbo/src/parsers/power_system_table_data.jl:148\n",
      "┌ Info: Parsing csv data in storage.csv ...\n",
      "└ @ PowerSystems /Users/sdalvi/.julia/packages/PowerSystems/tMGbo/src/parsers/power_system_table_data.jl:143\n",
      "┌ Info: Successfully parsed storage.csv\n",
      "└ @ PowerSystems /Users/sdalvi/.julia/packages/PowerSystems/tMGbo/src/parsers/power_system_table_data.jl:148\n",
      "┌ Info: Unit System changed to UnitSystem.DEVICE_BASE = 1\n",
      "└ @ PowerSystems /Users/sdalvi/.julia/packages/PowerSystems/tMGbo/src/base.jl:326\n",
      "┌ Warning: Missing PowerSystems.InputCategoryModule.InputCategory.DC_BRANCH = 3 data.\n",
      "└ @ PowerSystems /Users/sdalvi/.julia/packages/PowerSystems/tMGbo/src/parsers/power_system_table_data.jl:212\n",
      "┌ Warning: Missing PowerSystems.InputCategoryModule.InputCategory.LOAD = 5 data.\n",
      "└ @ PowerSystems /Users/sdalvi/.julia/packages/PowerSystems/tMGbo/src/parsers/power_system_table_data.jl:212\n",
      "┌ Warning: Missing PowerSystems.InputCategoryModule.InputCategory.DC_BRANCH = 3 data.\n",
      "└ @ PowerSystems /Users/sdalvi/.julia/packages/PowerSystems/tMGbo/src/parsers/power_system_table_data.jl:212\n",
      "┌ Warning: Missing PowerSystems.InputCategoryModule.InputCategory.LOAD = 5 data.\n",
      "└ @ PowerSystems /Users/sdalvi/.julia/packages/PowerSystems/tMGbo/src/parsers/power_system_table_data.jl:212\n",
      "┌ Info: Adding contributing generators for REG1 by category\n",
      "└ @ PowerSystems /Users/sdalvi/.julia/packages/PowerSystems/tMGbo/src/parsers/power_system_table_data.jl:675\n",
      "┌ Warning: no component category=Generator name=SolarBusC\n",
      "└ @ InfrastructureSystems /Users/sdalvi/.julia/packages/InfrastructureSystems/2yQRJ/src/system_data.jl:478\n",
      "┌ Warning: no component category=Generator name=WindBusA\n",
      "└ @ InfrastructureSystems /Users/sdalvi/.julia/packages/InfrastructureSystems/2yQRJ/src/system_data.jl:478\n",
      "┌ Warning: no component category=Reserve name=REG2\n",
      "└ @ InfrastructureSystems /Users/sdalvi/.julia/packages/InfrastructureSystems/2yQRJ/src/system_data.jl:478\n",
      "┌ Warning: no component category=Reserve name=REG3\n",
      "└ @ InfrastructureSystems /Users/sdalvi/.julia/packages/InfrastructureSystems/2yQRJ/src/system_data.jl:478\n",
      "┌ Warning: no component category=Reserve name=REG4\n",
      "└ @ InfrastructureSystems /Users/sdalvi/.julia/packages/InfrastructureSystems/2yQRJ/src/system_data.jl:478\n",
      "┌ Info: Serialized time series data to /Users/sdalvi/.julia/packages/PowerSystemCaseBuilder/dPZHk/data/serialized_system/ForecastOnly/5_bus_hydro_uc_sys_time_series_storage.h5.\n",
      "└ @ InfrastructureSystems /Users/sdalvi/.julia/packages/InfrastructureSystems/2yQRJ/src/time_series_storage.jl:65\n",
      "┌ Info: Serialized System to /Users/sdalvi/.julia/packages/PowerSystemCaseBuilder/dPZHk/data/serialized_system/ForecastOnly/5_bus_hydro_uc_sys.json\n",
      "└ @ PowerSystems /Users/sdalvi/.julia/packages/PowerSystems/tMGbo/src/base.jl:254\n"
     ]
    }
   ],
   "source": [
    "system = PSB.build_system(SIIPExampleSystems, \"5_bus_hydro_uc_sys\"; force_build =true);\n",
    "remove_time_series!(system, DeterministicSingleTimeSeries)\n",
    "for load in get_components(PowerLoad, system)\n",
    "    ts = get_time_series(SingleTimeSeries, load, \"max_active_power\");\n",
    "    ts_val = get_time_series_values(SingleTimeSeries, load, \"max_active_power\")\n",
    "    time_stamps = get_initial_timestamp(ts):Hour(1):get_initial_timestamp(ts)+Hour(335)\n",
    "    remove_time_series!(system, SingleTimeSeries, load, \"max_active_power\")\n",
    "    data = TimeArray(time_stamps, vcat(ts_val, ts_val + rand(168)*0.2))\n",
    "    forecast = SingleTimeSeries(\"max_active_power\", data;\n",
    "#         normalization_factor = Float64(maximum(data)),\n",
    "#         scaling_factor_multiplier = PSY.get_max_active_power\n",
    "        )\n",
    "    add_time_series!(system, load, forecast)\n",
    "end\n",
    "\n",
    "for hyd in get_components(HydroDispatch, system), label in [\"max_active_power\"]\n",
    "    ts = get_time_series(SingleTimeSeries, hyd, label);\n",
    "    ts_val = get_time_series_values(SingleTimeSeries, hyd, label)\n",
    "    time_stamps = get_initial_timestamp(ts):Hour(1):get_initial_timestamp(ts)+Hour(335)\n",
    "    remove_time_series!(system, SingleTimeSeries, hyd, label)\n",
    "    data = TimeArray(time_stamps, vcat(ts_val, ts_val + rand(168)*0.01))\n",
    "    forecast = SingleTimeSeries(label, data;\n",
    "#         normalization_factor = Float64(maximum(data)),\n",
    "#         scaling_factor_multiplier = PSY.get_max_active_power\n",
    "        )\n",
    "    add_time_series!(system, hyd, forecast)\n",
    "end\n",
    "\n",
    "labels = [\"max_active_power\", \"inflow\"]\n",
    "for hyd in get_components(HydroEnergyReservoir, system), label in labels\n",
    "    ts = get_time_series(SingleTimeSeries, hyd, label);\n",
    "    ts_val = get_time_series_values(SingleTimeSeries, hyd, label)\n",
    "    time_stamps = get_initial_timestamp(ts):Hour(1):get_initial_timestamp(ts)+Hour(335)\n",
    "    remove_time_series!(system, SingleTimeSeries, hyd, label)\n",
    "    data = TimeArray(time_stamps, vcat(ts_val, ts_val + rand(168)*0.01))\n",
    "    forecast = SingleTimeSeries(label, data;\n",
    "#         normalization_factor = Float64(maximum(data)),\n",
    "#         scaling_factor_multiplier = PSY.get_max_active_power\n",
    "        )\n",
    "    add_time_series!(system, hyd, forecast)\n",
    "end\n",
    "PSY.transform_single_time_series!(system, 168, Hour(168))\n",
    "\n",
    "new_cost= Dict(\n",
    "    \"Alta\" => ThreePartCost((0.0, 14.0), 0.0, 4.0, 2.0),\n",
    "    \"Park City\" => ThreePartCost((0.0, 15.0), 0.0, 1.5, 0.75),\n",
    "    \"Solitude\" => ThreePartCost((0.0, 30.0), 0.0, 3.0, 1.5),\n",
    "    \"Sundance\" => ThreePartCost((0.0, 40.0), 0.0, 4.0, 2.0),\n",
    "    \"Brighton\" => ThreePartCost((0.0, 10.0), 0.0, 1.5, 0.75),\n",
    "    )\n",
    "for th in get_components(ThermalStandard, system)\n",
    "    set_operation_cost!(th, new_cost[th.name])\n",
    "end"
   ]
  },
  {
   "cell_type": "code",
   "execution_count": 178,
   "id": "2219caf1",
   "metadata": {},
   "outputs": [
    {
     "name": "stderr",
     "output_type": "stream",
     "text": [
      "┌ Info: Serialized time series data to 5bus_hydro_2week_time_series_storage.h5.\n",
      "└ @ InfrastructureSystems /Users/sdalvi/.julia/packages/InfrastructureSystems/2yQRJ/src/time_series_storage.jl:65\n",
      "┌ Info: Serialized System to 5bus_hydro_2week.json\n",
      "└ @ PowerSystems /Users/sdalvi/.julia/packages/PowerSystems/tMGbo/src/base.jl:254\n"
     ]
    }
   ],
   "source": [
    "PSY.to_json(system, \"5bus_hydro_2week.json\"; force=true)"
   ]
  },
  {
   "cell_type": "code",
   "execution_count": 35,
   "id": "8fc7bf17",
   "metadata": {},
   "outputs": [
    {
     "data": {
      "text/plain": [
       "3600000 milliseconds"
      ]
     },
     "execution_count": 35,
     "metadata": {},
     "output_type": "execute_result"
    }
   ],
   "source": [
    "IS.add_time_series!(sys, component, forecast)"
   ]
  },
  {
   "cell_type": "code",
   "execution_count": 53,
   "id": "9a4c6378",
   "metadata": {},
   "outputs": [],
   "source": []
  },
  {
   "cell_type": "code",
   "execution_count": 55,
   "id": "bf6f5570",
   "metadata": {
    "tags": []
   },
   "outputs": [
    {
     "data": {
      "text/plain": [
       "Probabilistic time_series (7):\n",
       "   name: max_active_power\n",
       "   data: DataStructures.SortedDict(DateTime(\"2020-01-01T00:00:00\") => [0.1693830378615661 0.1693830378615661; 0.1553614870689571 0.1553614870689571; … ; 0.19801103804125686 0.19801103804125686; 0.18181861695641918 0.18181861695641918], DateTime(\"2020-01-02T00:00:00\") => [0.1693830378615661 0.1693830378615661; 0.1553614870689571 0.1553614870689571; … ; 0.19801103804125686 0.19801103804125686; 0.18181861695641918 0.18181861695641918], DateTime(\"2020-01-03T00:00:00\") => [0.1693830378615661 0.1693830378615661; 0.1553614870689571 0.1553614870689571; … ; 0.19801103804125686 0.19801103804125686; 0.18181861695641918 0.18181861695641918], DateTime(\"2020-01-04T00:00:00\") => [0.1693830378615661 0.1693830378615661; 0.1553614870689571 0.1553614870689571; … ; 0.19801103804125686 0.19801103804125686; 0.18181861695641918 0.18181861695641918], DateTime(\"2020-01-05T00:00:00\") => [0.1693830378615661 0.1693830378615661; 0.1553614870689571 0.1553614870689571; … ; 0.19801103804125686 0.19801103804125686; 0.18181861695641918 0.18181861695641918], DateTime(\"2020-01-06T00:00:00\") => [0.1693830378615661 0.1693830378615661; 0.1553614870689571 0.1553614870689571; … ; 0.19801103804125686 0.19801103804125686; 0.18181861695641918 0.18181861695641918], DateTime(\"2020-01-07T00:00:00\") => [0.1693830378615661 0.1693830378615661; 0.1553614870689571 0.1553614870689571; … ; 0.19801103804125686 0.19801103804125686; 0.18181861695641918 0.18181861695641918])\n",
       "   percentiles: [0.5, 0.5]\n",
       "   resolution: 3600000 milliseconds\n",
       "   scaling_factor_multiplier: get_max_active_power"
      ]
     },
     "execution_count": 55,
     "metadata": {},
     "output_type": "execute_result"
    }
   ],
   "source": []
  },
  {
   "cell_type": "code",
   "execution_count": null,
   "id": "0fe93057",
   "metadata": {},
   "outputs": [],
   "source": []
  },
  {
   "cell_type": "code",
   "execution_count": null,
   "id": "7e110fbd",
   "metadata": {},
   "outputs": [],
   "source": []
  },
  {
   "cell_type": "code",
   "execution_count": null,
   "id": "09307717",
   "metadata": {},
   "outputs": [],
   "source": []
  },
  {
   "cell_type": "code",
   "execution_count": 61,
   "id": "fe98559a",
   "metadata": {},
   "outputs": [
    {
     "data": {
      "text/plain": [
       "Dict{Any, Any} with 2 entries:\n",
       "  \"HydroDispatch1\" => 2.82843\n",
       "  \"HydroDispatch3\" => 2.82843"
      ]
     },
     "execution_count": 61,
     "metadata": {},
     "output_type": "execute_result"
    }
   ],
   "source": [
    "budget_data"
   ]
  },
  {
   "cell_type": "markdown",
   "id": "bfc749ff",
   "metadata": {},
   "source": [
    "PSY.transform_single_time_series!(system, 48, Hour(24))"
   ]
  },
  {
   "cell_type": "code",
   "execution_count": 195,
   "id": "17a1d25e",
   "metadata": {},
   "outputs": [],
   "source": [
    "budget_data = Dict()\n",
    "for h in  get_components(HydroEnergyReservoir, system)\n",
    "    name = PSY.get_name(h)\n",
    "    budget_data[name] = PSY.get_rating(h)\n",
    "end"
   ]
  },
  {
   "cell_type": "code",
   "execution_count": 62,
   "id": "901a31c3",
   "metadata": {},
   "outputs": [
    {
     "data": {
      "text/plain": [
       "\"/Users/sdalvi/Documents/GitRepos/ProgressiveHedging.jl/examples\""
      ]
     },
     "execution_count": 62,
     "metadata": {},
     "output_type": "execute_result"
    }
   ],
   "source": [
    "pwd()"
   ]
  },
  {
   "cell_type": "code",
   "execution_count": 175,
   "id": "e03fa50d",
   "metadata": {},
   "outputs": [
    {
     "name": "stderr",
     "output_type": "stream",
     "text": [
      "┌ Info: Overriding time_series_cache_size because time series is stored in memory\n",
      "└ @ PowerSimulations /Users/sdalvi/.julia/packages/PowerSimulations/0onip/src/core/settings.jl:41\n"
     ]
    },
    {
     "data": {
      "text/plain": [
       "BuildStatus.BUILT = 0"
      ]
     },
     "execution_count": 175,
     "metadata": {},
     "output_type": "execute_result"
    }
   ],
   "source": [
    "template_ed = OperationsProblemTemplate(CopperPlatePowerModel)\n",
    "set_device_model!(template_ed, ThermalStandard, ThermalDispatchNoMin)\n",
    "set_device_model!(template_ed, PowerLoad, StaticPowerLoad)\n",
    "# set_device_model!(template_ed, HydroDispatch, FixedOutput)\n",
    "# set_device_model!(template_ed, HydroEnergyReservoir, HydroDispatchRunOfRiver)\n",
    "\n",
    "problem = OperationsProblem(\n",
    "    template_ed, \n",
    "    system, \n",
    "#     optimizer = solver, \n",
    "    balance_slack_variables = true,\n",
    "    warm_start = true,\n",
    "    export_pwl_vars = true,\n",
    "        horizon =2,\n",
    "    initial_time = DateTime(\"2020-01-08T00:00:00\")\n",
    ")\n",
    "build!(problem, output_dir = \".\")"
   ]
  },
  {
   "cell_type": "code",
   "execution_count": 176,
   "id": "f6c62af3",
   "metadata": {},
   "outputs": [],
   "source": [
    "open(\"model.txt\", \"w\") do f\n",
    "    println(f, problem.internal.optimization_container.JuMPmodel)\n",
    "end"
   ]
  },
  {
   "cell_type": "code",
   "execution_count": 201,
   "id": "ffd34413",
   "metadata": {
    "scrolled": true,
    "tags": []
   },
   "outputs": [
    {
     "data": {
      "text/plain": [
       "populate_ext! (generic function with 1 method)"
      ]
     },
     "execution_count": 201,
     "metadata": {},
     "output_type": "execute_result"
    }
   ],
   "source": [
    "function build_operations_problem(\n",
    "        system::PSY.System,\n",
    "        initial_time,\n",
    "        network = CopperPlatePowerModel,\n",
    "        directory =\"./simulation_folder/\"\n",
    "    )\n",
    "    template_ed = OperationsProblemTemplate(CopperPlatePowerModel)\n",
    "    set_device_model!(template_ed, ThermalStandard, ThermalDispatchNoMin)\n",
    "    set_device_model!(template_ed, PowerLoad, StaticPowerLoad)\n",
    "    set_device_model!(template_ed, HydroDispatch, FixedOutput)\n",
    "    set_device_model!(template_ed, HydroEnergyReservoir, HydroDispatchRunOfRiver)\n",
    "\n",
    "    problem = OperationsProblem(\n",
    "        template_ed, \n",
    "        system, \n",
    "        optimizer = solver, \n",
    "        balance_slack_variables = true,\n",
    "        warm_start = true,\n",
    "        export_pwl_vars = true,\n",
    "        horizon =2,\n",
    "        initial_time = initial_time #DateTime(\"2020-01-01T00:00:00\")\n",
    "    )\n",
    "    build!(problem, output_dir = directory)\n",
    "    return problem\n",
    "end\n",
    "    \n",
    "function populate_ext!(problem::PSI.OperationsProblem, scenario_no, budget_data, total_scenarios)\n",
    "    problem.ext[\"scenario_no\"] = scenario_no\n",
    "    problem.ext[\"budget_data\"] = budget_data\n",
    "    problem.ext[\"total_scenarios\"] = total_scenarios\n",
    "    return\n",
    "end"
   ]
  },
  {
   "cell_type": "code",
   "execution_count": 202,
   "id": "e89ca26b",
   "metadata": {},
   "outputs": [
    {
     "data": {
      "text/plain": [
       "populate_PH_model! (generic function with 1 method)"
      ]
     },
     "execution_count": 202,
     "metadata": {},
     "output_type": "execute_result"
    }
   ],
   "source": [
    "function populate_PH_model!(problem::PSI.OperationsProblem)\n",
    "    no_scenarios = problem.ext[\"total_scenarios\"]\n",
    "    scenario_no = problem.ext[\"scenario_no\"]\n",
    "    budget_data = problem.ext[\"budget_data\"]\n",
    "    \n",
    "    optimization_container = PSI.get_optimization_container(problem)\n",
    "    time_steps = PSI.model_time_steps(optimization_container)\n",
    "    var_h = PSI.get_variable(optimization_container, :P__HydroEnergyReservoir)\n",
    "    \n",
    "    constraint_budget = PSI.add_cons_container!(\n",
    "        optimization_container,\n",
    "        :Hydro_Budget_HydroEnergyReservoir,\n",
    "        collect(keys(budget_data)),\n",
    "    )\n",
    "    constraint_scenarios = PSI.add_cons_container!(\n",
    "        optimization_container,\n",
    "        :PH_scenario_HydroEnergyReservoir,\n",
    "        collect(keys(budget_data)),\n",
    "    )\n",
    "    budget_var = PSI.add_var_container!(\n",
    "        optimization_container,\n",
    "        :Pb_HydroEnergyReservoir,\n",
    "        collect(keys(budget_data)),\n",
    "        1:no_scenarios,\n",
    "    )\n",
    "    jump_model = PSI.get_jump_model(optimization_container)\n",
    "    for (name, budget) in budget_data\n",
    "        for sec in 1:no_scenarios\n",
    "            budget_var[name, sec] = JuMP.@variable(\n",
    "                optimization_container.JuMPmodel,\n",
    "                base_name = \"Pb_HydroEnergyReservoir_{$(name)_{$(sec)}}\",\n",
    "            )\n",
    "        end\n",
    "        constraint_budget[name] =\n",
    "            JuMP.@constraint(jump_model, sum(var_h[name, t] for t in time_steps) <= budget_var[name, scenario_no+1])\n",
    "        constraint_scenarios[name] = \n",
    "            JuMP.@constraint(jump_model, sum(budget_var[name, sec] for sec in 1:no_scenarios ) == budget)\n",
    "        \n",
    "    end\n",
    "    return\n",
    "end   "
   ]
  },
  {
   "cell_type": "code",
   "execution_count": 203,
   "id": "de076a35",
   "metadata": {},
   "outputs": [
    {
     "data": {
      "text/plain": [
       "get_subproblem (generic function with 1 method)"
      ]
     },
     "execution_count": 203,
     "metadata": {},
     "output_type": "execute_result"
    }
   ],
   "source": [
    "function get_subproblem(problem::PSI.OperationsProblem)\n",
    "    optimization_container = PSI.get_optimization_container(problem)\n",
    "    jump_model = PSI.get_jump_model(optimization_container)\n",
    "    \n",
    "    first_stge_var =  JuMP.VariableRef[]\n",
    "    secound_stge_var = JuMP.VariableRef[]\n",
    "    for (name, cont) in PSI.get_variables(problem) \n",
    "        if name == :Pb_HydroEnergyReservoir\n",
    "            push!(first_stge_var, cont...)\n",
    "        else\n",
    "            push!(secound_stge_var, cont...)\n",
    "        end\n",
    "    end\n",
    "    variable_map = Dict{PH.StageID, Vector{JuMP.VariableRef}}(\n",
    "        [\n",
    "            PH.stid(1) => first_stge_var,\n",
    "            PH.stid(2) => secound_stge_var,\n",
    "        ])\n",
    "#     vdict[PH.stid(1)] =  first_stge_var\n",
    "#     vdict[PH.stid(2)] =  secound_stge_var\n",
    "    return jump_model, variable_map\n",
    "end\n",
    "    "
   ]
  },
  {
   "cell_type": "code",
   "execution_count": 204,
   "id": "7b930080",
   "metadata": {},
   "outputs": [
    {
     "data": {
      "text/plain": [
       "create_model (generic function with 1 method)"
      ]
     },
     "execution_count": 204,
     "metadata": {},
     "output_type": "execute_result"
    }
   ],
   "source": [
    "function create_model(\n",
    "    scenario_id::PH.ScenarioID,\n",
    "    budget_data;\n",
    "    kwargs...\n",
    ")\n",
    "    initial_time = [DateTime(\"2020-01-01T00:00:00\"), DateTime(\"2020-01-08T00:00:00\")]\n",
    "    system = PSY.System(\"5bus_hydro_2week.json\")\n",
    "    problem = build_operations_problem(\n",
    "        system,\n",
    "        initial_time[PH.value(scenario_id) + 1],\n",
    "        CopperPlatePowerModel,\n",
    "        \"./simulation_folder/\"\n",
    "    )\n",
    "    populate_ext!(problem, PH.value(scenario_id), budget_data, 2)\n",
    "    populate_PH_model!(problem)\n",
    "    jump_model, variable_map = get_subproblem(problem)\n",
    "    return JuMPSubproblem(jump_model, scenario_id, variable_map)\n",
    "end"
   ]
  },
  {
   "cell_type": "code",
   "execution_count": 205,
   "id": "42861397",
   "metadata": {},
   "outputs": [
    {
     "data": {
      "text/plain": [
       "build_scen_tree (generic function with 1 method)"
      ]
     },
     "execution_count": 205,
     "metadata": {},
     "output_type": "execute_result"
    }
   ],
   "source": [
    "function build_scen_tree()\n",
    "    probs = [0.5, 0.5]\n",
    "    tree = PH.ScenarioTree()\n",
    "    for l in 1:2\n",
    "        PH.add_leaf(tree, tree.root, probs[l])\n",
    "    end\n",
    "    return tree\n",
    "end"
   ]
  },
  {
   "cell_type": "markdown",
   "id": "01939788",
   "metadata": {},
   "source": [
    "### Extensive Form Solve"
   ]
  },
  {
   "cell_type": "code",
   "execution_count": 206,
   "id": "914b091b",
   "metadata": {
    "scrolled": true,
    "tags": []
   },
   "outputs": [
    {
     "name": "stderr",
     "output_type": "stream",
     "text": [
      "┌ Info: Deserializing with InMemoryTimeSeriesStorage is currently not supported. Using HDF\n",
      "└ @ InfrastructureSystems /Users/sdalvi/.julia/packages/InfrastructureSystems/2yQRJ/src/system_data.jl:576\n",
      "┌ Info: Loaded time series from storage file existing=5bus_hydro_2week_time_series_storage.h5 new=/var/folders/rt/vtygs7_52f55zj8d_8k_0kp93bgbsz/T/jl_mRVcze\n",
      "└ @ InfrastructureSystems /Users/sdalvi/.julia/packages/InfrastructureSystems/2yQRJ/src/hdf5_time_series_storage.jl:84\n",
      "┌ Info: Deserializing with InMemoryTimeSeriesStorage is currently not supported. Using HDF\n",
      "└ @ InfrastructureSystems /Users/sdalvi/.julia/packages/InfrastructureSystems/2yQRJ/src/system_data.jl:576\n"
     ]
    },
    {
     "name": "stdout",
     "output_type": "stream",
     "text": [
      "FICO Xpress v8.8.0, Hyper, solve started 12:33:24, May 12, 2021\n",
      "Heap usage: 106KB (peak 106KB, 4222KB system)\n",
      "Minimizing LP \n",
      "Original problem has:\n",
      "        64 rows           40 cols          140 elements\n",
      "Presolved problem has:\n",
      "         4 rows           32 cols           32 elements\n",
      "Presolve finished in 0 seconds\n",
      "Heap usage: 104KB (peak 162KB, 4224KB system)\n",
      "\n",
      "Coefficient range                    original                 solved        \n",
      "  Coefficients   [min,max] : [ 1.00e+00,  1.00e+00] / [ 1.00e+00,  1.00e+00]\n",
      "  RHS and bounds [min,max] : [ 3.16e-03,  2.00e+00] / [ 2.60e-02,  2.00e+00]\n",
      "  Objective      [min,max] : [ 7.50e+00,  5.00e+05] / [ 7.50e+00,  5.00e+05]\n",
      "\n",
      " \n",
      "   Its         Obj Value      S   Ninf  Nneg   Sum Dual Inf  Time\n",
      "     0           .000000      D      4     0        .000000     0\n",
      "     4          3.439920      D      0     0        .000000     0\n",
      "Uncrunching matrix\n",
      "Optimal solution found\n",
      "Dual solved problem\n",
      "  4 simplex iterations in 0s\n",
      "\n",
      "Final objective                       : 3.439920274199271e+00\n",
      "  Max primal violation      (abs/rel) :       0.0 /       0.0\n",
      "  Max dual violation        (abs/rel) :       0.0 /       0.0\n",
      "  Max complementarity viol. (abs/rel) :       0.0 /       0.0\n",
      "All values within tolerances\n",
      "  0.635895 seconds (676.05 k allocations: 43.074 MiB, 26.96% gc time, 73.23% compilation time)\n"
     ]
    },
    {
     "name": "stderr",
     "output_type": "stream",
     "text": [
      "┌ Info: Loaded time series from storage file existing=5bus_hydro_2week_time_series_storage.h5 new=/var/folders/rt/vtygs7_52f55zj8d_8k_0kp93bgbsz/T/jl_O2IJAo\n",
      "└ @ InfrastructureSystems /Users/sdalvi/.julia/packages/InfrastructureSystems/2yQRJ/src/hdf5_time_series_storage.jl:84\n"
     ]
    }
   ],
   "source": [
    "ef_model = @time PH.solve_extensive(PH.two_stage_tree(2),\n",
    "    create_model, \n",
    "    ()->Xpress.Optimizer(),\n",
    "    budget_data,\n",
    ")\n",
    "# println(ef_model);"
   ]
  },
  {
   "cell_type": "code",
   "execution_count": 207,
   "id": "6aacaa60",
   "metadata": {},
   "outputs": [],
   "source": [
    "open(\"model.txt\", \"w\") do f\n",
    "    println(f, ef_model)\n",
    "end"
   ]
  },
  {
   "cell_type": "code",
   "execution_count": 208,
   "id": "2aaac87c",
   "metadata": {
    "scrolled": true,
    "tags": []
   },
   "outputs": [
    {
     "name": "stdout",
     "output_type": "stream",
     "text": [
      "OPTIMAL\n",
      "3.439920274199271\n",
      "P__ThermalStandard_{Solitude, 1}_{0} = 0.0\n",
      "P__ThermalStandard_{Park City, 1}_{0} = 0.0\n",
      "P__ThermalStandard_{Alta, 1}_{0} = 0.0\n",
      "P__ThermalStandard_{Brighton, 1}_{0} = 0.0\n",
      "P__ThermalStandard_{Sundance, 1}_{0} = 0.0\n",
      "P__ThermalStandard_{Solitude, 2}_{0} = 0.0\n",
      "P__ThermalStandard_{Park City, 2}_{0} = 0.0\n",
      "P__ThermalStandard_{Alta, 2}_{0} = 0.0\n",
      "P__ThermalStandard_{Brighton, 2}_{0} = 0.0\n",
      "P__ThermalStandard_{Sundance, 2}_{0} = 0.0\n",
      "P__HydroEnergyReservoir_{HydroDispatch1, 1}_{0} = 0.0\n",
      "P__HydroEnergyReservoir_{HydroDispatch3, 1}_{0} = 0.10182419419756578\n",
      "P__HydroEnergyReservoir_{HydroDispatch1, 2}_{0} = 0.0\n",
      "P__HydroEnergyReservoir_{HydroDispatch3, 2}_{0} = 0.0933111098002867\n",
      "γ⁺__P_{1, 1}_{0} = 0.0\n",
      "γ⁺__P_{1, 2}_{0} = 0.0\n",
      "γ⁻__P_{1, 1}_{0} = 0.0\n",
      "γ⁻__P_{1, 2}_{0} = 0.0\n",
      "Pb_HydroEnergyReservoir_{HydroDispatch1_{1}}_{0,1} = 0.0\n",
      "Pb_HydroEnergyReservoir_{HydroDispatch3_{1}}_{0,1} = 0.1951353039978525\n",
      "Pb_HydroEnergyReservoir_{HydroDispatch1_{2}}_{0,1} = 1.4142135623730951\n",
      "Pb_HydroEnergyReservoir_{HydroDispatch3_{2}}_{0,1} = 1.2190782583752426\n",
      "P__ThermalStandard_{Solitude, 1}_{1} = 0.0\n",
      "P__ThermalStandard_{Park City, 1}_{1} = 0.0\n",
      "P__ThermalStandard_{Alta, 1}_{1} = 0.0\n",
      "P__ThermalStandard_{Brighton, 1}_{1} = 0.0\n",
      "P__ThermalStandard_{Sundance, 1}_{1} = 0.0\n",
      "P__ThermalStandard_{Solitude, 2}_{1} = 0.0\n",
      "P__ThermalStandard_{Park City, 2}_{1} = 0.0\n",
      "P__ThermalStandard_{Alta, 2}_{1} = 0.0\n",
      "P__ThermalStandard_{Brighton, 2}_{1} = 0.0\n",
      "P__ThermalStandard_{Sundance, 2}_{1} = 0.0\n",
      "P__HydroEnergyReservoir_{HydroDispatch1, 1}_{1} = 0.0\n",
      "P__HydroEnergyReservoir_{HydroDispatch3, 1}_{1} = 0.14156017119171144\n",
      "P__HydroEnergyReservoir_{HydroDispatch1, 2}_{1} = 0.0\n",
      "P__HydroEnergyReservoir_{HydroDispatch3, 2}_{1} = 0.12196056137033892\n",
      "γ⁺__P_{1, 1}_{1} = 0.0\n",
      "γ⁺__P_{1, 2}_{1} = 0.0\n",
      "γ⁻__P_{1, 1}_{1} = 0.0\n",
      "γ⁻__P_{1, 2}_{1} = 0.0\n"
     ]
    }
   ],
   "source": [
    "println(JuMP.termination_status(ef_model))\n",
    "println(JuMP.objective_value(ef_model))\n",
    "for var in JuMP.all_variables(ef_model)\n",
    "    println(\"$var = $(JuMP.value(var))\")\n",
    "end"
   ]
  },
  {
   "cell_type": "code",
   "execution_count": 209,
   "id": "3ba6a4c7",
   "metadata": {
    "scrolled": true,
    "tags": []
   },
   "outputs": [
    {
     "name": "stdout",
     "output_type": "stream",
     "text": [
      "Initializing...\n",
      "...launching workers...\n",
      "...initializing subproblems...\n"
     ]
    },
    {
     "name": "stderr",
     "output_type": "stream",
     "text": [
      "┌ Info: Deserializing with InMemoryTimeSeriesStorage is currently not supported. Using HDF\n",
      "└ @ InfrastructureSystems /Users/sdalvi/.julia/packages/InfrastructureSystems/2yQRJ/src/system_data.jl:576\n",
      "┌ Info: Loaded time series from storage file existing=5bus_hydro_2week_time_series_storage.h5 new=/var/folders/rt/vtygs7_52f55zj8d_8k_0kp93bgbsz/T/jl_tjw3sL\n",
      "└ @ InfrastructureSystems /Users/sdalvi/.julia/packages/InfrastructureSystems/2yQRJ/src/hdf5_time_series_storage.jl:84\n",
      "┌ Info: Deserializing with InMemoryTimeSeriesStorage is currently not supported. Using HDF\n",
      "└ @ InfrastructureSystems /Users/sdalvi/.julia/packages/InfrastructureSystems/2yQRJ/src/system_data.jl:576\n",
      "┌ Info: Loaded time series from storage file existing=5bus_hydro_2week_time_series_storage.h5 new=/var/folders/rt/vtygs7_52f55zj8d_8k_0kp93bgbsz/T/jl_G6iexW\n",
      "└ @ InfrastructureSystems /Users/sdalvi/.julia/packages/InfrastructureSystems/2yQRJ/src/hdf5_time_series_storage.jl:84\n"
     ]
    },
    {
     "name": "stdout",
     "output_type": "stream",
     "text": [
      "Solving...\n",
      "Iter:    0   AbsR: 9.299037e-01   RelR: 1.254424e+00   Xhat: 7.075200e-01   X: 6.034370e-01\n",
      "Iter:   10   AbsR: 2.386930e-08   RelR: 3.219928e-08   Xhat: 2.386930e-08   X: 1.091327e-14\n",
      "Iter:   20   AbsR: 2.386919e-08   RelR: 3.219915e-08   Xhat: 2.386919e-08   X: 1.075542e-14\n",
      "Iter:   30   AbsR: 2.386908e-08   RelR: 3.219902e-08   Xhat: 2.386908e-08   X: 1.075542e-14\n",
      "Iter:   40   AbsR: 2.386897e-08   RelR: 3.219888e-08   Xhat: 2.386897e-08   X: 1.087480e-14\n",
      "Iter:   50   AbsR: 2.386887e-08   RelR: 3.219875e-08   Xhat: 2.386887e-08   X: 1.091242e-14\n",
      "Iter:   60   AbsR: 2.386876e-08   RelR: 3.219862e-08   Xhat: 2.386876e-08   X: 1.067663e-14\n",
      "Iter:   70   AbsR: 2.386865e-08   RelR: 3.219849e-08   Xhat: 2.386865e-08   X: 1.063745e-14\n",
      "Iter:   80   AbsR: 2.386854e-08   RelR: 3.219836e-08   Xhat: 2.386854e-08   X: 1.075542e-14\n",
      "Iter:   90   AbsR: 2.386843e-08   RelR: 3.219823e-08   Xhat: 2.386843e-08   X: 1.091242e-14\n",
      "Iter:  100   AbsR: 2.386833e-08   RelR: 3.219810e-08   Xhat: 2.386833e-08   X: 1.071610e-14\n",
      "Iter:  110   AbsR: 2.386822e-08   RelR: 3.219797e-08   Xhat: 2.386822e-08   X: 1.079460e-14\n",
      "Iter:  120   AbsR: 2.386811e-08   RelR: 3.219784e-08   Xhat: 2.386811e-08   X: 1.087296e-14\n",
      "Iter:  130   AbsR: 2.386800e-08   RelR: 3.219770e-08   Xhat: 2.386800e-08   X: 1.079560e-14\n",
      "Iter:  140   AbsR: 2.386789e-08   RelR: 3.219757e-08   Xhat: 2.386789e-08   X: 1.079474e-14\n",
      "Iter:  150   AbsR: 2.386779e-08   RelR: 3.219744e-08   Xhat: 2.386779e-08   X: 1.079460e-14\n",
      "Iter:  160   AbsR: 2.386768e-08   RelR: 3.219731e-08   Xhat: 2.386768e-08   X: 1.083478e-14\n",
      "Iter:  170   AbsR: 2.386757e-08   RelR: 3.219718e-08   Xhat: 2.386757e-08   X: 1.087310e-14\n",
      "Iter:  180   AbsR: 2.386746e-08   RelR: 3.219705e-08   Xhat: 2.386746e-08   X: 1.071667e-14\n",
      "Iter:  190   AbsR: 2.386735e-08   RelR: 3.219692e-08   Xhat: 2.386735e-08   X: 1.083378e-14\n",
      "Iter:  200   AbsR: 2.386725e-08   RelR: 3.219679e-08   Xhat: 2.386725e-08   X: 1.075542e-14\n",
      "Iter:  210   AbsR: 2.386714e-08   RelR: 3.219666e-08   Xhat: 2.386714e-08   X: 1.075542e-14\n",
      "Iter:  220   AbsR: 2.386703e-08   RelR: 3.219653e-08   Xhat: 2.386703e-08   X: 1.083392e-14\n",
      "Iter:  230   AbsR: 2.386692e-08   RelR: 3.219639e-08   Xhat: 2.386692e-08   X: 1.067735e-14\n",
      "Iter:  240   AbsR: 2.386681e-08   RelR: 3.219626e-08   Xhat: 2.386681e-08   X: 1.079517e-14\n",
      "Iter:  250   AbsR: 2.386671e-08   RelR: 3.219613e-08   Xhat: 2.386671e-08   X: 1.087310e-14\n",
      "Iter:  260   AbsR: 2.386660e-08   RelR: 3.219600e-08   Xhat: 2.386660e-08   X: 1.071667e-14\n",
      "Iter:  270   AbsR: 2.386649e-08   RelR: 3.219587e-08   Xhat: 2.386649e-08   X: 1.087324e-14\n",
      "Iter:  280   AbsR: 2.386638e-08   RelR: 3.219574e-08   Xhat: 2.386638e-08   X: 1.079446e-14\n",
      "Iter:  290   AbsR: 2.386628e-08   RelR: 3.219561e-08   Xhat: 2.386628e-08   X: 1.079474e-14\n",
      "Iter:  300   AbsR: 2.386617e-08   RelR: 3.219548e-08   Xhat: 2.386617e-08   X: 1.087324e-14\n",
      "Iter:  310   AbsR: 2.386606e-08   RelR: 3.219535e-08   Xhat: 2.386606e-08   X: 1.075528e-14\n",
      "Iter:  320   AbsR: 2.386595e-08   RelR: 3.219521e-08   Xhat: 2.386595e-08   X: 1.095175e-14\n",
      "Iter:  330   AbsR: 2.386584e-08   RelR: 3.219508e-08   Xhat: 2.386584e-08   X: 1.083435e-14\n",
      "Iter:  340   AbsR: 2.386574e-08   RelR: 3.219495e-08   Xhat: 2.386574e-08   X: 1.075628e-14\n",
      "Iter:  350   AbsR: 2.386563e-08   RelR: 3.219482e-08   Xhat: 2.386563e-08   X: 1.071624e-14\n",
      "Iter:  360   AbsR: 2.386552e-08   RelR: 3.219469e-08   Xhat: 2.386552e-08   X: 1.079460e-14\n",
      "Iter:  370   AbsR: 2.386541e-08   RelR: 3.219456e-08   Xhat: 2.386541e-08   X: 1.087324e-14\n",
      "Iter:  380   AbsR: 2.386530e-08   RelR: 3.219443e-08   Xhat: 2.386530e-08   X: 1.083392e-14\n",
      "Iter:  390   AbsR: 2.386520e-08   RelR: 3.219430e-08   Xhat: 2.386520e-08   X: 1.075542e-14\n",
      "Iter:  400   AbsR: 2.386509e-08   RelR: 3.219417e-08   Xhat: 2.386509e-08   X: 1.079474e-14\n",
      "Iter:  410   AbsR: 2.386498e-08   RelR: 3.219403e-08   Xhat: 2.386498e-08   X: 1.075542e-14\n",
      "Iter:  420   AbsR: 2.386487e-08   RelR: 3.219390e-08   Xhat: 2.386487e-08   X: 1.075542e-14\n",
      "Iter:  430   AbsR: 2.386476e-08   RelR: 3.219377e-08   Xhat: 2.386476e-08   X: 1.087296e-14\n",
      "Iter:  440   AbsR: 2.386466e-08   RelR: 3.219364e-08   Xhat: 2.386466e-08   X: 1.071595e-14\n",
      "Iter:  450   AbsR: 2.386455e-08   RelR: 3.219351e-08   Xhat: 2.386455e-08   X: 1.083478e-14\n",
      "Iter:  460   AbsR: 2.386444e-08   RelR: 3.219338e-08   Xhat: 2.386444e-08   X: 1.087367e-14\n",
      "Iter:  470   AbsR: 2.386433e-08   RelR: 3.219325e-08   Xhat: 2.386433e-08   X: 1.067778e-14\n",
      "Iter:  480   AbsR: 2.386422e-08   RelR: 3.219312e-08   Xhat: 2.386422e-08   X: 1.075585e-14\n",
      "Iter:  490   AbsR: 2.386412e-08   RelR: 3.219299e-08   Xhat: 2.386412e-08   X: 1.079517e-14\n",
      "Iter:  500   AbsR: 2.386401e-08   RelR: 3.219286e-08   Xhat: 2.386401e-08   X: 1.079560e-14\n",
      "Done.\n"
     ]
    },
    {
     "name": "stderr",
     "output_type": "stream",
     "text": [
      "┌ Warning: Performed 500 iterations without convergence. Consider increasing max_iter from 500.\n",
      "└ @ ProgressiveHedging /Users/sdalvi/.julia/packages/ProgressiveHedging/CyAni/src/algorithm.jl:374\n"
     ]
    },
    {
     "name": "stdout",
     "output_type": "stream",
     "text": [
      "\u001b[0m\u001b[1m ──────────────────────────────────────────────────────────────────────────────\u001b[22m\n",
      "\u001b[0m\u001b[1m                               \u001b[22m        Time                   Allocations      \n",
      "                               ──────────────────────   ───────────────────────\n",
      "       Tot / % measured:            5.84s / 97.9%            401MiB / 96.3%    \n",
      "\n",
      " Section               ncalls     time   %tot     avg     alloc   %tot      avg\n",
      " ──────────────────────────────────────────────────────────────────────────────\n",
      " Solution                   1    4.10s  71.8%   4.10s    246MiB  63.7%   246MiB\n",
      "   Solve subproblems      500    2.91s  50.8%  5.81ms   42.7MiB  11.1%  87.5KiB\n",
      "     Issuing solve ...    500    2.90s  50.7%  5.80ms   42.5MiB  11.0%  87.0KiB\n",
      "     Collecting res...    500   5.18ms  0.09%  10.4μs    234KiB  0.06%     480B\n",
      "     Other                500    658μs  0.01%  1.32μs     0.00B  0.00%    0.00B\n",
      "   Finishing                1    199ms  3.49%   199ms   12.0MiB  3.10%  12.0MiB\n",
      "   Update PH Vars         500   5.26ms  0.09%  10.5μs    562KiB  0.14%  1.12KiB\n",
      "   User Callbacks         501    974μs  0.02%  1.94μs     0.00B  0.00%    0.00B\n",
      " Intialization              1    1.61s  28.2%   1.61s    140MiB  36.3%   140MiB\n",
      "   Initialize Subpr...      1    1.23s  21.4%   1.23s    111MiB  28.9%   111MiB\n",
      "   Penalty Parameter        1    382ms  6.69%   382ms   28.3MiB  7.34%  28.3MiB\n",
      "   Initial Values           1   5.30ms  0.09%  5.30ms   12.8KiB  0.00%  12.8KiB\n",
      "   Launch Workers           1    129μs  0.00%   129μs   6.55KiB  0.00%  6.55KiB\n",
      "   Other                    1   49.2μs  0.00%  49.2μs   42.1KiB  0.01%  42.1KiB\n",
      "\u001b[0m\u001b[1m ──────────────────────────────────────────────────────────────────────────────\u001b[22m\n",
      "Number of iterations: 500\n",
      "L^2 error: 2.386400785331453e-8\n",
      "3.4399213905889505\n"
     ]
    }
   ],
   "source": [
    "st = PH.two_stage_tree(2)\n",
    "(n, err, rerr, obj, soln, phd) = PH.solve(st,\n",
    "                                          create_model,\n",
    "                                          PH.ScalarPenaltyParameter(25.0), budget_data,\n",
    "                                          atol=1e-8, rtol=1e-12, max_iter=500,\n",
    "                                          report=10, # print residual info every 10 iterations\n",
    "                                          )\n",
    "println(\"Number of iterations: \", n)\n",
    "println(\"L^2 error: \", err)\n",
    "println(obj)"
   ]
  },
  {
   "cell_type": "code",
   "execution_count": 210,
   "id": "92203753",
   "metadata": {},
   "outputs": [
    {
     "name": "stdout",
     "output_type": "stream",
     "text": [
      "Augmented Objective: 3.4399213905889523\n",
      "Difference: 1.7763568394002505e-15\n"
     ]
    }
   ],
   "source": [
    "aobj = PH.retrieve_aug_obj_value(phd)\n",
    "println(\"Augmented Objective: \", aobj)\n",
    "println(\"Difference: \", aobj - obj)"
   ]
  },
  {
   "cell_type": "code",
   "execution_count": 211,
   "id": "686720aa",
   "metadata": {
    "scrolled": true,
    "tags": []
   },
   "outputs": [
    {
     "data": {
      "text/html": [
       "<table class=\"data-frame\"><thead><tr><th></th><th>variable</th><th>value</th><th>stage</th><th>scenarios</th></tr><tr><th></th><th>String</th><th>Float64</th><th>Int64</th><th>String</th></tr></thead><tbody><p>40 rows × 4 columns</p><tr><th>1</th><td>Pb_HydroEnergyReservoir_{HydroDispatch1_{1}}</td><td>0.707108</td><td>1</td><td>0,1</td></tr><tr><th>2</th><td>Pb_HydroEnergyReservoir_{HydroDispatch1_{2}}</td><td>0.707105</td><td>1</td><td>0,1</td></tr><tr><th>3</th><td>Pb_HydroEnergyReservoir_{HydroDispatch3_{1}}</td><td>0.672931</td><td>1</td><td>0,1</td></tr><tr><th>4</th><td>Pb_HydroEnergyReservoir_{HydroDispatch3_{2}}</td><td>0.741283</td><td>1</td><td>0,1</td></tr><tr><th>5</th><td>P__ThermalStandard_{Park City, 2}</td><td>9.52795e-11</td><td>2</td><td>0</td></tr><tr><th>6</th><td>P__HydroEnergyReservoir_{HydroDispatch3, 1}</td><td>0.100985</td><td>2</td><td>0</td></tr><tr><th>7</th><td>P__ThermalStandard_{Sundance, 1}</td><td>1.4855e-11</td><td>2</td><td>0</td></tr><tr><th>8</th><td>P__ThermalStandard_{Alta, 2}</td><td>1.87179e-10</td><td>2</td><td>0</td></tr><tr><th>9</th><td>γ⁺__P_{1, 2}</td><td>1.54142e-13</td><td>2</td><td>0</td></tr><tr><th>10</th><td>γ⁺__P_{1, 1}</td><td>1.52857e-13</td><td>2</td><td>0</td></tr><tr><th>11</th><td>γ⁻__P_{1, 1}</td><td>1.55857e-13</td><td>2</td><td>0</td></tr><tr><th>12</th><td>P__ThermalStandard_{Solitude, 2}</td><td>5.0525e-11</td><td>2</td><td>0</td></tr><tr><th>13</th><td>P__ThermalStandard_{Brighton, 2}</td><td>2.89796e-10</td><td>2</td><td>0</td></tr><tr><th>14</th><td>P__ThermalStandard_{Solitude, 1}</td><td>3.60296e-11</td><td>2</td><td>0</td></tr><tr><th>15</th><td>P__HydroEnergyReservoir_{HydroDispatch1, 1}</td><td>0.000839037</td><td>2</td><td>0</td></tr><tr><th>16</th><td>P__ThermalStandard_{Alta, 1}</td><td>9.76967e-11</td><td>2</td><td>0</td></tr><tr><th>17</th><td>γ⁻__P_{1, 2}</td><td>1.55141e-13</td><td>2</td><td>0</td></tr><tr><th>18</th><td>P__ThermalStandard_{Park City, 1}</td><td>4.25505e-11</td><td>2</td><td>0</td></tr><tr><th>19</th><td>P__HydroEnergyReservoir_{HydroDispatch1, 2}</td><td>0.000742824</td><td>2</td><td>0</td></tr><tr><th>20</th><td>P__HydroEnergyReservoir_{HydroDispatch3, 2}</td><td>0.0925683</td><td>2</td><td>0</td></tr><tr><th>21</th><td>P__ThermalStandard_{Sundance, 2}</td><td>3.56319e-11</td><td>2</td><td>0</td></tr><tr><th>22</th><td>P__ThermalStandard_{Brighton, 1}</td><td>2.59721e-10</td><td>2</td><td>0</td></tr><tr><th>23</th><td>P__ThermalStandard_{Park City, 1}</td><td>6.33375e-13</td><td>2</td><td>1</td></tr><tr><th>24</th><td>P__ThermalStandard_{Alta, 1}</td><td>1.34982e-12</td><td>2</td><td>1</td></tr><tr><th>25</th><td>P__ThermalStandard_{Sundance, 1}</td><td>1.62296e-13</td><td>2</td><td>1</td></tr><tr><th>26</th><td>γ⁺__P_{1, 2}</td><td>9.30029e-16</td><td>2</td><td>1</td></tr><tr><th>27</th><td>P__ThermalStandard_{Sundance, 2}</td><td>1.83918e-13</td><td>2</td><td>1</td></tr><tr><th>28</th><td>P__HydroEnergyReservoir_{HydroDispatch1, 1}</td><td>0.00119644</td><td>2</td><td>1</td></tr><tr><th>29</th><td>P__HydroEnergyReservoir_{HydroDispatch1, 2}</td><td>0.000839639</td><td>2</td><td>1</td></tr><tr><th>30</th><td>P__ThermalStandard_{Alta, 2}</td><td>6.78093e-13</td><td>2</td><td>1</td></tr><tr><th>&vellip;</th><td>&vellip;</td><td>&vellip;</td><td>&vellip;</td><td>&vellip;</td></tr></tbody></table>"
      ],
      "text/latex": [
       "\\begin{tabular}{r|cccc}\n",
       "\t& variable & value & stage & scenarios\\\\\n",
       "\t\\hline\n",
       "\t& String & Float64 & Int64 & String\\\\\n",
       "\t\\hline\n",
       "\t1 & Pb\\_HydroEnergyReservoir\\_\\{HydroDispatch1\\_\\{1\\}\\} & 0.707108 & 1 & 0,1 \\\\\n",
       "\t2 & Pb\\_HydroEnergyReservoir\\_\\{HydroDispatch1\\_\\{2\\}\\} & 0.707105 & 1 & 0,1 \\\\\n",
       "\t3 & Pb\\_HydroEnergyReservoir\\_\\{HydroDispatch3\\_\\{1\\}\\} & 0.672931 & 1 & 0,1 \\\\\n",
       "\t4 & Pb\\_HydroEnergyReservoir\\_\\{HydroDispatch3\\_\\{2\\}\\} & 0.741283 & 1 & 0,1 \\\\\n",
       "\t5 & P\\_\\_ThermalStandard\\_\\{Park City, 2\\} & 9.52795e-11 & 2 & 0 \\\\\n",
       "\t6 & P\\_\\_HydroEnergyReservoir\\_\\{HydroDispatch3, 1\\} & 0.100985 & 2 & 0 \\\\\n",
       "\t7 & P\\_\\_ThermalStandard\\_\\{Sundance, 1\\} & 1.4855e-11 & 2 & 0 \\\\\n",
       "\t8 & P\\_\\_ThermalStandard\\_\\{Alta, 2\\} & 1.87179e-10 & 2 & 0 \\\\\n",
       "\t9 & γ⁺\\_\\_P\\_\\{1, 2\\} & 1.54142e-13 & 2 & 0 \\\\\n",
       "\t10 & γ⁺\\_\\_P\\_\\{1, 1\\} & 1.52857e-13 & 2 & 0 \\\\\n",
       "\t11 & γ⁻\\_\\_P\\_\\{1, 1\\} & 1.55857e-13 & 2 & 0 \\\\\n",
       "\t12 & P\\_\\_ThermalStandard\\_\\{Solitude, 2\\} & 5.0525e-11 & 2 & 0 \\\\\n",
       "\t13 & P\\_\\_ThermalStandard\\_\\{Brighton, 2\\} & 2.89796e-10 & 2 & 0 \\\\\n",
       "\t14 & P\\_\\_ThermalStandard\\_\\{Solitude, 1\\} & 3.60296e-11 & 2 & 0 \\\\\n",
       "\t15 & P\\_\\_HydroEnergyReservoir\\_\\{HydroDispatch1, 1\\} & 0.000839037 & 2 & 0 \\\\\n",
       "\t16 & P\\_\\_ThermalStandard\\_\\{Alta, 1\\} & 9.76967e-11 & 2 & 0 \\\\\n",
       "\t17 & γ⁻\\_\\_P\\_\\{1, 2\\} & 1.55141e-13 & 2 & 0 \\\\\n",
       "\t18 & P\\_\\_ThermalStandard\\_\\{Park City, 1\\} & 4.25505e-11 & 2 & 0 \\\\\n",
       "\t19 & P\\_\\_HydroEnergyReservoir\\_\\{HydroDispatch1, 2\\} & 0.000742824 & 2 & 0 \\\\\n",
       "\t20 & P\\_\\_HydroEnergyReservoir\\_\\{HydroDispatch3, 2\\} & 0.0925683 & 2 & 0 \\\\\n",
       "\t21 & P\\_\\_ThermalStandard\\_\\{Sundance, 2\\} & 3.56319e-11 & 2 & 0 \\\\\n",
       "\t22 & P\\_\\_ThermalStandard\\_\\{Brighton, 1\\} & 2.59721e-10 & 2 & 0 \\\\\n",
       "\t23 & P\\_\\_ThermalStandard\\_\\{Park City, 1\\} & 6.33375e-13 & 2 & 1 \\\\\n",
       "\t24 & P\\_\\_ThermalStandard\\_\\{Alta, 1\\} & 1.34982e-12 & 2 & 1 \\\\\n",
       "\t25 & P\\_\\_ThermalStandard\\_\\{Sundance, 1\\} & 1.62296e-13 & 2 & 1 \\\\\n",
       "\t26 & γ⁺\\_\\_P\\_\\{1, 2\\} & 9.30029e-16 & 2 & 1 \\\\\n",
       "\t27 & P\\_\\_ThermalStandard\\_\\{Sundance, 2\\} & 1.83918e-13 & 2 & 1 \\\\\n",
       "\t28 & P\\_\\_HydroEnergyReservoir\\_\\{HydroDispatch1, 1\\} & 0.00119644 & 2 & 1 \\\\\n",
       "\t29 & P\\_\\_HydroEnergyReservoir\\_\\{HydroDispatch1, 2\\} & 0.000839639 & 2 & 1 \\\\\n",
       "\t30 & P\\_\\_ThermalStandard\\_\\{Alta, 2\\} & 6.78093e-13 & 2 & 1 \\\\\n",
       "\t$\\dots$ & $\\dots$ & $\\dots$ & $\\dots$ & $\\dots$ \\\\\n",
       "\\end{tabular}\n"
      ],
      "text/plain": [
       "\u001b[1m40×4 DataFrame\u001b[0m\n",
       "\u001b[1m Row \u001b[0m│\u001b[1m variable                          \u001b[0m\u001b[1m value       \u001b[0m\u001b[1m stage \u001b[0m\u001b[1m scenarios \u001b[0m\n",
       "\u001b[1m     \u001b[0m│\u001b[90m String                            \u001b[0m\u001b[90m Float64     \u001b[0m\u001b[90m Int64 \u001b[0m\u001b[90m String    \u001b[0m\n",
       "─────┼──────────────────────────────────────────────────────────────────\n",
       "   1 │ Pb_HydroEnergyReservoir_{HydroDi…  0.707108         1  0,1\n",
       "   2 │ Pb_HydroEnergyReservoir_{HydroDi…  0.707105         1  0,1\n",
       "   3 │ Pb_HydroEnergyReservoir_{HydroDi…  0.672931         1  0,1\n",
       "   4 │ Pb_HydroEnergyReservoir_{HydroDi…  0.741283         1  0,1\n",
       "   5 │ P__ThermalStandard_{Park City, 2}  9.52795e-11      2  0\n",
       "   6 │ P__HydroEnergyReservoir_{HydroDi…  0.100985         2  0\n",
       "   7 │ P__ThermalStandard_{Sundance, 1}   1.4855e-11       2  0\n",
       "   8 │ P__ThermalStandard_{Alta, 2}       1.87179e-10      2  0\n",
       "   9 │ γ⁺__P_{1, 2}                       1.54142e-13      2  0\n",
       "  10 │ γ⁺__P_{1, 1}                       1.52857e-13      2  0\n",
       "  11 │ γ⁻__P_{1, 1}                       1.55857e-13      2  0\n",
       "  ⋮  │                 ⋮                       ⋮         ⋮        ⋮\n",
       "  31 │ P__ThermalStandard_{Solitude, 2}   2.32731e-13      2  1\n",
       "  32 │ P__ThermalStandard_{Solitude, 1}   2.16415e-13      2  1\n",
       "  33 │ γ⁻__P_{1, 1}                       8.36776e-16      2  1\n",
       "  34 │ P__ThermalStandard_{Brighton, 1}   3.68278e-12      2  1\n",
       "  35 │ γ⁻__P_{1, 2}                       8.32304e-16      2  1\n",
       "  36 │ P__HydroEnergyReservoir_{HydroDi…  0.121121         2  1\n",
       "  37 │ P__ThermalStandard_{Park City, 2}  3.9171e-13       2  1\n",
       "  38 │ P__ThermalStandard_{Brighton, 2}   5.23679e-13      2  1\n",
       "  39 │ P__HydroEnergyReservoir_{HydroDi…  0.140364         2  1\n",
       "  40 │ γ⁺__P_{1, 1}                       9.28257e-16      2  1\n",
       "\u001b[36m                                                         19 rows omitted\u001b[0m"
      ]
     },
     "execution_count": 211,
     "metadata": {},
     "output_type": "execute_result"
    }
   ],
   "source": [
    "soln"
   ]
  },
  {
   "cell_type": "code",
   "execution_count": null,
   "id": "0f6ba0bb",
   "metadata": {},
   "outputs": [],
   "source": []
  },
  {
   "cell_type": "code",
   "execution_count": null,
   "id": "9d5617c5",
   "metadata": {},
   "outputs": [],
   "source": []
  },
  {
   "cell_type": "code",
   "execution_count": null,
   "id": "5cc2e4a0",
   "metadata": {},
   "outputs": [],
   "source": []
  },
  {
   "cell_type": "code",
   "execution_count": 70,
   "id": "861ff0ce",
   "metadata": {
    "scrolled": true,
    "tags": []
   },
   "outputs": [
    {
     "name": "stderr",
     "output_type": "stream",
     "text": [
      "┌ Info: Overriding time_series_cache_size because time series is stored in memory\n",
      "└ @ PowerSimulations /Users/sdalvi/.julia/packages/PowerSimulations/0onip/src/core/settings.jl:41\n"
     ]
    }
   ],
   "source": [
    "problem = build_operations_problem(\n",
    "    system,\n",
    "    DateTime(\"2020-01-01T00:00:00\"),\n",
    "    CopperPlatePowerModel,\n",
    "    \"./simulation_folder/\"\n",
    ");"
   ]
  },
  {
   "cell_type": "code",
   "execution_count": 71,
   "id": "d26b692b",
   "metadata": {},
   "outputs": [
    {
     "data": {
      "text/plain": [
       "Dict{Symbol, AbstractArray} with 5 entries:\n",
       "  :γ⁻__P                   => 2-dimensional DenseAxisArray{VariableRef,2,...} w…\n",
       "  :P__ThermalStandard      => 2-dimensional DenseAxisArray{VariableRef,2,...} w…\n",
       "  :P__HydroEnergyReservoir => 2-dimensional DenseAxisArray{VariableRef,2,...} w…\n",
       "  :PWL_cost_vars           =>   [Park City, 2, 1]  =  {P__ThermalStandard_{Park…\n",
       "  :γ⁺__P                   => 2-dimensional DenseAxisArray{VariableRef,2,...} w…"
      ]
     },
     "execution_count": 71,
     "metadata": {},
     "output_type": "execute_result"
    }
   ],
   "source": [
    "v = problem.internal.optimization_container.variables"
   ]
  },
  {
   "cell_type": "code",
   "execution_count": 72,
   "id": "1ed2a27a",
   "metadata": {},
   "outputs": [
    {
     "data": {
      "text/plain": [
       "Dict{Symbol, AbstractArray} with 5 entries:\n",
       "  :γ⁻__P                   => 2-dimensional DenseAxisArray{VariableRef,2,...} w…\n",
       "  :P__ThermalStandard      => 2-dimensional DenseAxisArray{VariableRef,2,...} w…\n",
       "  :P__HydroEnergyReservoir => 2-dimensional DenseAxisArray{VariableRef,2,...} w…\n",
       "  :PWL_cost_vars           =>   [Park City, 2, 1]  =  {P__ThermalStandard_{Park…\n",
       "  :γ⁺__P                   => 2-dimensional DenseAxisArray{VariableRef,2,...} w…"
      ]
     },
     "execution_count": 72,
     "metadata": {},
     "output_type": "execute_result"
    }
   ],
   "source": [
    "get_variables(problem)"
   ]
  },
  {
   "cell_type": "code",
   "execution_count": 73,
   "id": "dcc8bb1c",
   "metadata": {},
   "outputs": [],
   "source": [
    "populate_ext!(problem, 1, budget_data, 2)"
   ]
  },
  {
   "cell_type": "code",
   "execution_count": 74,
   "id": "af5f5b15",
   "metadata": {},
   "outputs": [],
   "source": [
    "populate_PH_model!(problem)"
   ]
  },
  {
   "cell_type": "code",
   "execution_count": 75,
   "id": "5c55a712",
   "metadata": {},
   "outputs": [],
   "source": [
    "jump_model, variable_map = get_subproblem(problem);"
   ]
  },
  {
   "cell_type": "code",
   "execution_count": 76,
   "id": "1202a5d5",
   "metadata": {},
   "outputs": [
    {
     "data": {
      "text/plain": [
       "Dict{StageID, Vector{VariableRef}} with 2 entries:\n",
       "  StageID(1) => [Pb_HydroEnergyReservoir_{HydroDispatch1_{1}}, Pb_HydroEnergyRe…\n",
       "  StageID(2) => [γ⁻__P_{1, 1}, γ⁻__P_{1, 2}, P__ThermalStandard_{Solitude, 1}, …"
      ]
     },
     "execution_count": 76,
     "metadata": {},
     "output_type": "execute_result"
    }
   ],
   "source": [
    "variable_map"
   ]
  },
  {
   "cell_type": "code",
   "execution_count": null,
   "id": "834383fb",
   "metadata": {},
   "outputs": [],
   "source": []
  }
 ],
 "metadata": {
  "kernelspec": {
   "display_name": "Julia 1.7.2",
   "language": "julia",
   "name": "julia-1.7"
  },
  "language_info": {
   "file_extension": ".jl",
   "mimetype": "application/julia",
   "name": "julia",
   "version": "1.7.2"
  }
 },
 "nbformat": 4,
 "nbformat_minor": 5
}
